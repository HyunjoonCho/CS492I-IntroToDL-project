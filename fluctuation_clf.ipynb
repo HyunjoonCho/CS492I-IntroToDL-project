{
 "cells": [
  {
   "cell_type": "code",
   "execution_count": null,
   "metadata": {},
   "outputs": [],
   "source": [
    "# !pip install pytorch-transformers\n",
    "# !git clone https://github.com/HyunjoonCho/CS492I-IntroToDL-project.git\n",
    "# import os\n",
    "# os.chdir('CS492I-IntroToDL-project')"
   ]
  },
  {
   "cell_type": "code",
   "execution_count": 2,
   "metadata": {},
   "outputs": [],
   "source": [
    "import torch\n",
    "import torch.nn.functional as F\n",
    "import torch.optim as optim\n",
    "from torch.utils.data import Dataset, DataLoader\n",
    "from pytorch_transformers import BertTokenizer, BertForSequenceClassification\n",
    "import os\n",
    "import random\n",
    "from pathlib import Path"
   ]
  },
  {
   "cell_type": "code",
   "execution_count": null,
   "metadata": {},
   "outputs": [],
   "source": [
    "# from google.colab import drive\n",
    "# drive.mount('/gdrive')\n",
    "\n",
    "# drive_root = '/gdrive/My Drive/CS492I/project-pretrain'\n",
    "# print(os.listdir(Path(drive_root)))"
   ]
  },
  {
   "cell_type": "code",
   "execution_count": null,
   "metadata": {},
   "outputs": [],
   "source": [
    "from easydict import EasyDict as edict\n",
    "\n",
    "args = edict()\n",
    "args.gpu = True\n",
    "args.batch_size = 4\n",
    "args.num_epochs = 15\n",
    "args.learning_rate = 1e-6\n",
    "\n",
    "device = 'cuda' if torch.cuda.is_available() and args.gpu else 'cpu'"
   ]
  },
  {
   "cell_type": "code",
   "execution_count": null,
   "metadata": {},
   "outputs": [],
   "source": [
    "tokenizer = BertTokenizer.from_pretrained('bert-base-multilingual-cased')\n",
    "bert_fluctuation_clf = BertForSequenceClassification.from_pretrained('bert-base-multilingual-cased', num_labels=4)"
   ]
  },
  {
   "cell_type": "code",
   "execution_count": 7,
   "metadata": {},
   "outputs": [
    {
     "name": "stdout",
     "output_type": "stream",
     "text": [
      "3604 596 612\n"
     ]
    }
   ],
   "source": [
    "dataset_train = []\n",
    "dataset_val = []\n",
    "dataset_test = []\n",
    "\n",
    "root = Path('dataset/fluctuation')\n",
    "\n",
    "years = os.listdir(root)\n",
    "for year in years:\n",
    "    categories = os.listdir(root / year)\n",
    "    min_count = min([len(os.listdir(root / year / cat)) for cat in categories])\n",
    "    train_count = int(min_count * 0.75)\n",
    "    val_count = min_count // 8\n",
    "    for cat in categories:\n",
    "        files = random.sample(os.listdir(root / year / cat), min_count)\n",
    "        for i,f in enumerate(files):\n",
    "            fname = root / year / cat / f\n",
    "            with open(fname, 'r', encoding='utf-8') as file:\n",
    "                strings = file.read()\n",
    "                if i < train_count:\n",
    "                    dataset_train.append([strings, cat])\n",
    "                elif i < train_count + val_count:\n",
    "                    dataset_val.append([strings, cat])\n",
    "                else:\n",
    "                    dataset_test.append([strings,cat])\n",
    "\n",
    "print(len(dataset_train), len(dataset_val), len(dataset_test))"
   ]
  },
  {
   "cell_type": "code",
   "execution_count": 6,
   "metadata": {},
   "outputs": [
    {
     "name": "stdout",
     "output_type": "stream",
     "text": [
      "[솔루션 구축 우수 사례] SK하이닉스, 컨테이너 앱 플랫폼\n",
      "0\n"
     ]
    }
   ],
   "source": [
    "print(dataset_train[0][0][:64]) #sentence\n",
    "print(dataset_train[0][1]) #label"
   ]
  },
  {
   "cell_type": "code",
   "execution_count": null,
   "metadata": {},
   "outputs": [],
   "source": [
    "class BERTDataset(Dataset):\n",
    "    def __init__(self, dataset, sent_idx, label_idx):\n",
    "        # 현재 i[sent_idx] 가 본문\n",
    "        self.sentences = [i[sent_idx][:64] for i in dataset]\n",
    "        self.labels = [i[label_idx] for i in dataset]\n",
    "\n",
    "    def __getitem__(self, i):\n",
    "        return self.sentences[i], self.labels[i]\n",
    "\n",
    "    def __len__(self):\n",
    "        return (len(self.labels))"
   ]
  },
  {
   "cell_type": "code",
   "execution_count": null,
   "metadata": {},
   "outputs": [],
   "source": [
    "data_train = BERTDataset(dataset_train, 0, 1)\n",
    "data_val = BERTDataset(dataset_val, 0, 1)\n",
    "data_test = BERTDataset(dataset_test, 0, 1)"
   ]
  },
  {
   "cell_type": "code",
   "execution_count": null,
   "metadata": {},
   "outputs": [],
   "source": [
    "train_dataloader = DataLoader(data_train, batch_size=args.batch_size, num_workers=5, shuffle=True)\n",
    "val_dataloader = DataLoader(data_val, batch_size=args.batch_size, num_workers=5, shuffle=True)\n",
    "test_dataloader = DataLoader(data_test, batch_size=args.batch_size, num_workers=5, shuffle=True)"
   ]
  },
  {
   "cell_type": "code",
   "execution_count": null,
   "metadata": {},
   "outputs": [],
   "source": [
    "bert_fluctuation_clf.to(device)"
   ]
  },
  {
   "cell_type": "code",
   "execution_count": null,
   "metadata": {},
   "outputs": [],
   "source": [
    "def save_model(model, mode='last'):\n",
    "    torch.save(model.state_dict(),  Path('pretrained_models') / f'{type(model).__name__}_Fluctuation_{mode}.ckpt')\n",
    "    # torch.save(model.state_dict(), Path(drive_root) / f'{type(model).__name__}_Category_{mode}.ckpt')"
   ]
  },
  {
   "cell_type": "code",
   "execution_count": null,
   "metadata": {},
   "outputs": [],
   "source": [
    "optimizer = optim.AdamW(bert_fluctuation_clf.parameters(), lr=args.learning_rate)\n",
    "best_val_loss = float('inf')\n",
    "\n",
    "for epoch in range(args.num_epochs):\n",
    "    \n",
    "    bert_fluctuation_clf.train()\n",
    "    train_loss = 0\n",
    "    total_len = 0\n",
    "    total_correct = 0\n",
    "    for sentence, label in train_dataloader:\n",
    "        optimizer.zero_grad()\n",
    "        \n",
    "        encoded_list = [tokenizer.encode(t,add_special_tokens=True) for t in sentence]\n",
    "        padded_list =  [e + [0] * (512-len(e)) for e in encoded_list]\n",
    "        \n",
    "        sample = torch.tensor(padded_list)\n",
    "        label = tuple((int(x[0])) for x in label)\n",
    "        label = torch.tensor(label)\n",
    "        sample = sample.to(device)\n",
    "        label = label.to(device)\n",
    "        \n",
    "        labels = torch.tensor(label)\n",
    "        loss, logits = bert_fluctuation_clf(sample, labels=labels)\n",
    "\n",
    "        pred = torch.argmax(F.softmax(logits), dim=1)        \n",
    "        correct = pred.eq(labels)\n",
    "        total_correct += correct.sum().item()\n",
    "        total_len += len(labels)\n",
    "        train_loss += loss.item()\n",
    "        loss.backward()\n",
    "        optimizer.step()\n",
    "    print('[Epoch {}/{}] -> Train Loss: {:.4f}, Accuracy: {:.3f}'.format(epoch + 1, args.num_epochs, train_loss, total_correct / total_len))\n",
    "    \n",
    "    with torch.no_grad():\n",
    "        bert_fluctuation_clf.eval()\n",
    "        val_loss = 0\n",
    "        v_total_correct = 0\n",
    "        v_total_len = 0\n",
    "        for sentence, label in val_dataloader:\n",
    "            encoded_list = [tokenizer.encode(t,add_special_tokens=True) for t in sentence]\n",
    "            padded_list =  [e + [0] * (512-len(e)) for e in encoded_list]\n",
    "            \n",
    "            sample = torch.tensor(padded_list)\n",
    "            label = tuple((int(x[0])) for x in label)\n",
    "            label = torch.tensor(label)\n",
    "            sample = sample.to(device)\n",
    "            label = label.to(device)\n",
    "            \n",
    "            labels = torch.tensor(label)\n",
    "            loss, logits = bert_fluctuation_clf(sample, labels=labels)\n",
    "            \n",
    "            pred = torch.argmax(F.softmax(logits), dim=1)        \n",
    "            correct = pred.eq(labels)\n",
    "            val_loss += loss.item()\n",
    "            v_total_correct += correct.sum().item()\n",
    "            v_total_len += len(labels)\n",
    "        print('[Epoch {}/{}] -> Validation Loss: {:.4f}, Accuracy: {:.3f}'.format(epoch + 1, args.num_epochs, val_loss, v_total_correct / v_total_len))\n",
    "    if val_loss < best_val_loss:\n",
    "        best_val_loss = val_loss\n",
    "        save_model(bert_fluctuation_clf, 'best')\n",
    "    save_model(bert_fluctuation_clf)"
   ]
  },
  {
   "cell_type": "code",
   "execution_count": null,
   "metadata": {},
   "outputs": [],
   "source": [
    "bert_fluctuation_clf.eval()\n",
    "\n",
    "total_loss = 0\n",
    "total_len = 0\n",
    "total_correct = 0\n",
    "with torch.no_grad():\n",
    "    for sentence, label in test_dataloader:\n",
    "        encoded_list = [tokenizer.encode(t,add_special_tokens=True) for t in sentence]\n",
    "        padded_list =  [e + [0] * (512-len(e)) for e in encoded_list]\n",
    "        sample = torch.tensor(padded_list)\n",
    "        label = tuple((int(x[0])) for x in label)\n",
    "        label = torch.tensor(label)\n",
    "        sample = sample.to(device)\n",
    "        label = label.to(device)\n",
    "            \n",
    "        labels = torch.tensor(label)\n",
    "        _, logits = bert_fluctuation_clf(sample, labels=labels)\n",
    "\n",
    "        pred = torch.argmax(F.softmax(logits), dim=1)\n",
    "        correct = pred.eq(labels)\n",
    "        total_correct += correct.sum().item()\n",
    "        total_len += len(labels)\n",
    "\n",
    "print('Test accuracy: ', total_correct / total_len)"
   ]
  },
  {
   "cell_type": "code",
   "execution_count": null,
   "metadata": {},
   "outputs": [],
   "source": [
    "def test_model(model, seq):\n",
    "    cate = [\"대폭 하락\",\"소폭 하락\",\"소폭 상승\", \"대폭 상승\"]\n",
    "    tmp = [seq]\n",
    "    encoded_list = [tokenizer.encode(t,add_special_tokens=True) for t in tmp]\n",
    "    padded_list =  [e + [0] * (512-len(e)) for e in encoded_list]\n",
    "    sample = torch.tensor(padded_list)\n",
    "\n",
    "    labels = torch.tensor([1]).unsqueeze(0)\n",
    "    sample = sample.to(device)\n",
    "    labels = labels.to(device)\n",
    "    _, logits = model(sample, labels=labels)\n",
    "\n",
    "    pred = torch.argmax(F.softmax(logits), dim=1)\n",
    "\n",
    "    print(\"주가 변동은:\", cate[pred])\n",
    "    print(\"신뢰도는:\", \"{:.2f}%\".format(F.softmax(logits).max().item() * 100))"
   ]
  },
  {
   "cell_type": "markdown",
   "metadata": {},
   "source": [
    "test_model(bert_fluctuation_clf, \"\"갤Z폴드·플립3 대단하네\"…삼성, 3분기 폴더블폰 시장 '싹쓸이'\")"
   ]
  }
 ],
 "metadata": {
  "interpreter": {
   "hash": "2647ea34e536f865ab67ff9ddee7fd78773d956cec0cab53c79b32cd10da5d83"
  },
  "kernelspec": {
   "display_name": "Python 3.9.0 64-bit",
   "language": "python",
   "name": "python3"
  },
  "language_info": {
   "codemirror_mode": {
    "name": "ipython",
    "version": 3
   },
   "file_extension": ".py",
   "mimetype": "text/x-python",
   "name": "python",
   "nbconvert_exporter": "python",
   "pygments_lexer": "ipython3",
   "version": "3.9.0"
  },
  "orig_nbformat": 4
 },
 "nbformat": 4,
 "nbformat_minor": 2
}
