{
 "cells": [
  {
   "cell_type": "code",
   "execution_count": 2,
   "metadata": {},
   "outputs": [],
   "source": [
    "import torch\n",
    "import torch.nn.functional as F\n",
    "import torch.optim as optim\n",
    "from torch.utils.data import Dataset, DataLoader\n",
    "from pytorch_transformers import BertTokenizer, BertForSequenceClassification\n",
    "import os\n",
    "import random\n",
    "from pathlib import Path"
   ]
  },
  {
   "cell_type": "code",
   "execution_count": null,
   "metadata": {},
   "outputs": [],
   "source": [
    "from easydict import EasyDict as edict\n",
    "\n",
    "args = edict()\n",
    "args.gpu = True\n",
    "args.batch_size = 4\n",
    "args.num_epochs = 15\n",
    "args.warmup_ratio = 0.1\n",
    "args.max_grad_norm = 1\n",
    "args.log_interval = 200\n",
    "args.learning_rate =  5e-5\n",
    "\n",
    "device = 'cuda' if torch.cuda.is_available() and args.gpu else 'cpu'"
   ]
  },
  {
   "cell_type": "code",
   "execution_count": null,
   "metadata": {},
   "outputs": [],
   "source": [
    "tokenizer = BertTokenizer.from_pretrained('bert-base-multilingual-cased')\n",
    "bert_fluctuation_clf = BertForSequenceClassification.from_pretrained('bert-base-multilingual-cased', num_labels=4)"
   ]
  },
  {
   "cell_type": "code",
   "execution_count": 7,
   "metadata": {},
   "outputs": [
    {
     "name": "stdout",
     "output_type": "stream",
     "text": [
      "3604 596 612\n"
     ]
    }
   ],
   "source": [
    "dataset_train = []\n",
    "dataset_val = []\n",
    "dataset_test = []\n",
    "\n",
    "root = Path('dataset/fluctuation')\n",
    "\n",
    "years = os.listdir(root)\n",
    "for year in years:\n",
    "    categories = os.listdir(root / year)\n",
    "    min_count = min([len(os.listdir(root / year / cat)) for cat in categories])\n",
    "    train_count = int(min_count * 0.75)\n",
    "    val_count = min_count // 8\n",
    "    for cat in categories:\n",
    "        files = random.sample(os.listdir(root / year / cat), min_count)\n",
    "        for i,f in enumerate(files):\n",
    "            fname = root / year / cat / f\n",
    "            with open(fname, 'r', encoding='utf-8') as file:\n",
    "                strings = file.read()\n",
    "                if i < train_count:\n",
    "                    dataset_train.append([strings, cat])\n",
    "                elif i < train_count + val_count:\n",
    "                    dataset_val.append([strings, cat])\n",
    "                else:\n",
    "                    dataset_test.append([strings,cat])\n",
    "\n",
    "print(len(dataset_train), len(dataset_val), len(dataset_test))"
   ]
  },
  {
   "cell_type": "code",
   "execution_count": 6,
   "metadata": {},
   "outputs": [
    {
     "name": "stdout",
     "output_type": "stream",
     "text": [
      "[솔루션 구축 우수 사례] SK하이닉스, 컨테이너 앱 플랫폼\n",
      "0\n"
     ]
    }
   ],
   "source": [
    "print(dataset_train[0][0][:64]) #sentence\n",
    "print(dataset_train[0][1]) #label"
   ]
  },
  {
   "cell_type": "code",
   "execution_count": null,
   "metadata": {},
   "outputs": [],
   "source": [
    "class BERTDataset(Dataset):\n",
    "    def __init__(self, dataset, sent_idx, label_idx):\n",
    "        # 현재 i[sent_idx] 가 본문\n",
    "        self.sentences = [i[sent_idx][:64] for i in dataset]\n",
    "        self.labels = [i[label_idx] for i in dataset]\n",
    "\n",
    "    def __getitem__(self, i):\n",
    "        return self.sentences[i], self.labels[i]\n",
    "\n",
    "    def __len__(self):\n",
    "        return (len(self.labels))"
   ]
  },
  {
   "cell_type": "code",
   "execution_count": null,
   "metadata": {},
   "outputs": [],
   "source": [
    "data_train = BERTDataset(dataset_train, 0, 1)\n",
    "data_val = BERTDataset(dataset_val, 0, 1)\n",
    "data_test = BERTDataset(dataset_test, 0, 1)"
   ]
  },
  {
   "cell_type": "code",
   "execution_count": null,
   "metadata": {},
   "outputs": [],
   "source": [
    "train_dataloader = DataLoader(data_train, batch_size=args.batch_size, num_workers=5, shuffle=True)\n",
    "val_dataloader = DataLoader(data_val, batch_size=args.batch_size, num_workers=5, shuffle=True)\n",
    "test_dataloader = DataLoader(data_test, batch_size=args.batch_size, num_workers=5, shuffle=True)"
   ]
  },
  {
   "cell_type": "code",
   "execution_count": null,
   "metadata": {},
   "outputs": [],
   "source": [
    "bert_fluctuation_clf.to(device)"
   ]
  },
  {
   "cell_type": "code",
   "execution_count": null,
   "metadata": {},
   "outputs": [],
   "source": [
    "def save_model(model, mode='last'):\n",
    "    torch.save(model.state_dict(),  Path('pretrained_models') / f'{type(model).__name__}_{mode}.ckpt')"
   ]
  },
  {
   "cell_type": "code",
   "execution_count": null,
   "metadata": {},
   "outputs": [],
   "source": [
    "optimizer = optim.AdamW(bert_fluctuation_clf.parameters(), lr=args.learning_rate)\n",
    "itr=1\n",
    "p_itr=200\n",
    "total_loss = 0\n",
    "total_len = 0\n",
    "total_correct = 0\n",
    "best_val_loss = float('inf') #TODO: split validation set..\n",
    "\n",
    "for epoch in range(args.num_epochs):\n",
    "    \n",
    "    bert_fluctuation_clf.train()\n",
    "    total_loss = 0\n",
    "    total_len = 0\n",
    "    total_correct = 0\n",
    "    for sentence, label in train_dataloader:\n",
    "        optimizer.zero_grad()\n",
    "        \n",
    "        encoded_list = [tokenizer.encode(t,add_special_tokens=True) for t in sentence]\n",
    "        padded_list =  [e + [0] * (512-len(e)) for e in encoded_list]\n",
    "        \n",
    "        sample = torch.tensor(padded_list)\n",
    "        label = tuple((int(x[0])) for x in label)\n",
    "        label = torch.tensor(label)\n",
    "        sample = sample.to(device)\n",
    "        label = label.to(device)\n",
    "        \n",
    "        labels = torch.tensor(label)\n",
    "        outputs = bert_fluctuation_clf(sample, labels=labels)\n",
    "        loss, logits = outputs\n",
    "\n",
    "        pred = torch.argmax(F.softmax(logits), dim=1)        \n",
    "        correct = pred.eq(labels)\n",
    "        total_correct += correct.sum().item()\n",
    "        total_len += len(labels)\n",
    "        total_loss += loss.item()\n",
    "        loss.backward()\n",
    "        optimizer.step()\n",
    "    print('[Epoch {}/{}] -> Train Loss: {:.4f}, Accuracy: {:.3f}'.format(epoch + 1, args.num_epochs, total_loss, total_correct / total_len))\n",
    "    \n",
    "    bert_fluctuation_clf.eval()\n",
    "    val_loss = 0\n",
    "    v_total_correct = 0\n",
    "    v_total_len = 0\n",
    "    for sentence, label in val_dataloader:\n",
    "        encoded_list = [tokenizer.encode(t,add_special_tokens=True) for t in sentence]\n",
    "        padded_list =  [e + [0] * (512-len(e)) for e in encoded_list]\n",
    "        \n",
    "        sample = torch.tensor(padded_list)\n",
    "        label = tuple((int(x[0])) for x in label)\n",
    "        label = torch.tensor(label)\n",
    "        sample = sample.to(device)\n",
    "        label = label.to(device)\n",
    "        \n",
    "        labels = torch.tensor(label)\n",
    "        outputs = bert_fluctuation_clf(sample, labels=labels)\n",
    "        loss, logits = outputs\n",
    "        \n",
    "        pred = torch.argmax(F.softmax(logits), dim=1)        \n",
    "        correct = pred.eq(labels)\n",
    "        val_loss += loss.item()\n",
    "        v_total_correct += correct.sum().item()\n",
    "        v_total_len += len(labels)\n",
    "    print('[Epoch {}/{}] -> Validation Accuracy: {:.3f}'.format(epoch + 1, args.num_epochs, v_total_correct / v_total_len))\n",
    "    if val_loss < best_val_loss:\n",
    "        best_val_loss = val_loss\n",
    "        save_model(bert_fluctuation_clf, 'best')\n",
    "    save_model(bert_fluctuation_clf)"
   ]
  },
  {
   "cell_type": "code",
   "execution_count": null,
   "metadata": {},
   "outputs": [],
   "source": [
    "bert_fluctuation_clf.eval()\n",
    "\n",
    "total_loss = 0\n",
    "total_len = 0\n",
    "total_correct = 0\n",
    "\n",
    "for sentence, label in test_dataloader:\n",
    "    encoded_list = [tokenizer.encode(t,add_special_tokens=True) for t in sentence]\n",
    "    padded_list =  [e + [0] * (512-len(e)) for e in encoded_list]\n",
    "    sample = torch.tensor(padded_list)\n",
    "    label = tuple((int(x[0])) for x in label)\n",
    "    label = torch.tensor(label)\n",
    "    sample = sample.to(device)\n",
    "    label = label.to(device)\n",
    "        \n",
    "    labels = torch.tensor(label)\n",
    "    outputs = bert_fluctuation_clf(sample, labels=labels)\n",
    "    _, logits = outputs\n",
    "\n",
    "    pred = torch.argmax(F.softmax(logits), dim=1)\n",
    "    correct = pred.eq(labels)\n",
    "    total_correct += correct.sum().item()\n",
    "    total_len += len(labels)\n",
    "\n",
    "print('Test accuracy: ', total_correct / total_len)"
   ]
  }
 ],
 "metadata": {
  "interpreter": {
   "hash": "2647ea34e536f865ab67ff9ddee7fd78773d956cec0cab53c79b32cd10da5d83"
  },
  "kernelspec": {
   "display_name": "Python 3.9.0 64-bit",
   "language": "python",
   "name": "python3"
  },
  "language_info": {
   "codemirror_mode": {
    "name": "ipython",
    "version": 3
   },
   "file_extension": ".py",
   "mimetype": "text/x-python",
   "name": "python",
   "nbconvert_exporter": "python",
   "pygments_lexer": "ipython3",
   "version": "3.9.0"
  },
  "orig_nbformat": 4
 },
 "nbformat": 4,
 "nbformat_minor": 2
}
