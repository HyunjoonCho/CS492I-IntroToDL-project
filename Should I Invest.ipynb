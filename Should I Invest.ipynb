{
 "cells": [
  {
   "cell_type": "code",
   "execution_count": 1,
   "id": "b2d21e3c",
   "metadata": {},
   "outputs": [
    {
     "name": "stderr",
     "output_type": "stream",
     "text": [
      "2021-12-07 09:53:23.866403: W tensorflow/stream_executor/platform/default/dso_loader.cc:64] Could not load dynamic library 'libcudart.so.11.0'; dlerror: libcudart.so.11.0: cannot open shared object file: No such file or directory\n",
      "2021-12-07 09:53:23.866439: I tensorflow/stream_executor/cuda/cudart_stub.cc:29] Ignore above cudart dlerror if you do not have a GPU set up on your machine.\n"
     ]
    }
   ],
   "source": [
    "#for BERT model\n",
    "\n",
    "import torch\n",
    "from torch import nn\n",
    "import torch.nn.functional as F\n",
    "import torch.optim as optim\n",
    "from torch.utils.data import Dataset, DataLoader\n",
    "import gluonnlp as nlp\n",
    "import numpy as np\n",
    "from tqdm import tqdm, tqdm_notebook\n",
    "import os\n",
    "from transformers import AdamW\n",
    "from transformers.optimization import get_cosine_schedule_with_warmup\n",
    "import pandas as pd\n",
    "from pytorch_transformers import BertTokenizer, BertForSequenceClassification, BertConfig"
   ]
  },
  {
   "cell_type": "code",
   "execution_count": 2,
   "id": "f9cc9ff1",
   "metadata": {},
   "outputs": [],
   "source": [
    "device = torch.device(\"cuda\")\n",
    "\n",
    "tokenizer_price = BertTokenizer.from_pretrained('bert-base-multilingual-cased')\n",
    "bertmodel_price = BertForSequenceClassification.from_pretrained('bert-base-multilingual-cased', num_labels=4)"
   ]
  },
  {
   "cell_type": "code",
   "execution_count": 3,
   "id": "767b44b5",
   "metadata": {},
   "outputs": [
    {
     "name": "stdout",
     "output_type": "stream",
     "text": [
      "3848 1069\n"
     ]
    }
   ],
   "source": [
    "#BERT 모델을 위한 데이터 수집 과정\n",
    "\n",
    "dataset_train_price = []\n",
    "dataset_test_price = []\n",
    "\n",
    "root = \"new_exp_2020/\"\n",
    "list = os.listdir(root)\n",
    "for cat in list:\n",
    "    files = os.listdir(root + cat)\n",
    "    for i,f in enumerate(files):\n",
    "        if (f == '.ipynb_checkpoints'):\n",
    "            continue\n",
    "        fname = root + cat + \"/\" + f\n",
    "        file = open(fname, \"r\", encoding=\"utf-8\")\n",
    "        strings = file.read()\n",
    "        if i<480:\n",
    "            dataset_train_price.append([strings, cat])\n",
    "        elif i<604:\n",
    "            dataset_test_price.append([strings,cat])\n",
    "        file.close()\n",
    "        \n",
    "root2 = \"new_exp_2019/\"\n",
    "list = os.listdir(root2)\n",
    "for cat in list:\n",
    "    files = os.listdir(root2 + cat)\n",
    "    for i,f in enumerate(files):\n",
    "        if (f == '.ipynb_checkpoints'):\n",
    "            continue\n",
    "        fname = root2 + cat + \"/\" + f\n",
    "        file = open(fname, \"r\", encoding=\"utf-8\")\n",
    "        strings = file.read()\n",
    "        if i<201:\n",
    "            dataset_train_price.append([strings, cat])\n",
    "        elif i<278:\n",
    "            dataset_test_price.append([strings,cat])\n",
    "        file.close()\n",
    "        \n",
    "root3 = \"new_exp_2018/\"\n",
    "list = os.listdir(root3)\n",
    "for cat in list:\n",
    "    files = os.listdir(root3 + cat)\n",
    "    for i,f in enumerate(files):\n",
    "        if (f == '.ipynb_checkpoints'):\n",
    "            continue\n",
    "        fname = root3 + cat + \"/\" + f\n",
    "        file = open(fname, \"r\", encoding=\"utf-8\")\n",
    "        strings = file.read()\n",
    "        if i<281:\n",
    "            dataset_train_price.append([strings, cat])\n",
    "        elif i<356:\n",
    "            dataset_test_price.append([strings,cat])\n",
    "        file.close()\n",
    "\n",
    "print(len(dataset_train_price), len(dataset_test_price))"
   ]
  },
  {
   "cell_type": "code",
   "execution_count": 4,
   "id": "9a625d04",
   "metadata": {},
   "outputs": [
    {
     "name": "stdout",
     "output_type": "stream",
     "text": [
      "삼성전자, 미국 이동통신 사업자 'US 셀룰러'와 5G·4G 통신장비 공급 계약 체결 [르포] '시스템 반도체 1위\n",
      "0\n"
     ]
    }
   ],
   "source": [
    "print(dataset_train_price[0][0][:64]) #sentence\n",
    "print(dataset_train_price[0][1]) #label"
   ]
  },
  {
   "cell_type": "code",
   "execution_count": 5,
   "id": "14a2a8c1",
   "metadata": {},
   "outputs": [],
   "source": [
    "class BERTDataset(Dataset):\n",
    "    def __init__(self, dataset, sent_idx, label_idx):\n",
    "        # 현재 i[sent_idx] 가 본문\n",
    "        self.sentences = [i[sent_idx][:64] for i in dataset]\n",
    "        self.labels = [i[label_idx] for i in dataset]\n",
    "\n",
    "    def __getitem__(self, i):\n",
    "        return self.sentences[i], self.labels[i]\n",
    "\n",
    "    def __len__(self):\n",
    "        return (len(self.labels))"
   ]
  },
  {
   "cell_type": "code",
   "execution_count": 6,
   "id": "5890920d",
   "metadata": {},
   "outputs": [],
   "source": [
    "batch_size = 4\n",
    "num_epochs = 15\n",
    "warmup_ratio = 0.1\n",
    "max_grad_norm = 1\n",
    "log_interval = 200\n",
    "learning_rate =  5e-5"
   ]
  },
  {
   "cell_type": "code",
   "execution_count": 7,
   "id": "0cd46d27",
   "metadata": {},
   "outputs": [],
   "source": [
    "data_train_price = BERTDataset(dataset_train_price, 0, 1)\n",
    "data_test_price = BERTDataset(dataset_test_price, 0, 1)"
   ]
  },
  {
   "cell_type": "code",
   "execution_count": 8,
   "id": "37b64662",
   "metadata": {},
   "outputs": [],
   "source": [
    "train_dataloader_price = torch.utils.data.DataLoader(data_train_price, batch_size=batch_size, num_workers=5, shuffle=True)\n",
    "test_dataloader_price = torch.utils.data.DataLoader(data_test_price, batch_size=batch_size, num_workers=5, shuffle=True)"
   ]
  },
  {
   "cell_type": "code",
   "execution_count": 9,
   "id": "9c5500d9",
   "metadata": {},
   "outputs": [
    {
     "data": {
      "text/plain": [
       "BertForSequenceClassification(\n",
       "  (bert): BertModel(\n",
       "    (embeddings): BertEmbeddings(\n",
       "      (word_embeddings): Embedding(119547, 768, padding_idx=0)\n",
       "      (position_embeddings): Embedding(512, 768)\n",
       "      (token_type_embeddings): Embedding(2, 768)\n",
       "      (LayerNorm): LayerNorm((768,), eps=1e-12, elementwise_affine=True)\n",
       "      (dropout): Dropout(p=0.1, inplace=False)\n",
       "    )\n",
       "    (encoder): BertEncoder(\n",
       "      (layer): ModuleList(\n",
       "        (0): BertLayer(\n",
       "          (attention): BertAttention(\n",
       "            (self): BertSelfAttention(\n",
       "              (query): Linear(in_features=768, out_features=768, bias=True)\n",
       "              (key): Linear(in_features=768, out_features=768, bias=True)\n",
       "              (value): Linear(in_features=768, out_features=768, bias=True)\n",
       "              (dropout): Dropout(p=0.1, inplace=False)\n",
       "            )\n",
       "            (output): BertSelfOutput(\n",
       "              (dense): Linear(in_features=768, out_features=768, bias=True)\n",
       "              (LayerNorm): LayerNorm((768,), eps=1e-12, elementwise_affine=True)\n",
       "              (dropout): Dropout(p=0.1, inplace=False)\n",
       "            )\n",
       "          )\n",
       "          (intermediate): BertIntermediate(\n",
       "            (dense): Linear(in_features=768, out_features=3072, bias=True)\n",
       "          )\n",
       "          (output): BertOutput(\n",
       "            (dense): Linear(in_features=3072, out_features=768, bias=True)\n",
       "            (LayerNorm): LayerNorm((768,), eps=1e-12, elementwise_affine=True)\n",
       "            (dropout): Dropout(p=0.1, inplace=False)\n",
       "          )\n",
       "        )\n",
       "        (1): BertLayer(\n",
       "          (attention): BertAttention(\n",
       "            (self): BertSelfAttention(\n",
       "              (query): Linear(in_features=768, out_features=768, bias=True)\n",
       "              (key): Linear(in_features=768, out_features=768, bias=True)\n",
       "              (value): Linear(in_features=768, out_features=768, bias=True)\n",
       "              (dropout): Dropout(p=0.1, inplace=False)\n",
       "            )\n",
       "            (output): BertSelfOutput(\n",
       "              (dense): Linear(in_features=768, out_features=768, bias=True)\n",
       "              (LayerNorm): LayerNorm((768,), eps=1e-12, elementwise_affine=True)\n",
       "              (dropout): Dropout(p=0.1, inplace=False)\n",
       "            )\n",
       "          )\n",
       "          (intermediate): BertIntermediate(\n",
       "            (dense): Linear(in_features=768, out_features=3072, bias=True)\n",
       "          )\n",
       "          (output): BertOutput(\n",
       "            (dense): Linear(in_features=3072, out_features=768, bias=True)\n",
       "            (LayerNorm): LayerNorm((768,), eps=1e-12, elementwise_affine=True)\n",
       "            (dropout): Dropout(p=0.1, inplace=False)\n",
       "          )\n",
       "        )\n",
       "        (2): BertLayer(\n",
       "          (attention): BertAttention(\n",
       "            (self): BertSelfAttention(\n",
       "              (query): Linear(in_features=768, out_features=768, bias=True)\n",
       "              (key): Linear(in_features=768, out_features=768, bias=True)\n",
       "              (value): Linear(in_features=768, out_features=768, bias=True)\n",
       "              (dropout): Dropout(p=0.1, inplace=False)\n",
       "            )\n",
       "            (output): BertSelfOutput(\n",
       "              (dense): Linear(in_features=768, out_features=768, bias=True)\n",
       "              (LayerNorm): LayerNorm((768,), eps=1e-12, elementwise_affine=True)\n",
       "              (dropout): Dropout(p=0.1, inplace=False)\n",
       "            )\n",
       "          )\n",
       "          (intermediate): BertIntermediate(\n",
       "            (dense): Linear(in_features=768, out_features=3072, bias=True)\n",
       "          )\n",
       "          (output): BertOutput(\n",
       "            (dense): Linear(in_features=3072, out_features=768, bias=True)\n",
       "            (LayerNorm): LayerNorm((768,), eps=1e-12, elementwise_affine=True)\n",
       "            (dropout): Dropout(p=0.1, inplace=False)\n",
       "          )\n",
       "        )\n",
       "        (3): BertLayer(\n",
       "          (attention): BertAttention(\n",
       "            (self): BertSelfAttention(\n",
       "              (query): Linear(in_features=768, out_features=768, bias=True)\n",
       "              (key): Linear(in_features=768, out_features=768, bias=True)\n",
       "              (value): Linear(in_features=768, out_features=768, bias=True)\n",
       "              (dropout): Dropout(p=0.1, inplace=False)\n",
       "            )\n",
       "            (output): BertSelfOutput(\n",
       "              (dense): Linear(in_features=768, out_features=768, bias=True)\n",
       "              (LayerNorm): LayerNorm((768,), eps=1e-12, elementwise_affine=True)\n",
       "              (dropout): Dropout(p=0.1, inplace=False)\n",
       "            )\n",
       "          )\n",
       "          (intermediate): BertIntermediate(\n",
       "            (dense): Linear(in_features=768, out_features=3072, bias=True)\n",
       "          )\n",
       "          (output): BertOutput(\n",
       "            (dense): Linear(in_features=3072, out_features=768, bias=True)\n",
       "            (LayerNorm): LayerNorm((768,), eps=1e-12, elementwise_affine=True)\n",
       "            (dropout): Dropout(p=0.1, inplace=False)\n",
       "          )\n",
       "        )\n",
       "        (4): BertLayer(\n",
       "          (attention): BertAttention(\n",
       "            (self): BertSelfAttention(\n",
       "              (query): Linear(in_features=768, out_features=768, bias=True)\n",
       "              (key): Linear(in_features=768, out_features=768, bias=True)\n",
       "              (value): Linear(in_features=768, out_features=768, bias=True)\n",
       "              (dropout): Dropout(p=0.1, inplace=False)\n",
       "            )\n",
       "            (output): BertSelfOutput(\n",
       "              (dense): Linear(in_features=768, out_features=768, bias=True)\n",
       "              (LayerNorm): LayerNorm((768,), eps=1e-12, elementwise_affine=True)\n",
       "              (dropout): Dropout(p=0.1, inplace=False)\n",
       "            )\n",
       "          )\n",
       "          (intermediate): BertIntermediate(\n",
       "            (dense): Linear(in_features=768, out_features=3072, bias=True)\n",
       "          )\n",
       "          (output): BertOutput(\n",
       "            (dense): Linear(in_features=3072, out_features=768, bias=True)\n",
       "            (LayerNorm): LayerNorm((768,), eps=1e-12, elementwise_affine=True)\n",
       "            (dropout): Dropout(p=0.1, inplace=False)\n",
       "          )\n",
       "        )\n",
       "        (5): BertLayer(\n",
       "          (attention): BertAttention(\n",
       "            (self): BertSelfAttention(\n",
       "              (query): Linear(in_features=768, out_features=768, bias=True)\n",
       "              (key): Linear(in_features=768, out_features=768, bias=True)\n",
       "              (value): Linear(in_features=768, out_features=768, bias=True)\n",
       "              (dropout): Dropout(p=0.1, inplace=False)\n",
       "            )\n",
       "            (output): BertSelfOutput(\n",
       "              (dense): Linear(in_features=768, out_features=768, bias=True)\n",
       "              (LayerNorm): LayerNorm((768,), eps=1e-12, elementwise_affine=True)\n",
       "              (dropout): Dropout(p=0.1, inplace=False)\n",
       "            )\n",
       "          )\n",
       "          (intermediate): BertIntermediate(\n",
       "            (dense): Linear(in_features=768, out_features=3072, bias=True)\n",
       "          )\n",
       "          (output): BertOutput(\n",
       "            (dense): Linear(in_features=3072, out_features=768, bias=True)\n",
       "            (LayerNorm): LayerNorm((768,), eps=1e-12, elementwise_affine=True)\n",
       "            (dropout): Dropout(p=0.1, inplace=False)\n",
       "          )\n",
       "        )\n",
       "        (6): BertLayer(\n",
       "          (attention): BertAttention(\n",
       "            (self): BertSelfAttention(\n",
       "              (query): Linear(in_features=768, out_features=768, bias=True)\n",
       "              (key): Linear(in_features=768, out_features=768, bias=True)\n",
       "              (value): Linear(in_features=768, out_features=768, bias=True)\n",
       "              (dropout): Dropout(p=0.1, inplace=False)\n",
       "            )\n",
       "            (output): BertSelfOutput(\n",
       "              (dense): Linear(in_features=768, out_features=768, bias=True)\n",
       "              (LayerNorm): LayerNorm((768,), eps=1e-12, elementwise_affine=True)\n",
       "              (dropout): Dropout(p=0.1, inplace=False)\n",
       "            )\n",
       "          )\n",
       "          (intermediate): BertIntermediate(\n",
       "            (dense): Linear(in_features=768, out_features=3072, bias=True)\n",
       "          )\n",
       "          (output): BertOutput(\n",
       "            (dense): Linear(in_features=3072, out_features=768, bias=True)\n",
       "            (LayerNorm): LayerNorm((768,), eps=1e-12, elementwise_affine=True)\n",
       "            (dropout): Dropout(p=0.1, inplace=False)\n",
       "          )\n",
       "        )\n",
       "        (7): BertLayer(\n",
       "          (attention): BertAttention(\n",
       "            (self): BertSelfAttention(\n",
       "              (query): Linear(in_features=768, out_features=768, bias=True)\n",
       "              (key): Linear(in_features=768, out_features=768, bias=True)\n",
       "              (value): Linear(in_features=768, out_features=768, bias=True)\n",
       "              (dropout): Dropout(p=0.1, inplace=False)\n",
       "            )\n",
       "            (output): BertSelfOutput(\n",
       "              (dense): Linear(in_features=768, out_features=768, bias=True)\n",
       "              (LayerNorm): LayerNorm((768,), eps=1e-12, elementwise_affine=True)\n",
       "              (dropout): Dropout(p=0.1, inplace=False)\n",
       "            )\n",
       "          )\n",
       "          (intermediate): BertIntermediate(\n",
       "            (dense): Linear(in_features=768, out_features=3072, bias=True)\n",
       "          )\n",
       "          (output): BertOutput(\n",
       "            (dense): Linear(in_features=3072, out_features=768, bias=True)\n",
       "            (LayerNorm): LayerNorm((768,), eps=1e-12, elementwise_affine=True)\n",
       "            (dropout): Dropout(p=0.1, inplace=False)\n",
       "          )\n",
       "        )\n",
       "        (8): BertLayer(\n",
       "          (attention): BertAttention(\n",
       "            (self): BertSelfAttention(\n",
       "              (query): Linear(in_features=768, out_features=768, bias=True)\n",
       "              (key): Linear(in_features=768, out_features=768, bias=True)\n",
       "              (value): Linear(in_features=768, out_features=768, bias=True)\n",
       "              (dropout): Dropout(p=0.1, inplace=False)\n",
       "            )\n",
       "            (output): BertSelfOutput(\n",
       "              (dense): Linear(in_features=768, out_features=768, bias=True)\n",
       "              (LayerNorm): LayerNorm((768,), eps=1e-12, elementwise_affine=True)\n",
       "              (dropout): Dropout(p=0.1, inplace=False)\n",
       "            )\n",
       "          )\n",
       "          (intermediate): BertIntermediate(\n",
       "            (dense): Linear(in_features=768, out_features=3072, bias=True)\n",
       "          )\n",
       "          (output): BertOutput(\n",
       "            (dense): Linear(in_features=3072, out_features=768, bias=True)\n",
       "            (LayerNorm): LayerNorm((768,), eps=1e-12, elementwise_affine=True)\n",
       "            (dropout): Dropout(p=0.1, inplace=False)\n",
       "          )\n",
       "        )\n",
       "        (9): BertLayer(\n",
       "          (attention): BertAttention(\n",
       "            (self): BertSelfAttention(\n",
       "              (query): Linear(in_features=768, out_features=768, bias=True)\n",
       "              (key): Linear(in_features=768, out_features=768, bias=True)\n",
       "              (value): Linear(in_features=768, out_features=768, bias=True)\n",
       "              (dropout): Dropout(p=0.1, inplace=False)\n",
       "            )\n",
       "            (output): BertSelfOutput(\n",
       "              (dense): Linear(in_features=768, out_features=768, bias=True)\n",
       "              (LayerNorm): LayerNorm((768,), eps=1e-12, elementwise_affine=True)\n",
       "              (dropout): Dropout(p=0.1, inplace=False)\n",
       "            )\n",
       "          )\n",
       "          (intermediate): BertIntermediate(\n",
       "            (dense): Linear(in_features=768, out_features=3072, bias=True)\n",
       "          )\n",
       "          (output): BertOutput(\n",
       "            (dense): Linear(in_features=3072, out_features=768, bias=True)\n",
       "            (LayerNorm): LayerNorm((768,), eps=1e-12, elementwise_affine=True)\n",
       "            (dropout): Dropout(p=0.1, inplace=False)\n",
       "          )\n",
       "        )\n",
       "        (10): BertLayer(\n",
       "          (attention): BertAttention(\n",
       "            (self): BertSelfAttention(\n",
       "              (query): Linear(in_features=768, out_features=768, bias=True)\n",
       "              (key): Linear(in_features=768, out_features=768, bias=True)\n",
       "              (value): Linear(in_features=768, out_features=768, bias=True)\n",
       "              (dropout): Dropout(p=0.1, inplace=False)\n",
       "            )\n",
       "            (output): BertSelfOutput(\n",
       "              (dense): Linear(in_features=768, out_features=768, bias=True)\n",
       "              (LayerNorm): LayerNorm((768,), eps=1e-12, elementwise_affine=True)\n",
       "              (dropout): Dropout(p=0.1, inplace=False)\n",
       "            )\n",
       "          )\n",
       "          (intermediate): BertIntermediate(\n",
       "            (dense): Linear(in_features=768, out_features=3072, bias=True)\n",
       "          )\n",
       "          (output): BertOutput(\n",
       "            (dense): Linear(in_features=3072, out_features=768, bias=True)\n",
       "            (LayerNorm): LayerNorm((768,), eps=1e-12, elementwise_affine=True)\n",
       "            (dropout): Dropout(p=0.1, inplace=False)\n",
       "          )\n",
       "        )\n",
       "        (11): BertLayer(\n",
       "          (attention): BertAttention(\n",
       "            (self): BertSelfAttention(\n",
       "              (query): Linear(in_features=768, out_features=768, bias=True)\n",
       "              (key): Linear(in_features=768, out_features=768, bias=True)\n",
       "              (value): Linear(in_features=768, out_features=768, bias=True)\n",
       "              (dropout): Dropout(p=0.1, inplace=False)\n",
       "            )\n",
       "            (output): BertSelfOutput(\n",
       "              (dense): Linear(in_features=768, out_features=768, bias=True)\n",
       "              (LayerNorm): LayerNorm((768,), eps=1e-12, elementwise_affine=True)\n",
       "              (dropout): Dropout(p=0.1, inplace=False)\n",
       "            )\n",
       "          )\n",
       "          (intermediate): BertIntermediate(\n",
       "            (dense): Linear(in_features=768, out_features=3072, bias=True)\n",
       "          )\n",
       "          (output): BertOutput(\n",
       "            (dense): Linear(in_features=3072, out_features=768, bias=True)\n",
       "            (LayerNorm): LayerNorm((768,), eps=1e-12, elementwise_affine=True)\n",
       "            (dropout): Dropout(p=0.1, inplace=False)\n",
       "          )\n",
       "        )\n",
       "      )\n",
       "    )\n",
       "    (pooler): BertPooler(\n",
       "      (dense): Linear(in_features=768, out_features=768, bias=True)\n",
       "      (activation): Tanh()\n",
       "    )\n",
       "  )\n",
       "  (dropout): Dropout(p=0.1, inplace=False)\n",
       "  (classifier): Linear(in_features=768, out_features=4, bias=True)\n",
       ")"
      ]
     },
     "execution_count": 9,
     "metadata": {},
     "output_type": "execute_result"
    }
   ],
   "source": [
    "bertmodel_price.to(device)"
   ]
  },
  {
   "cell_type": "code",
   "execution_count": 10,
   "id": "06c43da6",
   "metadata": {},
   "outputs": [
    {
     "name": "stdout",
     "output_type": "stream",
     "text": [
      "('‘패밀리카 끝판왕’ 기아 신형 카니발-“가족이 VIP입니다” [조재환의 카테크] 무선 카플레이·안드로이드 오토에 소', '삼성전자, 반도체 협력사에 상반기 인센티브 지급 삼성전자, \\'반도체\\'를 소재로 한 단편영화 〈메모리즈〉 공개 \"갤럭', '삼성바이오로직스 \"3공장 수주물량, 연말까지 두 배 이상 끌어올릴 것\"', \"삼성전자, 구글 AI스피커 통해 '듣는 뉴스' 실험 중 얇고 강력하게 재탄생한 게이밍 노트북, 삼성전자 오디세이 Z\")\n",
      "tensor([3, 2, 2, 2])\n"
     ]
    }
   ],
   "source": [
    "for text,label in train_dataloader_price:\n",
    "    print(text)\n",
    "    result = tuple((int(x[0])) for x in label)\n",
    "    result = torch.tensor(result)\n",
    "    print(result)\n",
    "    break"
   ]
  },
  {
   "cell_type": "code",
   "execution_count": 11,
   "id": "3679c9bf",
   "metadata": {},
   "outputs": [
    {
     "name": "stderr",
     "output_type": "stream",
     "text": [
      "/home/minhyuk/venv/lib/python3.7/site-packages/ipykernel_launcher.py:26: UserWarning: To copy construct from a tensor, it is recommended to use sourceTensor.clone().detach() or sourceTensor.clone().detach().requires_grad_(True), rather than torch.tensor(sourceTensor).\n",
      "/home/minhyuk/venv/lib/python3.7/site-packages/ipykernel_launcher.py:30: UserWarning: Implicit dimension choice for softmax has been deprecated. Change the call to include dim=X as an argument.\n"
     ]
    },
    {
     "name": "stdout",
     "output_type": "stream",
     "text": [
      "[Epoch 1/15] -> Train Loss: 1336.9806, Accuracy: 0.247\n"
     ]
    },
    {
     "name": "stderr",
     "output_type": "stream",
     "text": [
      "/home/minhyuk/venv/lib/python3.7/site-packages/ipykernel_launcher.py:54: UserWarning: To copy construct from a tensor, it is recommended to use sourceTensor.clone().detach() or sourceTensor.clone().detach().requires_grad_(True), rather than torch.tensor(sourceTensor).\n",
      "/home/minhyuk/venv/lib/python3.7/site-packages/ipykernel_launcher.py:58: UserWarning: Implicit dimension choice for softmax has been deprecated. Change the call to include dim=X as an argument.\n"
     ]
    },
    {
     "name": "stdout",
     "output_type": "stream",
     "text": [
      "[Epoch 1/15] -> Test Accuracy: 0.262\n",
      "[Epoch 2/15] -> Train Loss: 1323.2267, Accuracy: 0.288\n",
      "[Epoch 2/15] -> Test Accuracy: 0.286\n",
      "[Epoch 3/15] -> Train Loss: 1214.2771, Accuracy: 0.367\n",
      "[Epoch 3/15] -> Test Accuracy: 0.341\n",
      "[Epoch 4/15] -> Train Loss: 1174.0751, Accuracy: 0.391\n",
      "[Epoch 4/15] -> Test Accuracy: 0.347\n",
      "[Epoch 5/15] -> Train Loss: 1151.5724, Accuracy: 0.394\n",
      "[Epoch 5/15] -> Test Accuracy: 0.316\n",
      "[Epoch 6/15] -> Train Loss: 1147.3337, Accuracy: 0.402\n",
      "[Epoch 6/15] -> Test Accuracy: 0.327\n",
      "[Epoch 7/15] -> Train Loss: 1139.9130, Accuracy: 0.404\n",
      "[Epoch 7/15] -> Test Accuracy: 0.295\n",
      "[Epoch 8/15] -> Train Loss: 1132.3563, Accuracy: 0.408\n",
      "[Epoch 8/15] -> Test Accuracy: 0.346\n",
      "[Epoch 9/15] -> Train Loss: 1120.6969, Accuracy: 0.419\n",
      "[Epoch 9/15] -> Test Accuracy: 0.353\n",
      "[Epoch 10/15] -> Train Loss: 1109.8313, Accuracy: 0.423\n",
      "[Epoch 10/15] -> Test Accuracy: 0.349\n",
      "[Epoch 11/15] -> Train Loss: 1094.7914, Accuracy: 0.423\n",
      "[Epoch 11/15] -> Test Accuracy: 0.376\n",
      "[Epoch 12/15] -> Train Loss: 1088.2807, Accuracy: 0.416\n",
      "[Epoch 12/15] -> Test Accuracy: 0.354\n",
      "[Epoch 13/15] -> Train Loss: 1078.2059, Accuracy: 0.420\n",
      "[Epoch 13/15] -> Test Accuracy: 0.347\n",
      "[Epoch 14/15] -> Train Loss: 1071.3915, Accuracy: 0.435\n",
      "[Epoch 14/15] -> Test Accuracy: 0.325\n",
      "[Epoch 15/15] -> Train Loss: 1063.5423, Accuracy: 0.431\n",
      "[Epoch 15/15] -> Test Accuracy: 0.371\n"
     ]
    }
   ],
   "source": [
    "optimizer = optim.AdamW(bertmodel_price.parameters(), lr=1e-6)\n",
    "itr=1\n",
    "p_itr=200\n",
    "total_loss = 0\n",
    "total_len = 0\n",
    "total_correct = 0\n",
    "\n",
    "for epoch in range(num_epochs):\n",
    "    \n",
    "    bertmodel_price.train()\n",
    "    total_loss = 0\n",
    "    total_len = 0\n",
    "    total_correct = 0\n",
    "    for sentence, label in train_dataloader_price:\n",
    "        optimizer.zero_grad()\n",
    "        \n",
    "        encoded_list = [tokenizer_price.encode(t,add_special_tokens=True) for t in sentence]\n",
    "        padded_list =  [e + [0] * (512-len(e)) for e in encoded_list]\n",
    "        \n",
    "        sample = torch.tensor(padded_list)\n",
    "        label = tuple((int(x[0])) for x in label)\n",
    "        label = torch.tensor(label)\n",
    "        sample = sample.to(device)\n",
    "        label = label.to(device)\n",
    "        \n",
    "        labels = torch.tensor(label)\n",
    "        outputs = bertmodel_price(sample, labels=labels)\n",
    "        loss, logits = outputs\n",
    "\n",
    "        pred = torch.argmax(F.softmax(logits), dim=1)        \n",
    "        correct = pred.eq(labels)\n",
    "        total_correct += correct.sum().item()\n",
    "        total_len += len(labels)\n",
    "        total_loss += loss.item()\n",
    "        loss.backward()\n",
    "        #torch.nn.utils.clip_grad_norm_(model.parameters(), max_grad_norm)\n",
    "        optimizer.step()\n",
    "        #scheduler.step()    \n",
    "    print('[Epoch {}/{}] -> Train Loss: {:.4f}, Accuracy: {:.3f}'.format(epoch+1, num_epochs, total_loss, total_correct/total_len))\n",
    "    \n",
    "    bertmodel_price.eval()\n",
    "    t_total_correct = 0\n",
    "    t_total_len = 0\n",
    "    for sentence, label in test_dataloader_price:\n",
    "        encoded_list = [tokenizer_price.encode(t,add_special_tokens=True) for t in sentence]\n",
    "        padded_list =  [e + [0] * (512-len(e)) for e in encoded_list]\n",
    "        \n",
    "        sample = torch.tensor(padded_list)\n",
    "        label = tuple((int(x[0])) for x in label)\n",
    "        label = torch.tensor(label)\n",
    "        sample = sample.to(device)\n",
    "        label = label.to(device)\n",
    "        \n",
    "        labels = torch.tensor(label)\n",
    "        outputs = bertmodel_price(sample, labels=labels)\n",
    "        _, logits = outputs\n",
    "        \n",
    "        pred = torch.argmax(F.softmax(logits), dim=1)        \n",
    "        correct = pred.eq(labels)\n",
    "        t_total_correct += correct.sum().item()\n",
    "        t_total_len += len(labels)\n",
    "    print('[Epoch {}/{}] -> Test Accuracy: {:.3f}'.format(epoch+1, num_epochs, t_total_correct/t_total_len))"
   ]
  },
  {
   "cell_type": "code",
   "execution_count": 12,
   "id": "7cfb1582",
   "metadata": {},
   "outputs": [
    {
     "name": "stderr",
     "output_type": "stream",
     "text": [
      "/home/minhyuk/venv/lib/python3.7/site-packages/ipykernel_launcher.py:16: UserWarning: To copy construct from a tensor, it is recommended to use sourceTensor.clone().detach() or sourceTensor.clone().detach().requires_grad_(True), rather than torch.tensor(sourceTensor).\n",
      "  app.launch_new_instance()\n",
      "/home/minhyuk/venv/lib/python3.7/site-packages/ipykernel_launcher.py:20: UserWarning: Implicit dimension choice for softmax has been deprecated. Change the call to include dim=X as an argument.\n"
     ]
    },
    {
     "name": "stdout",
     "output_type": "stream",
     "text": [
      "Test accuracy:  0.3713751169317119\n"
     ]
    }
   ],
   "source": [
    "bertmodel_price.eval()\n",
    "\n",
    "total_loss = 0\n",
    "total_len = 0\n",
    "total_correct = 0\n",
    "\n",
    "for sentence, label in test_dataloader_price:\n",
    "    encoded_list = [tokenizer_price.encode(t,add_special_tokens=True) for t in sentence]\n",
    "    padded_list =  [e + [0] * (512-len(e)) for e in encoded_list]\n",
    "    sample = torch.tensor(padded_list)\n",
    "    label = tuple((int(x[0])) for x in label)\n",
    "    label = torch.tensor(label)\n",
    "    sample = sample.to(device)\n",
    "    label = label.to(device)\n",
    "        \n",
    "    labels = torch.tensor(label)\n",
    "    outputs = bertmodel_price(sample, labels=labels)\n",
    "    _, logits = outputs\n",
    "\n",
    "    pred = torch.argmax(F.softmax(logits), dim=1)\n",
    "    correct = pred.eq(labels)\n",
    "    total_correct += correct.sum().item()\n",
    "    total_len += len(labels)\n",
    "\n",
    "print('Test accuracy: ', total_correct / total_len)"
   ]
  },
  {
   "cell_type": "code",
   "execution_count": 13,
   "id": "0973ac5a",
   "metadata": {},
   "outputs": [],
   "source": [
    "#for classfied crawler\n",
    "\n",
    "from bs4 import BeautifulSoup as bs\n",
    "import pandas as pd\n",
    "import requests\n",
    "import datetime\n",
    "import FinanceDataReader as fdr\n",
    "from requests.adapters import HTTPAdapter\n",
    "\n",
    "import torch\n",
    "from torch import nn\n",
    "import torch.nn.functional as F\n",
    "import torch.optim as optim\n",
    "from torch.utils.data import Dataset, DataLoader\n",
    "import gluonnlp as nlp\n",
    "import numpy as np\n",
    "from tqdm import tqdm, tqdm_notebook\n",
    "\n",
    "import os\n",
    "import re\n",
    "\n",
    "from kobert.utils import get_tokenizer\n",
    "from kobert.pytorch_kobert import get_pytorch_kobert_model\n",
    "from transformers import AdamW\n",
    "from transformers.optimization import get_cosine_schedule_with_warmup"
   ]
  },
  {
   "cell_type": "code",
   "execution_count": 14,
   "id": "d59c3d52",
   "metadata": {},
   "outputs": [
    {
     "name": "stdout",
     "output_type": "stream",
     "text": [
      "using cached model\n",
      "using cached model\n"
     ]
    }
   ],
   "source": [
    "device = torch.device(\"cuda\")\n",
    "bertmodel_crawl, vocab = get_pytorch_kobert_model()"
   ]
  },
  {
   "cell_type": "code",
   "execution_count": 15,
   "id": "910c2f4f",
   "metadata": {},
   "outputs": [
    {
     "name": "stdout",
     "output_type": "stream",
     "text": [
      "1360 240\n"
     ]
    }
   ],
   "source": [
    "dataset_train_crawl = []\n",
    "dataset_test_crawl = []\n",
    "\n",
    "root = \"newsData/\"\n",
    "list = os.listdir(root)\n",
    "for cat in list:\n",
    "    files = os.listdir(root + cat)\n",
    "    for i,f in enumerate(files):\n",
    "        fname = root + cat + \"/\" + f\n",
    "        file = open(fname, \"r\", encoding=\"utf-8\")\n",
    "        strings = file.read()\n",
    "        if i<170:\n",
    "            dataset_train_crawl.append([strings, cat])\n",
    "        else:\n",
    "            dataset_test_crawl.append([strings,cat])\n",
    "        file.close()\n",
    "\n",
    "print(len(dataset_train_crawl), len(dataset_test_crawl))"
   ]
  },
  {
   "cell_type": "code",
   "execution_count": 16,
   "id": "36c98945",
   "metadata": {},
   "outputs": [
    {
     "name": "stdout",
     "output_type": "stream",
     "text": [
      "using cached model\n"
     ]
    }
   ],
   "source": [
    "tokenizer_crawl = get_tokenizer()\n",
    "tok_crawl = nlp.data.BERTSPTokenizer(tokenizer_crawl, vocab, lower=False)"
   ]
  },
  {
   "cell_type": "code",
   "execution_count": 17,
   "id": "ac226040",
   "metadata": {},
   "outputs": [],
   "source": [
    "class BERTDataset(Dataset):\n",
    "    def __init__(self, dataset, sent_idx, label_idx, bert_tokenizer, max_len, pad, pair):\n",
    "        transform = nlp.data.BERTSentenceTransform(\n",
    "            bert_tokenizer, max_seq_length=max_len, pad=pad, pair=pair)\n",
    "\n",
    "        self.sentences = [transform([i[sent_idx]]) for i in dataset]\n",
    "        self.labels = [np.int32(i[label_idx]) for i in dataset]\n",
    "\n",
    "    def __getitem__(self, i):\n",
    "        return (self.sentences[i] + (self.labels[i], ))\n",
    "\n",
    "    def __len__(self):\n",
    "        return (len(self.labels))"
   ]
  },
  {
   "cell_type": "code",
   "execution_count": 18,
   "id": "427ba440",
   "metadata": {},
   "outputs": [],
   "source": [
    "max_len = 64\n",
    "batch_size = 16\n",
    "warmup_ratio = 0.1\n",
    "num_epochs = 10\n",
    "max_grad_norm = 1\n",
    "log_interval = 200\n",
    "learning_rate =  5e-5"
   ]
  },
  {
   "cell_type": "code",
   "execution_count": 20,
   "id": "38b17af8",
   "metadata": {
    "scrolled": true
   },
   "outputs": [],
   "source": [
    "data_train_crawl = BERTDataset(dataset_train_crawl, 0, 1, tok_crawl, max_len, True, False)\n",
    "data_test_crawl = BERTDataset(dataset_test_crawl, 0, 1, tok_crawl, max_len, True, False)"
   ]
  },
  {
   "cell_type": "code",
   "execution_count": 21,
   "id": "f45787fa",
   "metadata": {},
   "outputs": [],
   "source": [
    "train_dataloader_crawl = torch.utils.data.DataLoader(data_train_crawl, batch_size=batch_size, num_workers=5, shuffle=True)\n",
    "test_dataloader_crawl = torch.utils.data.DataLoader(data_test_crawl, batch_size=batch_size, num_workers=5, shuffle=True)"
   ]
  },
  {
   "cell_type": "code",
   "execution_count": 22,
   "id": "1497921a",
   "metadata": {},
   "outputs": [],
   "source": [
    "class BERTClassifier(nn.Module):\n",
    "    def __init__(self,\n",
    "                 bert,\n",
    "                 hidden_size = 768,\n",
    "                 num_classes=8,\n",
    "                 dr_rate=None,\n",
    "                 params=None):\n",
    "        super(BERTClassifier, self).__init__()\n",
    "        self.bert = bert\n",
    "        self.dr_rate = dr_rate\n",
    "                 \n",
    "        self.classifier = nn.Linear(hidden_size , num_classes)\n",
    "        if dr_rate:\n",
    "            self.dropout = nn.Dropout(p=dr_rate)\n",
    "    \n",
    "    def gen_attention_mask(self, token_ids, valid_length):\n",
    "        attention_mask = torch.zeros_like(token_ids)\n",
    "        for i, v in enumerate(valid_length):\n",
    "            attention_mask[i][:v] = 1\n",
    "        return attention_mask.float()\n",
    "\n",
    "    def forward(self, token_ids, valid_length, segment_ids):\n",
    "        attention_mask = self.gen_attention_mask(token_ids, valid_length)\n",
    "        \n",
    "        _, pooler = self.bert(input_ids = token_ids, token_type_ids = segment_ids.long(), attention_mask = attention_mask.float().to(token_ids.device), return_dict=False)\n",
    "\n",
    "        if self.dr_rate:\n",
    "            out = self.dropout(pooler)\n",
    "        return self.classifier(out)"
   ]
  },
  {
   "cell_type": "code",
   "execution_count": 23,
   "id": "d044471c",
   "metadata": {},
   "outputs": [],
   "source": [
    "my_bertmodel_crawl = BERTClassifier(bertmodel_crawl,  dr_rate=0.5).to(device)"
   ]
  },
  {
   "cell_type": "code",
   "execution_count": 24,
   "id": "313d6c92",
   "metadata": {},
   "outputs": [],
   "source": [
    "no_decay = ['bias', 'LayerNorm.weight']\n",
    "optimizer_grouped_parameters = [\n",
    "    {'params': [p for n, p in my_bertmodel_crawl.named_parameters() if not any(nd in n for nd in no_decay)], 'weight_decay': 0.01},\n",
    "    {'params': [p for n, p in my_bertmodel_crawl.named_parameters() if any(nd in n for nd in no_decay)], 'weight_decay': 0.0}\n",
    "]"
   ]
  },
  {
   "cell_type": "code",
   "execution_count": 25,
   "id": "8bc90025",
   "metadata": {},
   "outputs": [],
   "source": [
    "optimizer = AdamW(optimizer_grouped_parameters, lr=learning_rate)\n",
    "loss_fn = nn.CrossEntropyLoss()"
   ]
  },
  {
   "cell_type": "code",
   "execution_count": 26,
   "id": "7ff45bb4",
   "metadata": {},
   "outputs": [],
   "source": [
    "t_total = len(train_dataloader_crawl) * num_epochs\n",
    "warmup_step = int(t_total * warmup_ratio)"
   ]
  },
  {
   "cell_type": "code",
   "execution_count": 27,
   "id": "a609f82e",
   "metadata": {},
   "outputs": [],
   "source": [
    "scheduler = get_cosine_schedule_with_warmup(optimizer, num_warmup_steps=warmup_step, num_training_steps=t_total)"
   ]
  },
  {
   "cell_type": "code",
   "execution_count": 28,
   "id": "46b20664",
   "metadata": {},
   "outputs": [],
   "source": [
    "def calc_accuracy(X,Y):\n",
    "    max_vals, max_indices = torch.max(X, 1)\n",
    "    train_acc = (max_indices == Y).sum().data.cpu().numpy()/max_indices.size()[0]\n",
    "    return train_acc"
   ]
  },
  {
   "cell_type": "code",
   "execution_count": 29,
   "id": "d400c293",
   "metadata": {},
   "outputs": [],
   "source": [
    "import gc\n",
    "gc.collect()\n",
    "torch.cuda.empty_cache()"
   ]
  },
  {
   "cell_type": "code",
   "execution_count": 30,
   "id": "3efe4e19",
   "metadata": {},
   "outputs": [
    {
     "name": "stderr",
     "output_type": "stream",
     "text": [
      "/home/minhyuk/venv/lib/python3.7/site-packages/ipykernel_launcher.py:5: TqdmDeprecationWarning: This function will be removed in tqdm==5.0.0\n",
      "Please use `tqdm.notebook.tqdm` instead of `tqdm.tqdm_notebook`\n",
      "  \"\"\"\n"
     ]
    },
    {
     "data": {
      "application/vnd.jupyter.widget-view+json": {
       "model_id": "aae5b4dd3bc5468093d24b2f5840d280",
       "version_major": 2,
       "version_minor": 0
      },
      "text/plain": [
       "  0%|          | 0/85 [00:00<?, ?it/s]"
      ]
     },
     "metadata": {},
     "output_type": "display_data"
    },
    {
     "name": "stdout",
     "output_type": "stream",
     "text": [
      "epoch 1 train acc 0.22205882352941175\n"
     ]
    },
    {
     "name": "stderr",
     "output_type": "stream",
     "text": [
      "/home/minhyuk/venv/lib/python3.7/site-packages/ipykernel_launcher.py:22: TqdmDeprecationWarning: This function will be removed in tqdm==5.0.0\n",
      "Please use `tqdm.notebook.tqdm` instead of `tqdm.tqdm_notebook`\n"
     ]
    },
    {
     "data": {
      "application/vnd.jupyter.widget-view+json": {
       "model_id": "a1be80c9b2c14fd781725b6bdebcd8f5",
       "version_major": 2,
       "version_minor": 0
      },
      "text/plain": [
       "  0%|          | 0/15 [00:00<?, ?it/s]"
      ]
     },
     "metadata": {},
     "output_type": "display_data"
    },
    {
     "name": "stdout",
     "output_type": "stream",
     "text": [
      "epoch 1 test acc 0.7083333333333334\n"
     ]
    },
    {
     "data": {
      "application/vnd.jupyter.widget-view+json": {
       "model_id": "ee97fd58db27493e9f7e6f3718e24af2",
       "version_major": 2,
       "version_minor": 0
      },
      "text/plain": [
       "  0%|          | 0/85 [00:00<?, ?it/s]"
      ]
     },
     "metadata": {},
     "output_type": "display_data"
    },
    {
     "name": "stdout",
     "output_type": "stream",
     "text": [
      "epoch 2 train acc 0.8154411764705882\n"
     ]
    },
    {
     "data": {
      "application/vnd.jupyter.widget-view+json": {
       "model_id": "9cc8e38a97d94026bf75e37cc2044a21",
       "version_major": 2,
       "version_minor": 0
      },
      "text/plain": [
       "  0%|          | 0/15 [00:00<?, ?it/s]"
      ]
     },
     "metadata": {},
     "output_type": "display_data"
    },
    {
     "name": "stdout",
     "output_type": "stream",
     "text": [
      "epoch 2 test acc 0.8833333333333333\n"
     ]
    },
    {
     "data": {
      "application/vnd.jupyter.widget-view+json": {
       "model_id": "6042f34cd8664bcb877cc4f2200f0a0c",
       "version_major": 2,
       "version_minor": 0
      },
      "text/plain": [
       "  0%|          | 0/85 [00:00<?, ?it/s]"
      ]
     },
     "metadata": {},
     "output_type": "display_data"
    },
    {
     "name": "stdout",
     "output_type": "stream",
     "text": [
      "epoch 3 train acc 0.9\n"
     ]
    },
    {
     "data": {
      "application/vnd.jupyter.widget-view+json": {
       "model_id": "263e207bbf9e40289e0d4b71bec0b152",
       "version_major": 2,
       "version_minor": 0
      },
      "text/plain": [
       "  0%|          | 0/15 [00:00<?, ?it/s]"
      ]
     },
     "metadata": {},
     "output_type": "display_data"
    },
    {
     "name": "stdout",
     "output_type": "stream",
     "text": [
      "epoch 3 test acc 0.8541666666666666\n"
     ]
    },
    {
     "data": {
      "application/vnd.jupyter.widget-view+json": {
       "model_id": "8134b1d4866544a399d77d59eafd389e",
       "version_major": 2,
       "version_minor": 0
      },
      "text/plain": [
       "  0%|          | 0/85 [00:00<?, ?it/s]"
      ]
     },
     "metadata": {},
     "output_type": "display_data"
    },
    {
     "name": "stdout",
     "output_type": "stream",
     "text": [
      "epoch 4 train acc 0.9330882352941177\n"
     ]
    },
    {
     "data": {
      "application/vnd.jupyter.widget-view+json": {
       "model_id": "1d7676b8e5d64290948b5c50cd365d3f",
       "version_major": 2,
       "version_minor": 0
      },
      "text/plain": [
       "  0%|          | 0/15 [00:00<?, ?it/s]"
      ]
     },
     "metadata": {},
     "output_type": "display_data"
    },
    {
     "name": "stdout",
     "output_type": "stream",
     "text": [
      "epoch 4 test acc 0.8666666666666667\n"
     ]
    },
    {
     "data": {
      "application/vnd.jupyter.widget-view+json": {
       "model_id": "35ac12065e784e1491733f701a1e2406",
       "version_major": 2,
       "version_minor": 0
      },
      "text/plain": [
       "  0%|          | 0/85 [00:00<?, ?it/s]"
      ]
     },
     "metadata": {},
     "output_type": "display_data"
    },
    {
     "name": "stdout",
     "output_type": "stream",
     "text": [
      "epoch 5 train acc 0.9669117647058824\n"
     ]
    },
    {
     "data": {
      "application/vnd.jupyter.widget-view+json": {
       "model_id": "c523d4fabc7d47f998cc6e7afbb413b9",
       "version_major": 2,
       "version_minor": 0
      },
      "text/plain": [
       "  0%|          | 0/15 [00:00<?, ?it/s]"
      ]
     },
     "metadata": {},
     "output_type": "display_data"
    },
    {
     "name": "stdout",
     "output_type": "stream",
     "text": [
      "epoch 5 test acc 0.8666666666666667\n"
     ]
    },
    {
     "data": {
      "application/vnd.jupyter.widget-view+json": {
       "model_id": "ae717b1ff27b4d3ab1159fbd366fb255",
       "version_major": 2,
       "version_minor": 0
      },
      "text/plain": [
       "  0%|          | 0/85 [00:00<?, ?it/s]"
      ]
     },
     "metadata": {},
     "output_type": "display_data"
    },
    {
     "name": "stdout",
     "output_type": "stream",
     "text": [
      "epoch 6 train acc 0.9786764705882353\n"
     ]
    },
    {
     "data": {
      "application/vnd.jupyter.widget-view+json": {
       "model_id": "7d970de99e99454e8a10df72875f5480",
       "version_major": 2,
       "version_minor": 0
      },
      "text/plain": [
       "  0%|          | 0/15 [00:00<?, ?it/s]"
      ]
     },
     "metadata": {},
     "output_type": "display_data"
    },
    {
     "name": "stdout",
     "output_type": "stream",
     "text": [
      "epoch 6 test acc 0.875\n"
     ]
    },
    {
     "data": {
      "application/vnd.jupyter.widget-view+json": {
       "model_id": "2cdd6286160644599474ecf440eea881",
       "version_major": 2,
       "version_minor": 0
      },
      "text/plain": [
       "  0%|          | 0/85 [00:00<?, ?it/s]"
      ]
     },
     "metadata": {},
     "output_type": "display_data"
    },
    {
     "name": "stdout",
     "output_type": "stream",
     "text": [
      "epoch 7 train acc 0.9875\n"
     ]
    },
    {
     "data": {
      "application/vnd.jupyter.widget-view+json": {
       "model_id": "2e518b1d66494358b7eb38f654332ae4",
       "version_major": 2,
       "version_minor": 0
      },
      "text/plain": [
       "  0%|          | 0/15 [00:00<?, ?it/s]"
      ]
     },
     "metadata": {},
     "output_type": "display_data"
    },
    {
     "name": "stdout",
     "output_type": "stream",
     "text": [
      "epoch 7 test acc 0.8916666666666667\n"
     ]
    },
    {
     "data": {
      "application/vnd.jupyter.widget-view+json": {
       "model_id": "6ae769df097f42b08e8f8f68421eda20",
       "version_major": 2,
       "version_minor": 0
      },
      "text/plain": [
       "  0%|          | 0/85 [00:00<?, ?it/s]"
      ]
     },
     "metadata": {},
     "output_type": "display_data"
    },
    {
     "name": "stdout",
     "output_type": "stream",
     "text": [
      "epoch 8 train acc 0.9970588235294118\n"
     ]
    },
    {
     "data": {
      "application/vnd.jupyter.widget-view+json": {
       "model_id": "e32ec33ed3d14b02adeb496a72f7b465",
       "version_major": 2,
       "version_minor": 0
      },
      "text/plain": [
       "  0%|          | 0/15 [00:00<?, ?it/s]"
      ]
     },
     "metadata": {},
     "output_type": "display_data"
    },
    {
     "name": "stdout",
     "output_type": "stream",
     "text": [
      "epoch 8 test acc 0.8833333333333333\n"
     ]
    },
    {
     "data": {
      "application/vnd.jupyter.widget-view+json": {
       "model_id": "7b3209489ad848eea03e20aba4347f2f",
       "version_major": 2,
       "version_minor": 0
      },
      "text/plain": [
       "  0%|          | 0/85 [00:00<?, ?it/s]"
      ]
     },
     "metadata": {},
     "output_type": "display_data"
    },
    {
     "name": "stdout",
     "output_type": "stream",
     "text": [
      "epoch 9 train acc 0.9977941176470588\n"
     ]
    },
    {
     "data": {
      "application/vnd.jupyter.widget-view+json": {
       "model_id": "c001d81755724cbcb7e21cfbc2a49f3a",
       "version_major": 2,
       "version_minor": 0
      },
      "text/plain": [
       "  0%|          | 0/15 [00:00<?, ?it/s]"
      ]
     },
     "metadata": {},
     "output_type": "display_data"
    },
    {
     "name": "stdout",
     "output_type": "stream",
     "text": [
      "epoch 9 test acc 0.8791666666666667\n"
     ]
    },
    {
     "data": {
      "application/vnd.jupyter.widget-view+json": {
       "model_id": "6955626246004e58b62cd351d90f47a8",
       "version_major": 2,
       "version_minor": 0
      },
      "text/plain": [
       "  0%|          | 0/85 [00:00<?, ?it/s]"
      ]
     },
     "metadata": {},
     "output_type": "display_data"
    },
    {
     "name": "stdout",
     "output_type": "stream",
     "text": [
      "epoch 10 train acc 0.9985294117647059\n"
     ]
    },
    {
     "data": {
      "application/vnd.jupyter.widget-view+json": {
       "model_id": "e544a0dc8b2843f0b64a37ca2023f758",
       "version_major": 2,
       "version_minor": 0
      },
      "text/plain": [
       "  0%|          | 0/15 [00:00<?, ?it/s]"
      ]
     },
     "metadata": {},
     "output_type": "display_data"
    },
    {
     "name": "stdout",
     "output_type": "stream",
     "text": [
      "epoch 10 test acc 0.8791666666666667\n"
     ]
    }
   ],
   "source": [
    "for e in range(num_epochs):\n",
    "    train_acc = 0.0\n",
    "    test_acc = 0.0\n",
    "    my_bertmodel_crawl.train()\n",
    "    for batch_id, (token_ids, valid_length, segment_ids, label) in enumerate(tqdm_notebook(train_dataloader_crawl)):\n",
    "        optimizer.zero_grad()\n",
    "        token_ids = token_ids.long().to(device)\n",
    "        segment_ids = segment_ids.long().to(device)\n",
    "        valid_length= valid_length\n",
    "        label = label.long().to(device)\n",
    "        out = my_bertmodel_crawl(token_ids, valid_length, segment_ids)\n",
    "        loss = loss_fn(out, label)\n",
    "        loss.backward()\n",
    "        torch.nn.utils.clip_grad_norm_(my_bertmodel_crawl.parameters(), max_grad_norm)\n",
    "        optimizer.step()\n",
    "        scheduler.step()  # Update learning rate schedule\n",
    "        train_acc += calc_accuracy(out, label)\n",
    "        # if batch_id % log_interval == 0:\n",
    "        #     print(\"epoch {} batch id {} loss {} train acc {}\".format(e+1, batch_id+1, loss.data.cpu().numpy(), train_acc / (batch_id+1)))\n",
    "    print(\"epoch {} train acc {}\".format(e+1, train_acc / (batch_id+1)))\n",
    "    my_bertmodel_crawl.eval()\n",
    "    for batch_id, (token_ids, valid_length, segment_ids, label) in enumerate(tqdm_notebook(test_dataloader_crawl)):\n",
    "        token_ids = token_ids.long().to(device)\n",
    "        segment_ids = segment_ids.long().to(device)\n",
    "        valid_length= valid_length\n",
    "        label = label.long().to(device)\n",
    "        out = my_bertmodel_crawl(token_ids, valid_length, segment_ids)\n",
    "        test_acc += calc_accuracy(out, label)\n",
    "    print(\"epoch {} test acc {}\".format(e+1, test_acc / (batch_id+1)))"
   ]
  },
  {
   "cell_type": "code",
   "execution_count": 31,
   "id": "871c29b4",
   "metadata": {},
   "outputs": [],
   "source": [
    "def softmax(vals, idx):\n",
    "    valscpu = vals.cpu().detach().squeeze(0)\n",
    "    a = 0\n",
    "    for i in valscpu:\n",
    "        a += np.exp(i)\n",
    "    return ((np.exp(valscpu[idx]))/a).item() * 100"
   ]
  },
  {
   "cell_type": "code",
   "execution_count": 32,
   "id": "4a4b3ff3",
   "metadata": {},
   "outputs": [],
   "source": [
    "def loadStockData(symbol, startDate, endDate):\n",
    "    df_stock = fdr.DataReader(symbol, startDate.isoformat(), endDate.isoformat())\n",
    "    df_stock = df_stock[['Close']]\n",
    "    df_stock['Fluctuation'] = df_stock['Close'].div(df_stock['Close'].shift(1)).apply(lambda x : (x - 1) * 100)\n",
    "    return df_stock"
   ]
  },
  {
   "cell_type": "code",
   "execution_count": 33,
   "id": "1b6acdf2",
   "metadata": {},
   "outputs": [],
   "source": [
    "df_kospi = fdr.StockListing('KOSPI')\n",
    "\n",
    "def get_ticker(company_name):\n",
    "    return str(df_kospi.loc[df_kospi['Name'] == company_name]['Symbol'].values[0])\n",
    "\n",
    "companyName = 'LG전자'\n",
    "mycompanyNum = get_ticker(companyName)\n",
    "predictDate = datetime.date(2021 , 12, 7)"
   ]
  },
  {
   "cell_type": "code",
   "execution_count": 34,
   "id": "e1fef1ee",
   "metadata": {},
   "outputs": [],
   "source": [
    "def aggregateTitles(companyName, url):\n",
    "    resp = requests.get(url)\n",
    "    titles = []\n",
    "    cate = [\"정치\",\"경제\",\"사회\", \"생활/문화\",\"세계\",\"기술/IT\", \"연예\", \"스포츠\"]\n",
    "\n",
    "    for item in bs(resp.text, 'xml').find_all('item'):\n",
    "        title = item.title.string\n",
    "        source = item.source.string # 언론사\n",
    "        if(companyName in title):\n",
    "            newtitle = str(title.encode('utf-8'))\n",
    "            newtitle = re.sub(companyName,\"\",title)\n",
    "            tmp = [newtitle]\n",
    "            transform = nlp.data.BERTSentenceTransform(tok_crawl, max_len, pad=True, pair=False)\n",
    "            tokenized = transform(tmp)\n",
    "            \n",
    "            my_bertmodel_crawl.eval()\n",
    "            result = my_bertmodel_crawl(torch.tensor([tokenized[0]]).to(device), [tokenized[1]], torch.tensor(tokenized[2]).to(device))\n",
    "            idx = result.argmax().cpu().item()\n",
    "            if(idx==1 or idx==5):\n",
    "                titles.append(title[:title.find(source) - 3])\n",
    "\n",
    "    return ' '.join(titles)"
   ]
  },
  {
   "cell_type": "code",
   "execution_count": 36,
   "id": "a57e8fc3",
   "metadata": {},
   "outputs": [
    {
     "name": "stderr",
     "output_type": "stream",
     "text": [
      "/home/minhyuk/venv/lib/python3.7/site-packages/ipykernel_launcher.py:17: UserWarning: Creating a tensor from a list of numpy.ndarrays is extremely slow. Please consider converting the list to a single numpy.ndarray with numpy.array() before converting to a tensor. (Triggered internally at  ../torch/csrc/utils/tensor_new.cpp:201.)\n"
     ]
    }
   ],
   "source": [
    "df_stock = loadStockData(mycompanyNum, predictDate - datetime.timedelta(days=10), predictDate-datetime.timedelta(days=1))\n",
    "dateList = df_stock.index.map(lambda x: datetime.datetime.strftime(x, '%Y-%m-%d')).values\n",
    "\n",
    "country = ('ko', 'KR')\n",
    "idx = 1\n",
    "while idx < len(dateList):\n",
    "    url = f'https://news.google.com/rss/search?q={companyName}+after:{dateList[idx - 1]}+before:{dateList[idx]}& \\\n",
    "            hl={country[0]}&gl={country[1]}&ceid={country[1]}:{country[0]}'\n",
    "    aggTitle = aggregateTitles(companyName, url)\n",
    "    idx += 1"
   ]
  },
  {
   "cell_type": "code",
   "execution_count": 37,
   "id": "d56c0ada",
   "metadata": {},
   "outputs": [
    {
     "data": {
      "text/plain": [
       "\"욕실이 추우세요? LG전자 연구원이 에어컨 만들다 개발한 뜻밖의 제품 LG전자, 상생결제 확대 모범사례 선정 LG전자, 무선청소기 광고영상 3주만에 조회수 1000만 돌파 [IT 증권가] LG전자 “내게 와 애플카, 전장부품 다 줄게” 달라진 라이프스타일에 삼성·LG전자 내년 TV 종류 늘린다 LG전자, 공정위로부터 상생결제 확산 모범사례 선정 LG전자, 협력사 상생결제 확산 모범사례 선정 구광모, 협력사도 ‘찐팬 만들기’ 성공…LG전자 상생결제 낙수율 1위 상생결제 확산 모범사례로 선정된 LG전자…'올해 낙수율 두자릿수 전망' LG전자 '코드제로 A9S 오브제컬렉션' 영상, 1000뷰 돌파 LG전자, 협력사와 ‘상생 결제’ 확대한다 - 서울경제 LG전자, '상생결제 확산' 모범사례 선정 “2차 협력사 전달 비율 대기업 최대” LG전자 ‘모범 상생결제’ 선정 - 헤럴드경제 뉴스 정부, LG전자 상생결제 모범사례 선정 LG전자, 상생결제 모범사례 선정…“건전한 기업생태계 구축” “영화야? 광고야?” 삼성·LG전자 홍보영상, 1000만 뷰 '훌쩍' LG그룹주 상승 많아, LG디스플레이 6%대 LG전자 1%대 상승 LG전자, '상생결제'로 공정경제 성과 모범 사례로 선정 LG전자 공백 채운 삼성…Z플립3 등에 국내 점유율 85% 전북대학교 전자공학부 학생들, '제19회 임베디드 소프트웨어 경진대회'서 LG전자 사장상 수상\""
      ]
     },
     "execution_count": 37,
     "metadata": {},
     "output_type": "execute_result"
    }
   ],
   "source": [
    "aggTitle"
   ]
  },
  {
   "cell_type": "code",
   "execution_count": 40,
   "id": "172c483a",
   "metadata": {},
   "outputs": [],
   "source": [
    "def testModel(model, seq):\n",
    "    cate = [\"대폭 하락\",\"소폭 하락\",\"소폭 상승\", \"대폭 상승\"]\n",
    "    tmp = [seq]\n",
    "    encoded_list = [tokenizer_price.encode(t,add_special_tokens=True) for t in tmp]\n",
    "    padded_list =  [e + [0] * (512-len(e)) for e in encoded_list]\n",
    "    sample = torch.tensor(padded_list)\n",
    "\n",
    "    labels = torch.tensor([1]).unsqueeze(0)\n",
    "    sample = sample.to(device)\n",
    "    labels = labels.to(device)\n",
    "    outputs = model(sample, labels=labels)\n",
    "    _, logits = outputs\n",
    "\n",
    "    pred = torch.argmax(F.softmax(logits), dim=1)\n",
    "\n",
    "    print(\"주가는:\", cate[pred])\n",
    "    print(\"신뢰도는:\", \"{:.2f}%\".format(softmax(logits,pred)))"
   ]
  },
  {
   "cell_type": "code",
   "execution_count": 42,
   "id": "f1d902d0",
   "metadata": {},
   "outputs": [
    {
     "name": "stdout",
     "output_type": "stream",
     "text": [
      "주가는: 대폭 상승\n",
      "신뢰도는: 34.40%\n"
     ]
    },
    {
     "name": "stderr",
     "output_type": "stream",
     "text": [
      "/home/minhyuk/venv/lib/python3.7/site-packages/ipykernel_launcher.py:14: UserWarning: Implicit dimension choice for softmax has been deprecated. Change the call to include dim=X as an argument.\n",
      "  \n"
     ]
    }
   ],
   "source": [
    "testModel(bertmodel_price, aggTitle)"
   ]
  },
  {
   "cell_type": "code",
   "execution_count": 43,
   "id": "aa719752",
   "metadata": {},
   "outputs": [],
   "source": [
    "#for LSTM price prediction\n",
    "\n",
    "import torch\n",
    "import torch.nn as nn\n",
    "import torch.nn.functional as F\n",
    "from torch.utils.data import Dataset, DataLoader\n",
    "import torch.optim as optim\n",
    "import matplotlib.pyplot as plt\n",
    "from torch.autograd import Variable\n",
    "from sklearn.preprocessing import normalize\n",
    "from sklearn.metrics import mean_squared_error\n",
    "import pandas as pd\n",
    "import numpy as np\n",
    "from pathlib import Path\n",
    "import FinanceDataReader as fdr\n",
    "import seaborn as sns"
   ]
  },
  {
   "cell_type": "code",
   "execution_count": 44,
   "id": "bfb5926b",
   "metadata": {},
   "outputs": [
    {
     "data": {
      "text/html": [
       "<div>\n",
       "<style scoped>\n",
       "    .dataframe tbody tr th:only-of-type {\n",
       "        vertical-align: middle;\n",
       "    }\n",
       "\n",
       "    .dataframe tbody tr th {\n",
       "        vertical-align: top;\n",
       "    }\n",
       "\n",
       "    .dataframe thead th {\n",
       "        text-align: right;\n",
       "    }\n",
       "</style>\n",
       "<table border=\"1\" class=\"dataframe\">\n",
       "  <thead>\n",
       "    <tr style=\"text-align: right;\">\n",
       "      <th></th>\n",
       "      <th>Open</th>\n",
       "      <th>High</th>\n",
       "      <th>Low</th>\n",
       "      <th>Close</th>\n",
       "      <th>Volume</th>\n",
       "      <th>Change</th>\n",
       "    </tr>\n",
       "    <tr>\n",
       "      <th>Date</th>\n",
       "      <th></th>\n",
       "      <th></th>\n",
       "      <th></th>\n",
       "      <th></th>\n",
       "      <th></th>\n",
       "      <th></th>\n",
       "    </tr>\n",
       "  </thead>\n",
       "  <tbody>\n",
       "    <tr>\n",
       "      <th>2002-04-22</th>\n",
       "      <td>55509</td>\n",
       "      <td>63815</td>\n",
       "      <td>55509</td>\n",
       "      <td>62936</td>\n",
       "      <td>8151792</td>\n",
       "      <td>NaN</td>\n",
       "    </tr>\n",
       "    <tr>\n",
       "      <th>2002-04-23</th>\n",
       "      <td>60688</td>\n",
       "      <td>61372</td>\n",
       "      <td>57170</td>\n",
       "      <td>57464</td>\n",
       "      <td>5384435</td>\n",
       "      <td>-0.086945</td>\n",
       "    </tr>\n",
       "    <tr>\n",
       "      <th>2002-04-24</th>\n",
       "      <td>58147</td>\n",
       "      <td>59418</td>\n",
       "      <td>53065</td>\n",
       "      <td>55705</td>\n",
       "      <td>4659371</td>\n",
       "      <td>-0.030610</td>\n",
       "    </tr>\n",
       "    <tr>\n",
       "      <th>2002-04-25</th>\n",
       "      <td>53750</td>\n",
       "      <td>55118</td>\n",
       "      <td>50622</td>\n",
       "      <td>51209</td>\n",
       "      <td>3913730</td>\n",
       "      <td>-0.080711</td>\n",
       "    </tr>\n",
       "    <tr>\n",
       "      <th>2002-04-26</th>\n",
       "      <td>50622</td>\n",
       "      <td>54727</td>\n",
       "      <td>49156</td>\n",
       "      <td>53555</td>\n",
       "      <td>4176615</td>\n",
       "      <td>0.045812</td>\n",
       "    </tr>\n",
       "    <tr>\n",
       "      <th>...</th>\n",
       "      <td>...</td>\n",
       "      <td>...</td>\n",
       "      <td>...</td>\n",
       "      <td>...</td>\n",
       "      <td>...</td>\n",
       "      <td>...</td>\n",
       "    </tr>\n",
       "    <tr>\n",
       "      <th>2021-12-01</th>\n",
       "      <td>116500</td>\n",
       "      <td>120000</td>\n",
       "      <td>115500</td>\n",
       "      <td>120000</td>\n",
       "      <td>851165</td>\n",
       "      <td>0.038961</td>\n",
       "    </tr>\n",
       "    <tr>\n",
       "      <th>2021-12-02</th>\n",
       "      <td>118000</td>\n",
       "      <td>122000</td>\n",
       "      <td>118000</td>\n",
       "      <td>122000</td>\n",
       "      <td>725845</td>\n",
       "      <td>0.016667</td>\n",
       "    </tr>\n",
       "    <tr>\n",
       "      <th>2021-12-03</th>\n",
       "      <td>122000</td>\n",
       "      <td>123000</td>\n",
       "      <td>119000</td>\n",
       "      <td>122000</td>\n",
       "      <td>780951</td>\n",
       "      <td>0.000000</td>\n",
       "    </tr>\n",
       "    <tr>\n",
       "      <th>2021-12-06</th>\n",
       "      <td>121500</td>\n",
       "      <td>125000</td>\n",
       "      <td>120500</td>\n",
       "      <td>124000</td>\n",
       "      <td>819472</td>\n",
       "      <td>0.016393</td>\n",
       "    </tr>\n",
       "    <tr>\n",
       "      <th>2021-12-07</th>\n",
       "      <td>124000</td>\n",
       "      <td>126000</td>\n",
       "      <td>121500</td>\n",
       "      <td>125500</td>\n",
       "      <td>704740</td>\n",
       "      <td>0.012097</td>\n",
       "    </tr>\n",
       "  </tbody>\n",
       "</table>\n",
       "<p>4855 rows × 6 columns</p>\n",
       "</div>"
      ],
      "text/plain": [
       "              Open    High     Low   Close   Volume    Change\n",
       "Date                                                         \n",
       "2002-04-22   55509   63815   55509   62936  8151792       NaN\n",
       "2002-04-23   60688   61372   57170   57464  5384435 -0.086945\n",
       "2002-04-24   58147   59418   53065   55705  4659371 -0.030610\n",
       "2002-04-25   53750   55118   50622   51209  3913730 -0.080711\n",
       "2002-04-26   50622   54727   49156   53555  4176615  0.045812\n",
       "...            ...     ...     ...     ...      ...       ...\n",
       "2021-12-01  116500  120000  115500  120000   851165  0.038961\n",
       "2021-12-02  118000  122000  118000  122000   725845  0.016667\n",
       "2021-12-03  122000  123000  119000  122000   780951  0.000000\n",
       "2021-12-06  121500  125000  120500  124000   819472  0.016393\n",
       "2021-12-07  124000  126000  121500  125500   704740  0.012097\n",
       "\n",
       "[4855 rows x 6 columns]"
      ]
     },
     "execution_count": 44,
     "metadata": {},
     "output_type": "execute_result"
    }
   ],
   "source": [
    "#companyName = 'LG전자'\n",
    "#mycompanyNum = get_ticker(companyName)\n",
    "#predictDate = datetime.date(2021 , 12, 7)\n",
    "\n",
    "mycompany = fdr.DataReader(mycompanyNum)\n",
    "mycompany"
   ]
  },
  {
   "cell_type": "code",
   "execution_count": 45,
   "id": "239a6bd5",
   "metadata": {},
   "outputs": [
    {
     "name": "stderr",
     "output_type": "stream",
     "text": [
      "/home/minhyuk/venv/lib/python3.7/site-packages/ipykernel_launcher.py:5: SettingWithCopyWarning: \n",
      "A value is trying to be set on a copy of a slice from a DataFrame.\n",
      "Try using .loc[row_indexer,col_indexer] = value instead\n",
      "\n",
      "See the caveats in the documentation: https://pandas.pydata.org/pandas-docs/stable/user_guide/indexing.html#returning-a-view-versus-a-copy\n",
      "  \"\"\"\n"
     ]
    },
    {
     "data": {
      "text/html": [
       "<div>\n",
       "<style scoped>\n",
       "    .dataframe tbody tr th:only-of-type {\n",
       "        vertical-align: middle;\n",
       "    }\n",
       "\n",
       "    .dataframe tbody tr th {\n",
       "        vertical-align: top;\n",
       "    }\n",
       "\n",
       "    .dataframe thead th {\n",
       "        text-align: right;\n",
       "    }\n",
       "</style>\n",
       "<table border=\"1\" class=\"dataframe\">\n",
       "  <thead>\n",
       "    <tr style=\"text-align: right;\">\n",
       "      <th></th>\n",
       "      <th>Close</th>\n",
       "    </tr>\n",
       "    <tr>\n",
       "      <th>Date</th>\n",
       "      <th></th>\n",
       "    </tr>\n",
       "  </thead>\n",
       "  <tbody>\n",
       "    <tr>\n",
       "      <th>2002-04-22</th>\n",
       "      <td>-0.565666</td>\n",
       "    </tr>\n",
       "    <tr>\n",
       "      <th>2002-04-23</th>\n",
       "      <td>-0.635853</td>\n",
       "    </tr>\n",
       "    <tr>\n",
       "      <th>2002-04-24</th>\n",
       "      <td>-0.658415</td>\n",
       "    </tr>\n",
       "    <tr>\n",
       "      <th>2002-04-25</th>\n",
       "      <td>-0.716083</td>\n",
       "    </tr>\n",
       "    <tr>\n",
       "      <th>2002-04-26</th>\n",
       "      <td>-0.685992</td>\n",
       "    </tr>\n",
       "    <tr>\n",
       "      <th>...</th>\n",
       "      <td>...</td>\n",
       "    </tr>\n",
       "    <tr>\n",
       "      <th>2021-12-01</th>\n",
       "      <td>0.166271</td>\n",
       "    </tr>\n",
       "    <tr>\n",
       "      <th>2021-12-02</th>\n",
       "      <td>0.191924</td>\n",
       "    </tr>\n",
       "    <tr>\n",
       "      <th>2021-12-03</th>\n",
       "      <td>0.191924</td>\n",
       "    </tr>\n",
       "    <tr>\n",
       "      <th>2021-12-06</th>\n",
       "      <td>0.217578</td>\n",
       "    </tr>\n",
       "    <tr>\n",
       "      <th>2021-12-07</th>\n",
       "      <td>0.236817</td>\n",
       "    </tr>\n",
       "  </tbody>\n",
       "</table>\n",
       "<p>4855 rows × 1 columns</p>\n",
       "</div>"
      ],
      "text/plain": [
       "               Close\n",
       "Date                \n",
       "2002-04-22 -0.565666\n",
       "2002-04-23 -0.635853\n",
       "2002-04-24 -0.658415\n",
       "2002-04-25 -0.716083\n",
       "2002-04-26 -0.685992\n",
       "...              ...\n",
       "2021-12-01  0.166271\n",
       "2021-12-02  0.191924\n",
       "2021-12-03  0.191924\n",
       "2021-12-06  0.217578\n",
       "2021-12-07  0.236817\n",
       "\n",
       "[4855 rows x 1 columns]"
      ]
     },
     "execution_count": 45,
     "metadata": {},
     "output_type": "execute_result"
    }
   ],
   "source": [
    "from sklearn.preprocessing import MinMaxScaler\n",
    "\n",
    "price = mycompany[['Close']]\n",
    "scaler = MinMaxScaler(feature_range=(-1, 1))\n",
    "price['Close'] = scaler.fit_transform(price['Close'].values.reshape(-1,1))\n",
    "price"
   ]
  },
  {
   "cell_type": "code",
   "execution_count": 46,
   "id": "615c47d7",
   "metadata": {},
   "outputs": [
    {
     "name": "stdout",
     "output_type": "stream",
     "text": [
      "x_train.shape =  (3868, 19, 1)\n",
      "y_train.shape =  (3868, 1)\n",
      "x_test.shape =  (967, 19, 1)\n",
      "y_test.shape =  (967, 1)\n"
     ]
    }
   ],
   "source": [
    "def split_data(stock, lookback):\n",
    "    data_raw = stock.to_numpy() # convert to numpy array\n",
    "    data = []\n",
    "    \n",
    "    # create all possible sequences of length seq_len\n",
    "    for index in range(len(data_raw) - lookback): \n",
    "        data.append(data_raw[index: index + lookback])\n",
    "    \n",
    "    data = np.array(data);\n",
    "    test_set_size = int(np.round(0.2*data.shape[0]));\n",
    "    train_set_size = data.shape[0] - (test_set_size);\n",
    "    \n",
    "    x_train = data[:train_set_size,:-1,:]\n",
    "    y_train = data[:train_set_size,-1,:]\n",
    "    \n",
    "    x_test = data[train_set_size:,:-1]\n",
    "    y_test = data[train_set_size:,-1,:]\n",
    "    \n",
    "    return [x_train, y_train, x_test, y_test]\n",
    "\n",
    "lookback = 20 # choose sequence length\n",
    "x_train, y_train, x_test, y_test = split_data(price, lookback)\n",
    "print('x_train.shape = ',x_train.shape)\n",
    "print('y_train.shape = ',y_train.shape)\n",
    "print('x_test.shape = ',x_test.shape)\n",
    "print('y_test.shape = ',y_test.shape)"
   ]
  },
  {
   "cell_type": "code",
   "execution_count": 47,
   "id": "38febfb3",
   "metadata": {},
   "outputs": [],
   "source": [
    "x_train = torch.from_numpy(x_train).type(torch.Tensor)\n",
    "x_test = torch.from_numpy(x_test).type(torch.Tensor)\n",
    "y_train_lstm = torch.from_numpy(y_train).type(torch.Tensor)\n",
    "y_test_lstm = torch.from_numpy(y_test).type(torch.Tensor)"
   ]
  },
  {
   "cell_type": "code",
   "execution_count": 48,
   "id": "58c2404e",
   "metadata": {},
   "outputs": [],
   "source": [
    "input_dim = 1\n",
    "hidden_dim = 32\n",
    "num_layers = 2\n",
    "output_dim = 1\n",
    "num_epochs = 100"
   ]
  },
  {
   "cell_type": "code",
   "execution_count": 49,
   "id": "495b1071",
   "metadata": {},
   "outputs": [],
   "source": [
    "class LSTM(nn.Module):\n",
    "    def __init__(self, input_dim, hidden_dim, num_layers, output_dim):\n",
    "        super(LSTM, self).__init__()\n",
    "        self.hidden_dim = hidden_dim\n",
    "        self.num_layers = num_layers\n",
    "        \n",
    "        self.lstm = nn.LSTM(input_dim, hidden_dim, num_layers, batch_first=True)\n",
    "        self.fc = nn.Linear(hidden_dim, output_dim)\n",
    "    def forward(self, x):\n",
    "        h0 = torch.zeros(self.num_layers, x.size(0), self.hidden_dim).requires_grad_()\n",
    "        c0 = torch.zeros(self.num_layers, x.size(0), self.hidden_dim).requires_grad_()\n",
    "        out, (hn, cn) = self.lstm(x, (h0.detach(), c0.detach()))\n",
    "        out = self.fc(out[:, -1, :]) \n",
    "        return out"
   ]
  },
  {
   "cell_type": "code",
   "execution_count": 50,
   "id": "8caaf80c",
   "metadata": {},
   "outputs": [],
   "source": [
    "model = LSTM(input_dim=input_dim, hidden_dim=hidden_dim, output_dim=output_dim, num_layers=num_layers)\n",
    "criterion = torch.nn.MSELoss(reduction='mean')\n",
    "optimizer = torch.optim.Adam(model.parameters(), lr=0.01)"
   ]
  },
  {
   "cell_type": "code",
   "execution_count": 51,
   "id": "103cd843",
   "metadata": {},
   "outputs": [
    {
     "name": "stdout",
     "output_type": "stream",
     "text": [
      "Epoch  0 MSE:  0.25418081879615784\n",
      "Epoch  1 MSE:  0.1394035965204239\n",
      "Epoch  2 MSE:  0.07999782264232635\n",
      "Epoch  3 MSE:  0.09582635760307312\n",
      "Epoch  4 MSE:  0.08601027727127075\n",
      "Epoch  5 MSE:  0.07108252495527267\n",
      "Epoch  6 MSE:  0.06964752078056335\n",
      "Epoch  7 MSE:  0.07151999324560165\n",
      "Epoch  8 MSE:  0.07068269699811935\n",
      "Epoch  9 MSE:  0.06560800224542618\n",
      "Epoch  10 MSE:  0.05698994919657707\n",
      "Epoch  11 MSE:  0.04756428301334381\n",
      "Epoch  12 MSE:  0.04324187710881233\n",
      "Epoch  13 MSE:  0.04504881799221039\n",
      "Epoch  14 MSE:  0.03437677398324013\n",
      "Epoch  15 MSE:  0.022701367735862732\n",
      "Epoch  16 MSE:  0.020740779116749763\n",
      "Epoch  17 MSE:  0.01887972466647625\n",
      "Epoch  18 MSE:  0.010569790378212929\n",
      "Epoch  19 MSE:  0.01049089152365923\n",
      "Epoch  20 MSE:  0.015885427594184875\n",
      "Epoch  21 MSE:  0.011445925571024418\n",
      "Epoch  22 MSE:  0.012092572636902332\n",
      "Epoch  23 MSE:  0.009395409375429153\n",
      "Epoch  24 MSE:  0.005346132442355156\n",
      "Epoch  25 MSE:  0.0042580496519804\n",
      "Epoch  26 MSE:  0.005403169896453619\n",
      "Epoch  27 MSE:  0.006304532755166292\n",
      "Epoch  28 MSE:  0.006307798903435469\n",
      "Epoch  29 MSE:  0.0060658021830022335\n",
      "Epoch  30 MSE:  0.005855121649801731\n",
      "Epoch  31 MSE:  0.005442677065730095\n",
      "Epoch  32 MSE:  0.004811048973351717\n",
      "Epoch  33 MSE:  0.0044071730226278305\n",
      "Epoch  34 MSE:  0.004480482079088688\n",
      "Epoch  35 MSE:  0.004522162023931742\n",
      "Epoch  36 MSE:  0.004004564136266708\n",
      "Epoch  37 MSE:  0.0031164619140326977\n",
      "Epoch  38 MSE:  0.0025274099316447973\n",
      "Epoch  39 MSE:  0.0025128747802227736\n",
      "Epoch  40 MSE:  0.0026531380135565996\n",
      "Epoch  41 MSE:  0.0025719930417835712\n",
      "Epoch  42 MSE:  0.002469556173309684\n",
      "Epoch  43 MSE:  0.002591876545920968\n",
      "Epoch  44 MSE:  0.002648552879691124\n",
      "Epoch  45 MSE:  0.0024813313502818346\n",
      "Epoch  46 MSE:  0.0024293840397149324\n",
      "Epoch  47 MSE:  0.002480147173628211\n",
      "Epoch  48 MSE:  0.0023555702064186335\n",
      "Epoch  49 MSE:  0.0021775609347969294\n",
      "Epoch  50 MSE:  0.0021312362514436245\n",
      "Epoch  51 MSE:  0.0020419859793037176\n",
      "Epoch  52 MSE:  0.001864306046627462\n",
      "Epoch  53 MSE:  0.0017875625053420663\n",
      "Epoch  54 MSE:  0.0017942595295608044\n",
      "Epoch  55 MSE:  0.0017706850776448846\n",
      "Epoch  56 MSE:  0.0017570490017533302\n",
      "Epoch  57 MSE:  0.0018069781363010406\n",
      "Epoch  58 MSE:  0.0018462197622284293\n",
      "Epoch  59 MSE:  0.001823916332796216\n",
      "Epoch  60 MSE:  0.0017993146320804954\n",
      "Epoch  61 MSE:  0.0017968479078263044\n",
      "Epoch  62 MSE:  0.0017681767931208014\n",
      "Epoch  63 MSE:  0.0017114065121859312\n",
      "Epoch  64 MSE:  0.0016762451268732548\n",
      "Epoch  65 MSE:  0.0016581137897446752\n",
      "Epoch  66 MSE:  0.001622153096832335\n",
      "Epoch  67 MSE:  0.001593845197930932\n",
      "Epoch  68 MSE:  0.001596423564478755\n",
      "Epoch  69 MSE:  0.0015973079716786742\n",
      "Epoch  70 MSE:  0.0015878424746915698\n",
      "Epoch  71 MSE:  0.001592695596627891\n",
      "Epoch  72 MSE:  0.0015981347532942891\n",
      "Epoch  73 MSE:  0.0015849170740693808\n",
      "Epoch  74 MSE:  0.0015732289757579565\n",
      "Epoch  75 MSE:  0.0015665298560634255\n",
      "Epoch  76 MSE:  0.0015486757038161159\n",
      "Epoch  77 MSE:  0.0015301943058148026\n",
      "Epoch  78 MSE:  0.001521316240541637\n",
      "Epoch  79 MSE:  0.0015097851864993572\n",
      "Epoch  80 MSE:  0.0014965510927140713\n",
      "Epoch  81 MSE:  0.001491599716246128\n",
      "Epoch  82 MSE:  0.00148799701128155\n",
      "Epoch  83 MSE:  0.0014809544663876295\n",
      "Epoch  84 MSE:  0.0014770864509046078\n",
      "Epoch  85 MSE:  0.0014743385836482048\n",
      "Epoch  86 MSE:  0.0014667994109913707\n",
      "Epoch  87 MSE:  0.0014588180929422379\n",
      "Epoch  88 MSE:  0.0014525792794302106\n",
      "Epoch  89 MSE:  0.001443844405002892\n",
      "Epoch  90 MSE:  0.001434439793229103\n",
      "Epoch  91 MSE:  0.0014277283335104585\n",
      "Epoch  92 MSE:  0.0014207742642611265\n",
      "Epoch  93 MSE:  0.0014132577925920486\n",
      "Epoch  94 MSE:  0.001408013398759067\n",
      "Epoch  95 MSE:  0.0014031378086656332\n",
      "Epoch  96 MSE:  0.0013972580200061202\n",
      "Epoch  97 MSE:  0.0013923892984166741\n",
      "Epoch  98 MSE:  0.0013875551521778107\n",
      "Epoch  99 MSE:  0.0013813601108267903\n",
      "Training time: 11.885712623596191\n"
     ]
    }
   ],
   "source": [
    "import time\n",
    "hist = np.zeros(num_epochs)\n",
    "start_time = time.time()\n",
    "lstm = []\n",
    "for t in range(num_epochs):\n",
    "    y_train_pred = model(x_train)\n",
    "    loss = criterion(y_train_pred, y_train_lstm)\n",
    "    print(\"Epoch \", t, \"MSE: \", loss.item())\n",
    "    hist[t] = loss.item()\n",
    "    optimizer.zero_grad()\n",
    "    loss.backward()\n",
    "    optimizer.step()\n",
    "    \n",
    "training_time = time.time()-start_time\n",
    "print(\"Training time: {}\".format(training_time))"
   ]
  },
  {
   "cell_type": "code",
   "execution_count": 52,
   "id": "95595288",
   "metadata": {},
   "outputs": [],
   "source": [
    "predict = pd.DataFrame(scaler.inverse_transform(y_train_pred.detach().numpy()))\n",
    "original = pd.DataFrame(scaler.inverse_transform(y_train_lstm.detach().numpy()))"
   ]
  },
  {
   "cell_type": "code",
   "execution_count": 53,
   "id": "4cc5d004",
   "metadata": {},
   "outputs": [
    {
     "data": {
      "image/png": "[encoded data removed]",
      "text/plain": [
       "<Figure size 1152x432 with 2 Axes>"
      ]
     },
     "metadata": {},
     "output_type": "display_data"
    }
   ],
   "source": [
    "sns.set_style(\"darkgrid\")    \n",
    "\n",
    "fig = plt.figure()\n",
    "fig.subplots_adjust(hspace=0.2, wspace=0.2)\n",
    "\n",
    "plt.subplot(1, 2, 1)\n",
    "ax = sns.lineplot(x = original.index, y = original[0], label=\"Data\", color='royalblue')\n",
    "ax = sns.lineplot(x = predict.index, y = predict[0], label=\"Training Prediction (LSTM)\", color='tomato')\n",
    "ax.set_title('Stock price', size = 14, fontweight='bold')\n",
    "ax.set_xlabel(\"Days\", size = 14)\n",
    "ax.set_ylabel(\"Cost (Won)\", size = 14)\n",
    "ax.set_xticklabels('', size=10)\n",
    "\n",
    "\n",
    "plt.subplot(1, 2, 2)\n",
    "ax = sns.lineplot(data=hist, color='royalblue')\n",
    "ax.set_xlabel(\"Epoch\", size = 14)\n",
    "ax.set_ylabel(\"Loss\", size = 14)\n",
    "ax.set_title(\"Training Loss\", size = 14, fontweight='bold')\n",
    "fig.set_figheight(6)\n",
    "fig.set_figwidth(16)"
   ]
  },
  {
   "cell_type": "code",
   "execution_count": 54,
   "id": "e4bbae72",
   "metadata": {},
   "outputs": [
    {
     "name": "stdout",
     "output_type": "stream",
     "text": [
      "Train Score: 2897.62 RMSE\n",
      "Test Score: 4845.53 RMSE\n"
     ]
    }
   ],
   "source": [
    "import math, time\n",
    "from sklearn.metrics import mean_squared_error\n",
    "\n",
    "# make predictions\n",
    "y_test_pred = model(x_test)\n",
    "\n",
    "# invert predictions\n",
    "y_train_pred = scaler.inverse_transform(y_train_pred.detach().numpy())\n",
    "y_train = scaler.inverse_transform(y_train_lstm.detach().numpy())\n",
    "y_test_pred = scaler.inverse_transform(y_test_pred.detach().numpy())\n",
    "y_test = scaler.inverse_transform(y_test_lstm.detach().numpy())\n",
    "\n",
    "# calculate root mean squared error\n",
    "trainScore = math.sqrt(mean_squared_error(y_train[:,0], y_train_pred[:,0]))\n",
    "print('Train Score: %.2f RMSE' % (trainScore))\n",
    "testScore = math.sqrt(mean_squared_error(y_test[:,0], y_test_pred[:,0]))\n",
    "print('Test Score: %.2f RMSE' % (testScore))\n",
    "lstm.append(trainScore)\n",
    "lstm.append(testScore)\n",
    "lstm.append(training_time)"
   ]
  },
  {
   "cell_type": "code",
   "execution_count": 58,
   "id": "bb8915a2",
   "metadata": {
    "scrolled": true
   },
   "outputs": [
    {
     "data": {
      "text/plain": [
       "Text(0, 0.5, 'Cost (Won)')"
      ]
     },
     "execution_count": 58,
     "metadata": {},
     "output_type": "execute_result"
    },
    {
     "data": {
      "image/png": "[encoded data removed]",
      "text/plain": [
       "<Figure size 864x648 with 1 Axes>"
      ]
     },
     "metadata": {},
     "output_type": "display_data"
    }
   ],
   "source": [
    "sns.set_style(\"darkgrid\")    \n",
    "\n",
    "plt.figure(figsize=(12, 9))\n",
    "predict_test = pd.DataFrame(y_test_pred)\n",
    "original_test = pd.DataFrame(y_test)\n",
    "ax = sns.lineplot(x = original_test.index, y = original_test[0], label=\"Test Data\", color='royalblue')\n",
    "ax = sns.lineplot(x = predict_test.index, y = predict_test[0], label=\"Test Prediction (LSTM)\", color='tomato')\n",
    "ax.set_title('Stock price', size = 14, fontweight='bold')\n",
    "ax.set_xlabel(\"Days\", size = 14)\n",
    "ax.set_ylabel(\"Cost (Won)\", size = 14)"
   ]
  },
  {
   "cell_type": "code",
   "execution_count": 65,
   "id": "57a27ee2",
   "metadata": {},
   "outputs": [],
   "source": [
    "def classifyFluctuation(fluctuation):\n",
    "    if fluctuation < -2.5:\n",
    "        return 0\n",
    "    elif fluctuation < 0:\n",
    "        return 1\n",
    "    elif fluctuation < 2.5:\n",
    "        return 2\n",
    "    else:\n",
    "        return 3"
   ]
  },
  {
   "cell_type": "code",
   "execution_count": 69,
   "id": "6f23bd92",
   "metadata": {},
   "outputs": [
    {
     "name": "stdout",
     "output_type": "stream",
     "text": [
      "예측 가격은 121559.55 원\n",
      "주가는: 소폭 하락\n"
     ]
    },
    {
     "name": "stderr",
     "output_type": "stream",
     "text": [
      "/home/minhyuk/venv/lib/python3.7/site-packages/ipykernel_launcher.py:11: SettingWithCopyWarning: \n",
      "A value is trying to be set on a copy of a slice from a DataFrame.\n",
      "Try using .loc[row_indexer,col_indexer] = value instead\n",
      "\n",
      "See the caveats in the documentation: https://pandas.pydata.org/pandas-docs/stable/user_guide/indexing.html#returning-a-view-versus-a-copy\n",
      "  # This is added back by InteractiveShellApp.init_path()\n"
     ]
    }
   ],
   "source": [
    "import datetime\n",
    "\n",
    "#companyName = 'LG전자'\n",
    "#mycompanyNum = get_ticker(companyName)\n",
    "#predictDate = datetime.date(2021 , 12, 7)\n",
    "\n",
    "forpredict = fdr.DataReader(mycompanyNum, predictDate - datetime.timedelta(days=40), predictDate- datetime.timedelta(days=1))\n",
    "forpredict = forpredict[-19:]\n",
    "price_apply = forpredict[['Close']]\n",
    "scaler = MinMaxScaler(feature_range=(-1, 1))\n",
    "price_apply['Close'] = scaler.fit_transform(price_apply['Close'].values.reshape(-1,1))\n",
    "\n",
    "data_raw = price_apply.to_numpy()\n",
    "myset = torch.from_numpy(data_raw).type(torch.Tensor)\n",
    "myset = myset.unsqueeze(dim=0)\n",
    "myresult = model(myset)\n",
    "myresult_price = scaler.inverse_transform(myresult.detach().numpy())\n",
    "\n",
    "mytoday = myresult_price[0][0]\n",
    "myyesterday = fdr.DataReader(mycompanyNum,predictDate-datetime.timedelta(days=1))['Close'][0]\n",
    "myfluc = (mytoday-myyesterday)/(myyesterday)*100\n",
    "\n",
    "print(\"예측 가격은\", mytoday,\"원\")\n",
    "cate = [\"대폭 하락\",\"소폭 하락\",\"소폭 상승\", \"대폭 상승\"]\n",
    "print(\"주가는:\", cate[classifyFluctuation(myfluc)])"
   ]
  },
  {
   "cell_type": "code",
   "execution_count": null,
   "id": "b68651f8",
   "metadata": {},
   "outputs": [],
   "source": []
  }
 ],
 "metadata": {
  "kernelspec": {
   "display_name": "Python 3 (ipykernel)",
   "language": "python",
   "name": "python3"
  },
  "language_info": {
   "codemirror_mode": {
    "name": "ipython",
    "version": 3
   },
   "file_extension": ".py",
   "mimetype": "text/x-python",
   "name": "python",
   "nbconvert_exporter": "python",
   "pygments_lexer": "ipython3",
   "version": "3.7.12"
  }
 },
 "nbformat": 4,
 "nbformat_minor": 5
}
