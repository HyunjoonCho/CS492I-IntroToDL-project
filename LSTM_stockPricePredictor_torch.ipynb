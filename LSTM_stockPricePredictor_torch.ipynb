{
  "nbformat": 4,
  "nbformat_minor": 0,
  "metadata": {
    "colab": {
      "name": "LSTM_stockPricePredictor_torch.ipynb",
      "provenance": []
    },
    "kernelspec": {
      "name": "python3",
      "display_name": "Python 3"
    },
    "language_info": {
      "name": "python"
    }
  },
  "cells": [
    {
      "cell_type": "code",
      "metadata": {
        "id": "Kg5gKsdvmNI6",
        "colab": {
          "base_uri": "https://localhost:8080/"
        },
        "outputId": "10b989e9-509c-452b-af19-e2306d60ba58"
      },
      "source": [
        "import torch\n",
        "import torch.nn as nn\n",
        "import torch.nn.functional as F\n",
        "from torch.utils.data import Dataset, DataLoader\n",
        "import torch.optim as optim\n",
        "import matplotlib.pyplot as plt\n",
        "from torch.autograd import Variable\n",
        "from sklearn.preprocessing import normalize\n",
        "from sklearn.metrics import mean_squared_error\n",
        "import pandas as pd\n",
        "import numpy as np\n",
        "from pathlib import Path\n",
        "!pip install -U finance-datareader\n",
        "import FinanceDataReader as fdr"
      ],
      "execution_count": 113,
      "outputs": [
        {
          "output_type": "stream",
          "name": "stdout",
          "text": [
            "Requirement already satisfied: finance-datareader in /usr/local/lib/python3.7/dist-packages (0.9.31)\n",
            "Requirement already satisfied: requests>=2.3.0 in /usr/local/lib/python3.7/dist-packages (from finance-datareader) (2.23.0)\n",
            "Requirement already satisfied: pandas>=0.19.2 in /usr/local/lib/python3.7/dist-packages (from finance-datareader) (1.1.5)\n",
            "Requirement already satisfied: requests-file in /usr/local/lib/python3.7/dist-packages (from finance-datareader) (1.5.1)\n",
            "Requirement already satisfied: lxml in /usr/local/lib/python3.7/dist-packages (from finance-datareader) (4.2.6)\n",
            "Requirement already satisfied: tqdm in /usr/local/lib/python3.7/dist-packages (from finance-datareader) (4.62.3)\n",
            "Requirement already satisfied: python-dateutil>=2.7.3 in /usr/local/lib/python3.7/dist-packages (from pandas>=0.19.2->finance-datareader) (2.8.2)\n",
            "Requirement already satisfied: pytz>=2017.2 in /usr/local/lib/python3.7/dist-packages (from pandas>=0.19.2->finance-datareader) (2018.9)\n",
            "Requirement already satisfied: numpy>=1.15.4 in /usr/local/lib/python3.7/dist-packages (from pandas>=0.19.2->finance-datareader) (1.19.5)\n",
            "Requirement already satisfied: six>=1.5 in /usr/local/lib/python3.7/dist-packages (from python-dateutil>=2.7.3->pandas>=0.19.2->finance-datareader) (1.15.0)\n",
            "Requirement already satisfied: idna<3,>=2.5 in /usr/local/lib/python3.7/dist-packages (from requests>=2.3.0->finance-datareader) (2.10)\n",
            "Requirement already satisfied: urllib3!=1.25.0,!=1.25.1,<1.26,>=1.21.1 in /usr/local/lib/python3.7/dist-packages (from requests>=2.3.0->finance-datareader) (1.24.3)\n",
            "Requirement already satisfied: certifi>=2017.4.17 in /usr/local/lib/python3.7/dist-packages (from requests>=2.3.0->finance-datareader) (2021.10.8)\n",
            "Requirement already satisfied: chardet<4,>=3.0.2 in /usr/local/lib/python3.7/dist-packages (from requests>=2.3.0->finance-datareader) (3.0.4)\n"
          ]
        }
      ]
    },
    {
      "cell_type": "code",
      "metadata": {
        "id": "1kM8iDxcm4hr"
      },
      "source": [
        "df_kospi = fdr.StockListing('KOSPI')"
      ],
      "execution_count": 114,
      "outputs": []
    },
    {
      "cell_type": "code",
      "metadata": {
        "id": "zC0gXXZdr7Iy"
      },
      "source": [
        "def get_ticker(company_name):\n",
        "    return str(df_kospi.loc[df_kospi['Name'] == company_name]['Symbol'].values[0])"
      ],
      "execution_count": 115,
      "outputs": []
    },
    {
      "cell_type": "code",
      "metadata": {
        "colab": {
          "base_uri": "https://localhost:8080/"
        },
        "id": "2_7DKznqpOwD",
        "outputId": "056c5498-922a-415b-9ba1-ea8bd44a6535"
      },
      "source": [
        "df_samsung = fdr.DataReader(get_ticker('삼성전자'), '2011-03-01', '2020-02-28')\n",
        "print(df_samsung.shape)"
      ],
      "execution_count": 116,
      "outputs": [
        {
          "output_type": "stream",
          "name": "stdout",
          "text": [
            "(2217, 6)\n"
          ]
        }
      ]
    },
    {
      "cell_type": "code",
      "metadata": {
        "id": "YySUPYmAoinW"
      },
      "source": [
        "def normalize_close_price(df):\n",
        "    df = df['Close']\n",
        "    close_arr = (df.values).reshape(-1, 1)\n",
        "    normalized_close_arr = (normalize(close_arr, axis=0)).squeeze()\n",
        "    return normalized_close_arr"
      ],
      "execution_count": 117,
      "outputs": []
    },
    {
      "cell_type": "code",
      "metadata": {
        "id": "azzTwxvztGZw"
      },
      "source": [
        "arr_samsung = normalize_close_price(df_samsung)\n",
        "#print(arr_samsung)"
      ],
      "execution_count": 118,
      "outputs": []
    },
    {
      "cell_type": "code",
      "metadata": {
        "id": "ierTeE-lq7MG"
      },
      "source": [
        "def timeseries_for(arr):\n",
        "    window_size = 20 # Time Window\n",
        "    time_series = np.float32(np.empty([len(arr) - window_size - 1, window_size + 1]))\n",
        "    for i in range(len(arr) - window_size - 1):\n",
        "      time_series[i,:] = arr[i:i + window_size + 1]\n",
        "    return time_series"
      ],
      "execution_count": 119,
      "outputs": []
    },
    {
      "cell_type": "code",
      "metadata": {
        "colab": {
          "base_uri": "https://localhost:8080/"
        },
        "id": "oojEA0PYzgNN",
        "outputId": "c18271d6-b41c-445f-8c84-0fa38c291cf2"
      },
      "source": [
        "time_series_samsung = timeseries_for(arr_samsung)\n",
        "print(time_series_samsung)"
      ],
      "execution_count": 120,
      "outputs": [
        {
          "output_type": "stream",
          "name": "stdout",
          "text": [
            "[[0.01114385 0.01120455 0.01147161 ... 0.01111957 0.01111957 0.01124097]\n",
            " [0.01120455 0.01147161 0.01099818 ... 0.01111957 0.01124097 0.0113138 ]\n",
            " [0.01147161 0.01099818 0.01091321 ... 0.01124097 0.0113138  0.01141092]\n",
            " ...\n",
            " [0.03568946 0.03587155 0.03471832 ... 0.03593225 0.03447554 0.0351432 ]\n",
            " [0.03587155 0.03471832 0.03423275 ... 0.03447554 0.0351432  0.03429345]\n",
            " [0.03471832 0.03423275 0.03471832 ... 0.0351432  0.03429345 0.03392927]]\n"
          ]
        }
      ]
    },
    {
      "cell_type": "code",
      "metadata": {
        "colab": {
          "base_uri": "https://localhost:8080/"
        },
        "id": "-G1MuzWBznf-",
        "outputId": "6df887e1-d7c4-422c-c1d9-cdd33ed30ac1"
      },
      "source": [
        "X = time_series_samsung[:, 0:20]\n",
        "Y = time_series_samsung[:, 20]\n",
        "print(X.shape, Y.shape)"
      ],
      "execution_count": 121,
      "outputs": [
        {
          "output_type": "stream",
          "name": "stdout",
          "text": [
            "(2196, 20) (2196,)\n"
          ]
        }
      ]
    },
    {
      "cell_type": "code",
      "metadata": {
        "id": "FQ263T_3EqFg",
        "colab": {
          "base_uri": "https://localhost:8080/",
          "height": 265
        },
        "outputId": "7c79b6a0-9378-4238-bab2-8f4409839073"
      },
      "source": [
        "trainset_size = 2048\n",
        "X = time_series_samsung[:trainset_size, 0:20]\n",
        "Y = time_series_samsung[:trainset_size, 20]\n",
        "plt.plot(np.arange(0.0, trainset_size, 1.0), Y, 'r-')\n",
        "plt.draw()"
      ],
      "execution_count": 122,
      "outputs": [
        {
          "output_type": "display_data",
          "data": {
            "image/png": "[encoded data removed]",
            "text/plain": [
              "<Figure size 432x288 with 1 Axes>"
            ]
          },
          "metadata": {
            "needs_background": "light"
          }
        }
      ]
    },
    {
      "cell_type": "code",
      "metadata": {
        "id": "MONtRU4S89w1"
      },
      "source": [
        "from easydict import EasyDict as edict\n",
        "\n",
        "args = edict()\n",
        "args.batch_size = 64\n",
        "args.nlayers = 2\n",
        "args.nhid = 20\n",
        "\n",
        "device = 'cuda:0' if torch.cuda.is_available() and args.gpu else 'cpu'"
      ],
      "execution_count": 123,
      "outputs": []
    },
    {
      "cell_type": "code",
      "metadata": {
        "id": "xRA2z5gF-9lQ"
      },
      "source": [
        "class StockDataset(Dataset):\n",
        "    def __init__(self, X_dataset, Y_dataset):\n",
        "        self.X_dataset = torch.from_numpy(X_dataset).unsqueeze(2).transpose(0, 1)\n",
        "        self.Y_dataset = torch.from_numpy(Y_dataset)        \n",
        "    def __len__(self):\n",
        "        return np.shape(self.Y_dataset)[0]\n",
        "    def __getitem__(self, idx):        \n",
        "        sample = {'Sequence': self.X_dataset[:,idx,:], 'Target': self.Y_dataset[idx]}\n",
        "        return sample"
      ],
      "execution_count": 124,
      "outputs": []
    },
    {
      "cell_type": "code",
      "metadata": {
        "colab": {
          "base_uri": "https://localhost:8080/"
        },
        "id": "OK9LLuQ3_GGo",
        "outputId": "26c72642-e24a-40f2-84dc-046e8b55cc40"
      },
      "source": [
        "train_dataset = StockDataset(X, Y)\n",
        "train_dl = DataLoader(train_dataset, batch_size=args.batch_size, shuffle=False, num_workers=4)"
      ],
      "execution_count": 125,
      "outputs": [
        {
          "output_type": "stream",
          "name": "stderr",
          "text": [
            "/usr/local/lib/python3.7/dist-packages/torch/utils/data/dataloader.py:481: UserWarning: This DataLoader will create 4 worker processes in total. Our suggested max number of worker in current system is 2, which is smaller than what this DataLoader is going to create. Please be aware that excessive worker creation might get DataLoader running slow or even freeze, lower the worker number to avoid potential slowness/freeze if necessary.\n",
            "  cpuset_checked))\n"
          ]
        }
      ]
    },
    {
      "cell_type": "code",
      "metadata": {
        "id": "7XZnSL_L9H75"
      },
      "source": [
        "class PredictorLSTM(nn.Module):\n",
        "    def __init__(self):\n",
        "        super(PredictorLSTM, self).__init__()\n",
        "        self.lstm = nn.LSTM(input_size=1, hidden_size=args.nhid, num_layers=args.nlayers, batch_first = True)\n",
        "        self.bn = nn.BatchNorm1d(20)\n",
        "        self.fc = nn.Linear(20,1)\n",
        "    def forward(self,x, h_state, c_state):\n",
        "        r_out, (h_state,c_state) = self.lstm(x, (h_state,c_state))    \n",
        "        r_out = self.bn(r_out)\n",
        "        outs=[]\n",
        "        for time_step in range(r_out.size(1)):\n",
        "            outs.append(self.fc(r_out[:,time_step,:]))\n",
        "        return torch.stack(outs,dim=1), (h_state, c_state)"
      ],
      "execution_count": 126,
      "outputs": []
    },
    {
      "cell_type": "code",
      "metadata": {
        "id": "crK0pkzfCL06",
        "colab": {
          "base_uri": "https://localhost:8080/"
        },
        "outputId": "c215fefe-576d-47c5-860f-f88d99d0515e"
      },
      "source": [
        "predictor = PredictorLSTM().to(device)\n",
        "print(predictor)"
      ],
      "execution_count": 127,
      "outputs": [
        {
          "output_type": "stream",
          "name": "stdout",
          "text": [
            "PredictorLSTM(\n",
            "  (lstm): LSTM(1, 20, num_layers=2, batch_first=True)\n",
            "  (bn): BatchNorm1d(20, eps=1e-05, momentum=0.1, affine=True, track_running_stats=True)\n",
            "  (fc): Linear(in_features=20, out_features=1, bias=True)\n",
            ")\n"
          ]
        }
      ]
    },
    {
      "cell_type": "code",
      "metadata": {
        "id": "wmzM8J-sC-7R"
      },
      "source": [
        "criterion = nn.MSELoss()\n",
        "optimizer = optim.Adam(predictor.parameters(), lr=0.00005)"
      ],
      "execution_count": 128,
      "outputs": []
    },
    {
      "cell_type": "code",
      "metadata": {
        "id": "hw7E6WbzIO4Q"
      },
      "source": [
        "def run_training(model):\n",
        "    h_state = torch.zeros(args.nlayers,args.batch_size,args.nhid).to(device)\n",
        "    c_state = torch.zeros(args.nlayers,args.batch_size,args.nhid).to(device)\n",
        "    best_loss = float('inf')\n",
        "    best_epoch = 0\n",
        "    best_plot = np.empty([trainset_size])\n",
        "    for epoch in range (100):\n",
        "        running_loss = 0.0\n",
        "        prediction_plot=np.empty([trainset_size])\n",
        "        \n",
        "        for i, data in enumerate(train_dl):\n",
        "        # get the inputs\n",
        "            inputs, labels = data['Sequence'], data['Target']\n",
        "            x = Variable(inputs).to(device)\n",
        "            y = Variable(labels).to(device)\n",
        "            \n",
        "        # zero the parameter gradients\n",
        "            optimizer.zero_grad()\n",
        "            \n",
        "        # forward + backward + optimize\n",
        "            prediction, (h_state, c_state) = model(x, h_state, c_state)\n",
        "            prediction=prediction[:,19,:].squeeze()\n",
        "            h_state = Variable(h_state.data)\n",
        "            c_state = Variable(c_state.data)\n",
        "            loss = criterion(prediction, y)\n",
        "            loss.backward()\n",
        "            optimizer.step()\n",
        "            \n",
        "        # print statistics\n",
        "            running_loss += loss.item()\n",
        "            prediction_plot[i * args.batch_size:(i + 1) * args.batch_size] = prediction.cpu().detach().numpy()\n",
        "        print('Epoch %d Loss %.7f' %(epoch + 1, running_loss))\n",
        "    #     if running_loss < best_loss:\n",
        "    #         best_loss = running_loss\n",
        "    #         best_epoch = epoch + 1\n",
        "    #         best_plot = prediction_plot\n",
        "    # print(f'Best Epoch {best_epoch} with Loss {best_loss}')\n",
        "    return prediction_plot"
      ],
      "execution_count": 129,
      "outputs": []
    },
    {
      "cell_type": "code",
      "metadata": {
        "colab": {
          "base_uri": "https://localhost:8080/",
          "height": 1000
        },
        "id": "Uuv1a_ToDKWK",
        "outputId": "b65892b4-df65-4304-ea75-b48b60cc889c"
      },
      "source": [
        "prediction_plot = run_training(predictor)\n",
        "plt.plot(np.arange(0.0, trainset_size, 1.0), Y, 'r-')\n",
        "plt.plot(np.arange(0.0, trainset_size, 1.0), np.asarray(prediction_plot), 'b-')\n",
        "plt.draw()"
      ],
      "execution_count": 130,
      "outputs": [
        {
          "output_type": "stream",
          "name": "stderr",
          "text": [
            "/usr/local/lib/python3.7/dist-packages/torch/utils/data/dataloader.py:481: UserWarning: This DataLoader will create 4 worker processes in total. Our suggested max number of worker in current system is 2, which is smaller than what this DataLoader is going to create. Please be aware that excessive worker creation might get DataLoader running slow or even freeze, lower the worker number to avoid potential slowness/freeze if necessary.\n",
            "  cpuset_checked))\n"
          ]
        },
        {
          "output_type": "stream",
          "name": "stdout",
          "text": [
            "Epoch 1 Loss 0.0573211\n",
            "Epoch 2 Loss 0.0050436\n",
            "Epoch 3 Loss 0.0013199\n",
            "Epoch 4 Loss 0.0019843\n",
            "Epoch 5 Loss 0.0020082\n",
            "Epoch 6 Loss 0.0021554\n",
            "Epoch 7 Loss 0.0022890\n",
            "Epoch 8 Loss 0.0024072\n",
            "Epoch 9 Loss 0.0025146\n",
            "Epoch 10 Loss 0.0026105\n",
            "Epoch 11 Loss 0.0026950\n",
            "Epoch 12 Loss 0.0027684\n",
            "Epoch 13 Loss 0.0028314\n",
            "Epoch 14 Loss 0.0028849\n",
            "Epoch 15 Loss 0.0029298\n",
            "Epoch 16 Loss 0.0029670\n",
            "Epoch 17 Loss 0.0029975\n",
            "Epoch 18 Loss 0.0030222\n",
            "Epoch 19 Loss 0.0030420\n",
            "Epoch 20 Loss 0.0030576\n",
            "Epoch 21 Loss 0.0030695\n",
            "Epoch 22 Loss 0.0030784\n",
            "Epoch 23 Loss 0.0030848\n",
            "Epoch 24 Loss 0.0030890\n",
            "Epoch 25 Loss 0.0030915\n",
            "Epoch 26 Loss 0.0030924\n",
            "Epoch 27 Loss 0.0030920\n",
            "Epoch 28 Loss 0.0030906\n",
            "Epoch 29 Loss 0.0030884\n",
            "Epoch 30 Loss 0.0030854\n",
            "Epoch 31 Loss 0.0030817\n",
            "Epoch 32 Loss 0.0030776\n",
            "Epoch 33 Loss 0.0030730\n",
            "Epoch 34 Loss 0.0030681\n",
            "Epoch 35 Loss 0.0030629\n",
            "Epoch 36 Loss 0.0030575\n",
            "Epoch 37 Loss 0.0030518\n",
            "Epoch 38 Loss 0.0030461\n",
            "Epoch 39 Loss 0.0030401\n",
            "Epoch 40 Loss 0.0030341\n",
            "Epoch 41 Loss 0.0030280\n",
            "Epoch 42 Loss 0.0030218\n",
            "Epoch 43 Loss 0.0030156\n",
            "Epoch 44 Loss 0.0030094\n",
            "Epoch 45 Loss 0.0030031\n",
            "Epoch 46 Loss 0.0029968\n",
            "Epoch 47 Loss 0.0029906\n",
            "Epoch 48 Loss 0.0029843\n",
            "Epoch 49 Loss 0.0029781\n",
            "Epoch 50 Loss 0.0029718\n",
            "Epoch 51 Loss 0.0029656\n",
            "Epoch 52 Loss 0.0029594\n",
            "Epoch 53 Loss 0.0029532\n",
            "Epoch 54 Loss 0.0029470\n",
            "Epoch 55 Loss 0.0029409\n",
            "Epoch 56 Loss 0.0029349\n",
            "Epoch 57 Loss 0.0029288\n",
            "Epoch 58 Loss 0.0029228\n",
            "Epoch 59 Loss 0.0029168\n",
            "Epoch 60 Loss 0.0029108\n",
            "Epoch 61 Loss 0.0029049\n",
            "Epoch 62 Loss 0.0028990\n",
            "Epoch 63 Loss 0.0028932\n",
            "Epoch 64 Loss 0.0028874\n",
            "Epoch 65 Loss 0.0028816\n",
            "Epoch 66 Loss 0.0028759\n",
            "Epoch 67 Loss 0.0028701\n",
            "Epoch 68 Loss 0.0028644\n",
            "Epoch 69 Loss 0.0028588\n",
            "Epoch 70 Loss 0.0028532\n",
            "Epoch 71 Loss 0.0028476\n",
            "Epoch 72 Loss 0.0028420\n",
            "Epoch 73 Loss 0.0028365\n",
            "Epoch 74 Loss 0.0028310\n",
            "Epoch 75 Loss 0.0028256\n",
            "Epoch 76 Loss 0.0028201\n",
            "Epoch 77 Loss 0.0028147\n",
            "Epoch 78 Loss 0.0028094\n",
            "Epoch 79 Loss 0.0028040\n",
            "Epoch 80 Loss 0.0027987\n",
            "Epoch 81 Loss 0.0027934\n",
            "Epoch 82 Loss 0.0027881\n",
            "Epoch 83 Loss 0.0027828\n",
            "Epoch 84 Loss 0.0027776\n",
            "Epoch 85 Loss 0.0027724\n",
            "Epoch 86 Loss 0.0027673\n",
            "Epoch 87 Loss 0.0027621\n",
            "Epoch 88 Loss 0.0027570\n",
            "Epoch 89 Loss 0.0027519\n",
            "Epoch 90 Loss 0.0027469\n",
            "Epoch 91 Loss 0.0027418\n",
            "Epoch 92 Loss 0.0027368\n",
            "Epoch 93 Loss 0.0027318\n",
            "Epoch 94 Loss 0.0027268\n",
            "Epoch 95 Loss 0.0027218\n",
            "Epoch 96 Loss 0.0027168\n",
            "Epoch 97 Loss 0.0027119\n",
            "Epoch 98 Loss 0.0027070\n",
            "Epoch 99 Loss 0.0027021\n",
            "Epoch 100 Loss 0.0026973\n"
          ]
        },
        {
          "output_type": "display_data",
          "data": {
            "image/png": "[encoded data removed]",
            "text/plain": [
              "<Figure size 432x288 with 1 Axes>"
            ]
          },
          "metadata": {
            "needs_background": "light"
          }
        }
      ]
    }
  ]
}