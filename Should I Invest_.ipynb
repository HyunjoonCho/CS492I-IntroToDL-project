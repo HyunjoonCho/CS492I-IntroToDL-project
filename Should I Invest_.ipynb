{
 "cells": [
  {
   "cell_type": "code",
   "execution_count": 1,
   "id": "b2d21e3c",
   "metadata": {},
   "outputs": [
    {
     "name": "stderr",
     "output_type": "stream",
     "text": [
      "2021-12-08 09:02:19.848619: W tensorflow/stream_executor/platform/default/dso_loader.cc:64] Could not load dynamic library 'libcudart.so.11.0'; dlerror: libcudart.so.11.0: cannot open shared object file: No such file or directory\n",
      "2021-12-08 09:02:19.848639: I tensorflow/stream_executor/cuda/cudart_stub.cc:29] Ignore above cudart dlerror if you do not have a GPU set up on your machine.\n"
     ]
    }
   ],
   "source": [
    "import torch\n",
    "from torch import nn\n",
    "import torch.nn.functional as F\n",
    "import torch.optim as optim\n",
    "from torch.utils.data import Dataset, DataLoader\n",
    "import gluonnlp as nlp\n",
    "import numpy as np\n",
    "from tqdm import tqdm, tqdm_notebook\n",
    "import os\n",
    "from transformers import AdamW\n",
    "from transformers.optimization import get_cosine_schedule_with_warmup\n",
    "import pandas as pd\n",
    "from pytorch_transformers import BertTokenizer, BertForSequenceClassification, BertConfig\n",
    "from bs4 import BeautifulSoup as bs\n",
    "import requests\n",
    "import datetime\n",
    "import FinanceDataReader as fdr\n",
    "from requests.adapters import HTTPAdapter\n",
    "import re\n",
    "from kobert.utils import get_tokenizer\n",
    "from kobert.pytorch_kobert import get_pytorch_kobert_model\n",
    "import matplotlib.pyplot as plt\n",
    "from torch.autograd import Variable\n",
    "from sklearn.preprocessing import normalize\n",
    "from sklearn.metrics import mean_squared_error\n",
    "from pathlib import Path\n",
    "import seaborn as sns\n",
    "from sklearn.preprocessing import MinMaxScaler\n",
    "import math, time\n",
    "from sklearn.metrics import mean_squared_error"
   ]
  },
  {
   "cell_type": "code",
   "execution_count": 2,
   "id": "0ecda96b",
   "metadata": {},
   "outputs": [],
   "source": [
    "companyName = '셀트리온' #예측하고 싶은 기업\n",
    "predictDate = datetime.date(2021 , 12, 9) #예측하고 싶은 날짜"
   ]
  },
  {
   "cell_type": "code",
   "execution_count": 3,
   "id": "f9cc9ff1",
   "metadata": {},
   "outputs": [],
   "source": [
    "device = torch.device(\"cuda\")\n",
    "\n",
    "tokenizer_price = BertTokenizer.from_pretrained('bert-base-multilingual-cased')\n",
    "bertmodel_price = BertForSequenceClassification.from_pretrained('bert-base-multilingual-cased', num_labels=4)"
   ]
  },
  {
   "cell_type": "code",
   "execution_count": 4,
   "id": "767b44b5",
   "metadata": {},
   "outputs": [
    {
     "name": "stdout",
     "output_type": "stream",
     "text": [
      "3848 1069\n"
     ]
    }
   ],
   "source": [
    "#BERT 모델을 위한 데이터 수집 과정\n",
    "\n",
    "dataset_train_price = []\n",
    "dataset_test_price = []\n",
    "\n",
    "root = \"new_exp_2020/\"\n",
    "list = os.listdir(root)\n",
    "for cat in list:\n",
    "    files = os.listdir(root + cat)\n",
    "    for i,f in enumerate(files):\n",
    "        if (f == '.ipynb_checkpoints'):\n",
    "            continue\n",
    "        fname = root + cat + \"/\" + f\n",
    "        file = open(fname, \"r\", encoding=\"utf-8\")\n",
    "        strings = file.read()\n",
    "        if i<480:\n",
    "            dataset_train_price.append([strings, cat])\n",
    "        elif i<604:\n",
    "            dataset_test_price.append([strings,cat])\n",
    "        file.close()\n",
    "        \n",
    "root2 = \"new_exp_2019/\"\n",
    "list = os.listdir(root2)\n",
    "for cat in list:\n",
    "    files = os.listdir(root2 + cat)\n",
    "    for i,f in enumerate(files):\n",
    "        if (f == '.ipynb_checkpoints'):\n",
    "            continue\n",
    "        fname = root2 + cat + \"/\" + f\n",
    "        file = open(fname, \"r\", encoding=\"utf-8\")\n",
    "        strings = file.read()\n",
    "        if i<201:\n",
    "            dataset_train_price.append([strings, cat])\n",
    "        elif i<278:\n",
    "            dataset_test_price.append([strings,cat])\n",
    "        file.close()\n",
    "        \n",
    "root3 = \"new_exp_2018/\"\n",
    "list = os.listdir(root3)\n",
    "for cat in list:\n",
    "    files = os.listdir(root3 + cat)\n",
    "    for i,f in enumerate(files):\n",
    "        if (f == '.ipynb_checkpoints'):\n",
    "            continue\n",
    "        fname = root3 + cat + \"/\" + f\n",
    "        file = open(fname, \"r\", encoding=\"utf-8\")\n",
    "        strings = file.read()\n",
    "        if i<281:\n",
    "            dataset_train_price.append([strings, cat])\n",
    "        elif i<356:\n",
    "            dataset_test_price.append([strings,cat])\n",
    "        file.close()\n",
    "\n",
    "print(len(dataset_train_price), len(dataset_test_price))"
   ]
  },
  {
   "cell_type": "code",
   "execution_count": 5,
   "id": "9a625d04",
   "metadata": {},
   "outputs": [
    {
     "name": "stdout",
     "output_type": "stream",
     "text": [
      "삼성전자, 미국 이동통신 사업자 'US 셀룰러'와 5G·4G 통신장비 공급 계약 체결 [르포] '시스템 반도체 1위\n",
      "0\n"
     ]
    }
   ],
   "source": [
    "print(dataset_train_price[0][0][:64]) #sentence\n",
    "print(dataset_train_price[0][1]) #label"
   ]
  },
  {
   "cell_type": "code",
   "execution_count": 6,
   "id": "14a2a8c1",
   "metadata": {},
   "outputs": [],
   "source": [
    "class BERTDataset(Dataset):\n",
    "    def __init__(self, dataset, sent_idx, label_idx):\n",
    "        # 현재 i[sent_idx] 가 본문\n",
    "        self.sentences = [i[sent_idx][:64] for i in dataset]\n",
    "        self.labels = [i[label_idx] for i in dataset]\n",
    "\n",
    "    def __getitem__(self, i):\n",
    "        return self.sentences[i], self.labels[i]\n",
    "\n",
    "    def __len__(self):\n",
    "        return (len(self.labels))"
   ]
  },
  {
   "cell_type": "code",
   "execution_count": 7,
   "id": "5890920d",
   "metadata": {},
   "outputs": [],
   "source": [
    "batch_size = 4\n",
    "num_epochs = 15\n",
    "warmup_ratio = 0.1\n",
    "max_grad_norm = 1\n",
    "log_interval = 200\n",
    "learning_rate =  5e-5"
   ]
  },
  {
   "cell_type": "code",
   "execution_count": 8,
   "id": "0cd46d27",
   "metadata": {},
   "outputs": [],
   "source": [
    "data_train_price = BERTDataset(dataset_train_price, 0, 1)\n",
    "data_test_price = BERTDataset(dataset_test_price, 0, 1)"
   ]
  },
  {
   "cell_type": "code",
   "execution_count": 9,
   "id": "37b64662",
   "metadata": {},
   "outputs": [],
   "source": [
    "train_dataloader_price = torch.utils.data.DataLoader(data_train_price, batch_size=batch_size, num_workers=5, shuffle=True)\n",
    "test_dataloader_price = torch.utils.data.DataLoader(data_test_price, batch_size=batch_size, num_workers=5, shuffle=True)"
   ]
  },
  {
   "cell_type": "code",
   "execution_count": 10,
   "id": "9c5500d9",
   "metadata": {},
   "outputs": [
    {
     "data": {
      "text/plain": [
       "BertForSequenceClassification(\n",
       "  (bert): BertModel(\n",
       "    (embeddings): BertEmbeddings(\n",
       "      (word_embeddings): Embedding(119547, 768, padding_idx=0)\n",
       "      (position_embeddings): Embedding(512, 768)\n",
       "      (token_type_embeddings): Embedding(2, 768)\n",
       "      (LayerNorm): LayerNorm((768,), eps=1e-12, elementwise_affine=True)\n",
       "      (dropout): Dropout(p=0.1, inplace=False)\n",
       "    )\n",
       "    (encoder): BertEncoder(\n",
       "      (layer): ModuleList(\n",
       "        (0): BertLayer(\n",
       "          (attention): BertAttention(\n",
       "            (self): BertSelfAttention(\n",
       "              (query): Linear(in_features=768, out_features=768, bias=True)\n",
       "              (key): Linear(in_features=768, out_features=768, bias=True)\n",
       "              (value): Linear(in_features=768, out_features=768, bias=True)\n",
       "              (dropout): Dropout(p=0.1, inplace=False)\n",
       "            )\n",
       "            (output): BertSelfOutput(\n",
       "              (dense): Linear(in_features=768, out_features=768, bias=True)\n",
       "              (LayerNorm): LayerNorm((768,), eps=1e-12, elementwise_affine=True)\n",
       "              (dropout): Dropout(p=0.1, inplace=False)\n",
       "            )\n",
       "          )\n",
       "          (intermediate): BertIntermediate(\n",
       "            (dense): Linear(in_features=768, out_features=3072, bias=True)\n",
       "          )\n",
       "          (output): BertOutput(\n",
       "            (dense): Linear(in_features=3072, out_features=768, bias=True)\n",
       "            (LayerNorm): LayerNorm((768,), eps=1e-12, elementwise_affine=True)\n",
       "            (dropout): Dropout(p=0.1, inplace=False)\n",
       "          )\n",
       "        )\n",
       "        (1): BertLayer(\n",
       "          (attention): BertAttention(\n",
       "            (self): BertSelfAttention(\n",
       "              (query): Linear(in_features=768, out_features=768, bias=True)\n",
       "              (key): Linear(in_features=768, out_features=768, bias=True)\n",
       "              (value): Linear(in_features=768, out_features=768, bias=True)\n",
       "              (dropout): Dropout(p=0.1, inplace=False)\n",
       "            )\n",
       "            (output): BertSelfOutput(\n",
       "              (dense): Linear(in_features=768, out_features=768, bias=True)\n",
       "              (LayerNorm): LayerNorm((768,), eps=1e-12, elementwise_affine=True)\n",
       "              (dropout): Dropout(p=0.1, inplace=False)\n",
       "            )\n",
       "          )\n",
       "          (intermediate): BertIntermediate(\n",
       "            (dense): Linear(in_features=768, out_features=3072, bias=True)\n",
       "          )\n",
       "          (output): BertOutput(\n",
       "            (dense): Linear(in_features=3072, out_features=768, bias=True)\n",
       "            (LayerNorm): LayerNorm((768,), eps=1e-12, elementwise_affine=True)\n",
       "            (dropout): Dropout(p=0.1, inplace=False)\n",
       "          )\n",
       "        )\n",
       "        (2): BertLayer(\n",
       "          (attention): BertAttention(\n",
       "            (self): BertSelfAttention(\n",
       "              (query): Linear(in_features=768, out_features=768, bias=True)\n",
       "              (key): Linear(in_features=768, out_features=768, bias=True)\n",
       "              (value): Linear(in_features=768, out_features=768, bias=True)\n",
       "              (dropout): Dropout(p=0.1, inplace=False)\n",
       "            )\n",
       "            (output): BertSelfOutput(\n",
       "              (dense): Linear(in_features=768, out_features=768, bias=True)\n",
       "              (LayerNorm): LayerNorm((768,), eps=1e-12, elementwise_affine=True)\n",
       "              (dropout): Dropout(p=0.1, inplace=False)\n",
       "            )\n",
       "          )\n",
       "          (intermediate): BertIntermediate(\n",
       "            (dense): Linear(in_features=768, out_features=3072, bias=True)\n",
       "          )\n",
       "          (output): BertOutput(\n",
       "            (dense): Linear(in_features=3072, out_features=768, bias=True)\n",
       "            (LayerNorm): LayerNorm((768,), eps=1e-12, elementwise_affine=True)\n",
       "            (dropout): Dropout(p=0.1, inplace=False)\n",
       "          )\n",
       "        )\n",
       "        (3): BertLayer(\n",
       "          (attention): BertAttention(\n",
       "            (self): BertSelfAttention(\n",
       "              (query): Linear(in_features=768, out_features=768, bias=True)\n",
       "              (key): Linear(in_features=768, out_features=768, bias=True)\n",
       "              (value): Linear(in_features=768, out_features=768, bias=True)\n",
       "              (dropout): Dropout(p=0.1, inplace=False)\n",
       "            )\n",
       "            (output): BertSelfOutput(\n",
       "              (dense): Linear(in_features=768, out_features=768, bias=True)\n",
       "              (LayerNorm): LayerNorm((768,), eps=1e-12, elementwise_affine=True)\n",
       "              (dropout): Dropout(p=0.1, inplace=False)\n",
       "            )\n",
       "          )\n",
       "          (intermediate): BertIntermediate(\n",
       "            (dense): Linear(in_features=768, out_features=3072, bias=True)\n",
       "          )\n",
       "          (output): BertOutput(\n",
       "            (dense): Linear(in_features=3072, out_features=768, bias=True)\n",
       "            (LayerNorm): LayerNorm((768,), eps=1e-12, elementwise_affine=True)\n",
       "            (dropout): Dropout(p=0.1, inplace=False)\n",
       "          )\n",
       "        )\n",
       "        (4): BertLayer(\n",
       "          (attention): BertAttention(\n",
       "            (self): BertSelfAttention(\n",
       "              (query): Linear(in_features=768, out_features=768, bias=True)\n",
       "              (key): Linear(in_features=768, out_features=768, bias=True)\n",
       "              (value): Linear(in_features=768, out_features=768, bias=True)\n",
       "              (dropout): Dropout(p=0.1, inplace=False)\n",
       "            )\n",
       "            (output): BertSelfOutput(\n",
       "              (dense): Linear(in_features=768, out_features=768, bias=True)\n",
       "              (LayerNorm): LayerNorm((768,), eps=1e-12, elementwise_affine=True)\n",
       "              (dropout): Dropout(p=0.1, inplace=False)\n",
       "            )\n",
       "          )\n",
       "          (intermediate): BertIntermediate(\n",
       "            (dense): Linear(in_features=768, out_features=3072, bias=True)\n",
       "          )\n",
       "          (output): BertOutput(\n",
       "            (dense): Linear(in_features=3072, out_features=768, bias=True)\n",
       "            (LayerNorm): LayerNorm((768,), eps=1e-12, elementwise_affine=True)\n",
       "            (dropout): Dropout(p=0.1, inplace=False)\n",
       "          )\n",
       "        )\n",
       "        (5): BertLayer(\n",
       "          (attention): BertAttention(\n",
       "            (self): BertSelfAttention(\n",
       "              (query): Linear(in_features=768, out_features=768, bias=True)\n",
       "              (key): Linear(in_features=768, out_features=768, bias=True)\n",
       "              (value): Linear(in_features=768, out_features=768, bias=True)\n",
       "              (dropout): Dropout(p=0.1, inplace=False)\n",
       "            )\n",
       "            (output): BertSelfOutput(\n",
       "              (dense): Linear(in_features=768, out_features=768, bias=True)\n",
       "              (LayerNorm): LayerNorm((768,), eps=1e-12, elementwise_affine=True)\n",
       "              (dropout): Dropout(p=0.1, inplace=False)\n",
       "            )\n",
       "          )\n",
       "          (intermediate): BertIntermediate(\n",
       "            (dense): Linear(in_features=768, out_features=3072, bias=True)\n",
       "          )\n",
       "          (output): BertOutput(\n",
       "            (dense): Linear(in_features=3072, out_features=768, bias=True)\n",
       "            (LayerNorm): LayerNorm((768,), eps=1e-12, elementwise_affine=True)\n",
       "            (dropout): Dropout(p=0.1, inplace=False)\n",
       "          )\n",
       "        )\n",
       "        (6): BertLayer(\n",
       "          (attention): BertAttention(\n",
       "            (self): BertSelfAttention(\n",
       "              (query): Linear(in_features=768, out_features=768, bias=True)\n",
       "              (key): Linear(in_features=768, out_features=768, bias=True)\n",
       "              (value): Linear(in_features=768, out_features=768, bias=True)\n",
       "              (dropout): Dropout(p=0.1, inplace=False)\n",
       "            )\n",
       "            (output): BertSelfOutput(\n",
       "              (dense): Linear(in_features=768, out_features=768, bias=True)\n",
       "              (LayerNorm): LayerNorm((768,), eps=1e-12, elementwise_affine=True)\n",
       "              (dropout): Dropout(p=0.1, inplace=False)\n",
       "            )\n",
       "          )\n",
       "          (intermediate): BertIntermediate(\n",
       "            (dense): Linear(in_features=768, out_features=3072, bias=True)\n",
       "          )\n",
       "          (output): BertOutput(\n",
       "            (dense): Linear(in_features=3072, out_features=768, bias=True)\n",
       "            (LayerNorm): LayerNorm((768,), eps=1e-12, elementwise_affine=True)\n",
       "            (dropout): Dropout(p=0.1, inplace=False)\n",
       "          )\n",
       "        )\n",
       "        (7): BertLayer(\n",
       "          (attention): BertAttention(\n",
       "            (self): BertSelfAttention(\n",
       "              (query): Linear(in_features=768, out_features=768, bias=True)\n",
       "              (key): Linear(in_features=768, out_features=768, bias=True)\n",
       "              (value): Linear(in_features=768, out_features=768, bias=True)\n",
       "              (dropout): Dropout(p=0.1, inplace=False)\n",
       "            )\n",
       "            (output): BertSelfOutput(\n",
       "              (dense): Linear(in_features=768, out_features=768, bias=True)\n",
       "              (LayerNorm): LayerNorm((768,), eps=1e-12, elementwise_affine=True)\n",
       "              (dropout): Dropout(p=0.1, inplace=False)\n",
       "            )\n",
       "          )\n",
       "          (intermediate): BertIntermediate(\n",
       "            (dense): Linear(in_features=768, out_features=3072, bias=True)\n",
       "          )\n",
       "          (output): BertOutput(\n",
       "            (dense): Linear(in_features=3072, out_features=768, bias=True)\n",
       "            (LayerNorm): LayerNorm((768,), eps=1e-12, elementwise_affine=True)\n",
       "            (dropout): Dropout(p=0.1, inplace=False)\n",
       "          )\n",
       "        )\n",
       "        (8): BertLayer(\n",
       "          (attention): BertAttention(\n",
       "            (self): BertSelfAttention(\n",
       "              (query): Linear(in_features=768, out_features=768, bias=True)\n",
       "              (key): Linear(in_features=768, out_features=768, bias=True)\n",
       "              (value): Linear(in_features=768, out_features=768, bias=True)\n",
       "              (dropout): Dropout(p=0.1, inplace=False)\n",
       "            )\n",
       "            (output): BertSelfOutput(\n",
       "              (dense): Linear(in_features=768, out_features=768, bias=True)\n",
       "              (LayerNorm): LayerNorm((768,), eps=1e-12, elementwise_affine=True)\n",
       "              (dropout): Dropout(p=0.1, inplace=False)\n",
       "            )\n",
       "          )\n",
       "          (intermediate): BertIntermediate(\n",
       "            (dense): Linear(in_features=768, out_features=3072, bias=True)\n",
       "          )\n",
       "          (output): BertOutput(\n",
       "            (dense): Linear(in_features=3072, out_features=768, bias=True)\n",
       "            (LayerNorm): LayerNorm((768,), eps=1e-12, elementwise_affine=True)\n",
       "            (dropout): Dropout(p=0.1, inplace=False)\n",
       "          )\n",
       "        )\n",
       "        (9): BertLayer(\n",
       "          (attention): BertAttention(\n",
       "            (self): BertSelfAttention(\n",
       "              (query): Linear(in_features=768, out_features=768, bias=True)\n",
       "              (key): Linear(in_features=768, out_features=768, bias=True)\n",
       "              (value): Linear(in_features=768, out_features=768, bias=True)\n",
       "              (dropout): Dropout(p=0.1, inplace=False)\n",
       "            )\n",
       "            (output): BertSelfOutput(\n",
       "              (dense): Linear(in_features=768, out_features=768, bias=True)\n",
       "              (LayerNorm): LayerNorm((768,), eps=1e-12, elementwise_affine=True)\n",
       "              (dropout): Dropout(p=0.1, inplace=False)\n",
       "            )\n",
       "          )\n",
       "          (intermediate): BertIntermediate(\n",
       "            (dense): Linear(in_features=768, out_features=3072, bias=True)\n",
       "          )\n",
       "          (output): BertOutput(\n",
       "            (dense): Linear(in_features=3072, out_features=768, bias=True)\n",
       "            (LayerNorm): LayerNorm((768,), eps=1e-12, elementwise_affine=True)\n",
       "            (dropout): Dropout(p=0.1, inplace=False)\n",
       "          )\n",
       "        )\n",
       "        (10): BertLayer(\n",
       "          (attention): BertAttention(\n",
       "            (self): BertSelfAttention(\n",
       "              (query): Linear(in_features=768, out_features=768, bias=True)\n",
       "              (key): Linear(in_features=768, out_features=768, bias=True)\n",
       "              (value): Linear(in_features=768, out_features=768, bias=True)\n",
       "              (dropout): Dropout(p=0.1, inplace=False)\n",
       "            )\n",
       "            (output): BertSelfOutput(\n",
       "              (dense): Linear(in_features=768, out_features=768, bias=True)\n",
       "              (LayerNorm): LayerNorm((768,), eps=1e-12, elementwise_affine=True)\n",
       "              (dropout): Dropout(p=0.1, inplace=False)\n",
       "            )\n",
       "          )\n",
       "          (intermediate): BertIntermediate(\n",
       "            (dense): Linear(in_features=768, out_features=3072, bias=True)\n",
       "          )\n",
       "          (output): BertOutput(\n",
       "            (dense): Linear(in_features=3072, out_features=768, bias=True)\n",
       "            (LayerNorm): LayerNorm((768,), eps=1e-12, elementwise_affine=True)\n",
       "            (dropout): Dropout(p=0.1, inplace=False)\n",
       "          )\n",
       "        )\n",
       "        (11): BertLayer(\n",
       "          (attention): BertAttention(\n",
       "            (self): BertSelfAttention(\n",
       "              (query): Linear(in_features=768, out_features=768, bias=True)\n",
       "              (key): Linear(in_features=768, out_features=768, bias=True)\n",
       "              (value): Linear(in_features=768, out_features=768, bias=True)\n",
       "              (dropout): Dropout(p=0.1, inplace=False)\n",
       "            )\n",
       "            (output): BertSelfOutput(\n",
       "              (dense): Linear(in_features=768, out_features=768, bias=True)\n",
       "              (LayerNorm): LayerNorm((768,), eps=1e-12, elementwise_affine=True)\n",
       "              (dropout): Dropout(p=0.1, inplace=False)\n",
       "            )\n",
       "          )\n",
       "          (intermediate): BertIntermediate(\n",
       "            (dense): Linear(in_features=768, out_features=3072, bias=True)\n",
       "          )\n",
       "          (output): BertOutput(\n",
       "            (dense): Linear(in_features=3072, out_features=768, bias=True)\n",
       "            (LayerNorm): LayerNorm((768,), eps=1e-12, elementwise_affine=True)\n",
       "            (dropout): Dropout(p=0.1, inplace=False)\n",
       "          )\n",
       "        )\n",
       "      )\n",
       "    )\n",
       "    (pooler): BertPooler(\n",
       "      (dense): Linear(in_features=768, out_features=768, bias=True)\n",
       "      (activation): Tanh()\n",
       "    )\n",
       "  )\n",
       "  (dropout): Dropout(p=0.1, inplace=False)\n",
       "  (classifier): Linear(in_features=768, out_features=4, bias=True)\n",
       ")"
      ]
     },
     "execution_count": 10,
     "metadata": {},
     "output_type": "execute_result"
    }
   ],
   "source": [
    "bertmodel_price.to(device)"
   ]
  },
  {
   "cell_type": "code",
   "execution_count": 11,
   "id": "06c43da6",
   "metadata": {},
   "outputs": [
    {
     "name": "stdout",
     "output_type": "stream",
     "text": [
      "('[종합] LG화학, SK이노베이션 국내 소송전서 1승…\"6년 전 합의 파기 아냐\" SK이노베이션-LG화학, 배터리 ', \"카카오게임즈 '블레이드2', 명예의 전당 랭킹 시스템 추가\", \"삼성전자, '비스포크' 김치냉장고 신제품 출시 삼성전자, 유럽 '청정가전' 시장 본격 공략…IFA 2019 전시 삼\", \"삼성전자, '갤럭시 북 플렉스', '갤럭시 북 이온' 사전판매 실시 삼성전자, 中시안 낸드 2공장 80억달러 추가 \")\n",
      "tensor([0, 0, 1, 3])\n"
     ]
    }
   ],
   "source": [
    "for text,label in train_dataloader_price:\n",
    "    print(text)\n",
    "    result = tuple((int(x[0])) for x in label)\n",
    "    result = torch.tensor(result)\n",
    "    print(result)\n",
    "    break"
   ]
  },
  {
   "cell_type": "code",
   "execution_count": 12,
   "id": "3679c9bf",
   "metadata": {},
   "outputs": [
    {
     "name": "stderr",
     "output_type": "stream",
     "text": [
      "/home/minhyuk/venv/lib/python3.7/site-packages/ipykernel_launcher.py:26: UserWarning: To copy construct from a tensor, it is recommended to use sourceTensor.clone().detach() or sourceTensor.clone().detach().requires_grad_(True), rather than torch.tensor(sourceTensor).\n",
      "/home/minhyuk/venv/lib/python3.7/site-packages/ipykernel_launcher.py:30: UserWarning: Implicit dimension choice for softmax has been deprecated. Change the call to include dim=X as an argument.\n"
     ]
    },
    {
     "name": "stdout",
     "output_type": "stream",
     "text": [
      "[Epoch 1/15] -> Train Loss: 1334.2045, Accuracy: 0.256\n"
     ]
    },
    {
     "name": "stderr",
     "output_type": "stream",
     "text": [
      "/home/minhyuk/venv/lib/python3.7/site-packages/ipykernel_launcher.py:54: UserWarning: To copy construct from a tensor, it is recommended to use sourceTensor.clone().detach() or sourceTensor.clone().detach().requires_grad_(True), rather than torch.tensor(sourceTensor).\n",
      "/home/minhyuk/venv/lib/python3.7/site-packages/ipykernel_launcher.py:58: UserWarning: Implicit dimension choice for softmax has been deprecated. Change the call to include dim=X as an argument.\n"
     ]
    },
    {
     "name": "stdout",
     "output_type": "stream",
     "text": [
      "[Epoch 1/15] -> Test Accuracy: 0.292\n",
      "[Epoch 2/15] -> Train Loss: 1270.6316, Accuracy: 0.333\n",
      "[Epoch 2/15] -> Test Accuracy: 0.319\n",
      "[Epoch 3/15] -> Train Loss: 1186.0062, Accuracy: 0.381\n",
      "[Epoch 3/15] -> Test Accuracy: 0.301\n",
      "[Epoch 4/15] -> Train Loss: 1164.4908, Accuracy: 0.407\n",
      "[Epoch 4/15] -> Test Accuracy: 0.349\n",
      "[Epoch 5/15] -> Train Loss: 1156.6984, Accuracy: 0.406\n",
      "[Epoch 5/15] -> Test Accuracy: 0.304\n",
      "[Epoch 6/15] -> Train Loss: 1151.5101, Accuracy: 0.397\n",
      "[Epoch 6/15] -> Test Accuracy: 0.308\n",
      "[Epoch 7/15] -> Train Loss: 1138.6320, Accuracy: 0.408\n",
      "[Epoch 7/15] -> Test Accuracy: 0.309\n",
      "[Epoch 8/15] -> Train Loss: 1136.3347, Accuracy: 0.395\n",
      "[Epoch 8/15] -> Test Accuracy: 0.310\n",
      "[Epoch 9/15] -> Train Loss: 1120.8658, Accuracy: 0.412\n",
      "[Epoch 9/15] -> Test Accuracy: 0.367\n",
      "[Epoch 10/15] -> Train Loss: 1098.7267, Accuracy: 0.423\n",
      "[Epoch 10/15] -> Test Accuracy: 0.348\n",
      "[Epoch 11/15] -> Train Loss: 1086.2116, Accuracy: 0.426\n",
      "[Epoch 11/15] -> Test Accuracy: 0.392\n",
      "[Epoch 12/15] -> Train Loss: 1078.4565, Accuracy: 0.431\n",
      "[Epoch 12/15] -> Test Accuracy: 0.338\n",
      "[Epoch 13/15] -> Train Loss: 1070.0732, Accuracy: 0.436\n",
      "[Epoch 13/15] -> Test Accuracy: 0.367\n",
      "[Epoch 14/15] -> Train Loss: 1065.3510, Accuracy: 0.443\n",
      "[Epoch 14/15] -> Test Accuracy: 0.366\n",
      "[Epoch 15/15] -> Train Loss: 1057.2787, Accuracy: 0.447\n",
      "[Epoch 15/15] -> Test Accuracy: 0.339\n"
     ]
    }
   ],
   "source": [
    "optimizer = optim.AdamW(bertmodel_price.parameters(), lr=1e-6)\n",
    "itr=1\n",
    "p_itr=200\n",
    "total_loss = 0\n",
    "total_len = 0\n",
    "total_correct = 0\n",
    "\n",
    "for epoch in range(num_epochs):\n",
    "    \n",
    "    bertmodel_price.train()\n",
    "    total_loss = 0\n",
    "    total_len = 0\n",
    "    total_correct = 0\n",
    "    for sentence, label in train_dataloader_price:\n",
    "        optimizer.zero_grad()\n",
    "        \n",
    "        encoded_list = [tokenizer_price.encode(t,add_special_tokens=True) for t in sentence]\n",
    "        padded_list =  [e + [0] * (512-len(e)) for e in encoded_list]\n",
    "        \n",
    "        sample = torch.tensor(padded_list)\n",
    "        label = tuple((int(x[0])) for x in label)\n",
    "        label = torch.tensor(label)\n",
    "        sample = sample.to(device)\n",
    "        label = label.to(device)\n",
    "        \n",
    "        labels = torch.tensor(label)\n",
    "        outputs = bertmodel_price(sample, labels=labels)\n",
    "        loss, logits = outputs\n",
    "\n",
    "        pred = torch.argmax(F.softmax(logits), dim=1)        \n",
    "        correct = pred.eq(labels)\n",
    "        total_correct += correct.sum().item()\n",
    "        total_len += len(labels)\n",
    "        total_loss += loss.item()\n",
    "        loss.backward()\n",
    "        #torch.nn.utils.clip_grad_norm_(model.parameters(), max_grad_norm)\n",
    "        optimizer.step()\n",
    "        #scheduler.step()    \n",
    "    print('[Epoch {}/{}] -> Train Loss: {:.4f}, Accuracy: {:.3f}'.format(epoch+1, num_epochs, total_loss, total_correct/total_len))\n",
    "    \n",
    "    bertmodel_price.eval()\n",
    "    t_total_correct = 0\n",
    "    t_total_len = 0\n",
    "    for sentence, label in test_dataloader_price:\n",
    "        encoded_list = [tokenizer_price.encode(t,add_special_tokens=True) for t in sentence]\n",
    "        padded_list =  [e + [0] * (512-len(e)) for e in encoded_list]\n",
    "        \n",
    "        sample = torch.tensor(padded_list)\n",
    "        label = tuple((int(x[0])) for x in label)\n",
    "        label = torch.tensor(label)\n",
    "        sample = sample.to(device)\n",
    "        label = label.to(device)\n",
    "        \n",
    "        labels = torch.tensor(label)\n",
    "        outputs = bertmodel_price(sample, labels=labels)\n",
    "        _, logits = outputs\n",
    "        \n",
    "        pred = torch.argmax(F.softmax(logits), dim=1)        \n",
    "        correct = pred.eq(labels)\n",
    "        t_total_correct += correct.sum().item()\n",
    "        t_total_len += len(labels)\n",
    "    print('[Epoch {}/{}] -> Test Accuracy: {:.3f}'.format(epoch+1, num_epochs, t_total_correct/t_total_len))"
   ]
  },
  {
   "cell_type": "code",
   "execution_count": 13,
   "id": "7cfb1582",
   "metadata": {},
   "outputs": [
    {
     "name": "stderr",
     "output_type": "stream",
     "text": [
      "/home/minhyuk/venv/lib/python3.7/site-packages/ipykernel_launcher.py:16: UserWarning: To copy construct from a tensor, it is recommended to use sourceTensor.clone().detach() or sourceTensor.clone().detach().requires_grad_(True), rather than torch.tensor(sourceTensor).\n",
      "  app.launch_new_instance()\n",
      "/home/minhyuk/venv/lib/python3.7/site-packages/ipykernel_launcher.py:20: UserWarning: Implicit dimension choice for softmax has been deprecated. Change the call to include dim=X as an argument.\n"
     ]
    },
    {
     "name": "stdout",
     "output_type": "stream",
     "text": [
      "Test accuracy:  0.33863423760523853\n"
     ]
    }
   ],
   "source": [
    "bertmodel_price.eval()\n",
    "\n",
    "total_loss = 0\n",
    "total_len = 0\n",
    "total_correct = 0\n",
    "\n",
    "for sentence, label in test_dataloader_price:\n",
    "    encoded_list = [tokenizer_price.encode(t,add_special_tokens=True) for t in sentence]\n",
    "    padded_list =  [e + [0] * (512-len(e)) for e in encoded_list]\n",
    "    sample = torch.tensor(padded_list)\n",
    "    label = tuple((int(x[0])) for x in label)\n",
    "    label = torch.tensor(label)\n",
    "    sample = sample.to(device)\n",
    "    label = label.to(device)\n",
    "        \n",
    "    labels = torch.tensor(label)\n",
    "    outputs = bertmodel_price(sample, labels=labels)\n",
    "    _, logits = outputs\n",
    "\n",
    "    pred = torch.argmax(F.softmax(logits), dim=1)\n",
    "    correct = pred.eq(labels)\n",
    "    total_correct += correct.sum().item()\n",
    "    total_len += len(labels)\n",
    "\n",
    "print('Test accuracy: ', total_correct / total_len)"
   ]
  },
  {
   "cell_type": "code",
   "execution_count": 14,
   "id": "d59c3d52",
   "metadata": {},
   "outputs": [
    {
     "name": "stdout",
     "output_type": "stream",
     "text": [
      "using cached model\n",
      "using cached model\n"
     ]
    }
   ],
   "source": [
    "device = torch.device(\"cuda\")\n",
    "bertmodel_crawl, vocab = get_pytorch_kobert_model()"
   ]
  },
  {
   "cell_type": "code",
   "execution_count": 15,
   "id": "910c2f4f",
   "metadata": {},
   "outputs": [
    {
     "name": "stdout",
     "output_type": "stream",
     "text": [
      "1360 240\n"
     ]
    }
   ],
   "source": [
    "dataset_train_crawl = []\n",
    "dataset_test_crawl = []\n",
    "\n",
    "root = \"newsData/\"\n",
    "list = os.listdir(root)\n",
    "for cat in list:\n",
    "    files = os.listdir(root + cat)\n",
    "    for i,f in enumerate(files):\n",
    "        fname = root + cat + \"/\" + f\n",
    "        file = open(fname, \"r\", encoding=\"utf-8\")\n",
    "        strings = file.read()\n",
    "        if i<170:\n",
    "            dataset_train_crawl.append([strings, cat])\n",
    "        else:\n",
    "            dataset_test_crawl.append([strings,cat])\n",
    "        file.close()\n",
    "\n",
    "print(len(dataset_train_crawl), len(dataset_test_crawl))"
   ]
  },
  {
   "cell_type": "code",
   "execution_count": 16,
   "id": "36c98945",
   "metadata": {},
   "outputs": [
    {
     "name": "stdout",
     "output_type": "stream",
     "text": [
      "using cached model\n"
     ]
    }
   ],
   "source": [
    "tokenizer_crawl = get_tokenizer()\n",
    "tok_crawl = nlp.data.BERTSPTokenizer(tokenizer_crawl, vocab, lower=False)"
   ]
  },
  {
   "cell_type": "code",
   "execution_count": 17,
   "id": "ac226040",
   "metadata": {},
   "outputs": [],
   "source": [
    "class BERTDataset(Dataset):\n",
    "    def __init__(self, dataset, sent_idx, label_idx, bert_tokenizer, max_len, pad, pair):\n",
    "        transform = nlp.data.BERTSentenceTransform(\n",
    "            bert_tokenizer, max_seq_length=max_len, pad=pad, pair=pair)\n",
    "\n",
    "        self.sentences = [transform([i[sent_idx]]) for i in dataset]\n",
    "        self.labels = [np.int32(i[label_idx]) for i in dataset]\n",
    "\n",
    "    def __getitem__(self, i):\n",
    "        return (self.sentences[i] + (self.labels[i], ))\n",
    "\n",
    "    def __len__(self):\n",
    "        return (len(self.labels))"
   ]
  },
  {
   "cell_type": "code",
   "execution_count": 18,
   "id": "427ba440",
   "metadata": {},
   "outputs": [],
   "source": [
    "max_len = 64\n",
    "batch_size = 16\n",
    "warmup_ratio = 0.1\n",
    "num_epochs = 10\n",
    "max_grad_norm = 1\n",
    "log_interval = 200\n",
    "learning_rate =  5e-5"
   ]
  },
  {
   "cell_type": "code",
   "execution_count": 19,
   "id": "38b17af8",
   "metadata": {
    "scrolled": true
   },
   "outputs": [],
   "source": [
    "data_train_crawl = BERTDataset(dataset_train_crawl, 0, 1, tok_crawl, max_len, True, False)\n",
    "data_test_crawl = BERTDataset(dataset_test_crawl, 0, 1, tok_crawl, max_len, True, False)"
   ]
  },
  {
   "cell_type": "code",
   "execution_count": 20,
   "id": "f45787fa",
   "metadata": {},
   "outputs": [],
   "source": [
    "train_dataloader_crawl = torch.utils.data.DataLoader(data_train_crawl, batch_size=batch_size, num_workers=5, shuffle=True)\n",
    "test_dataloader_crawl = torch.utils.data.DataLoader(data_test_crawl, batch_size=batch_size, num_workers=5, shuffle=True)"
   ]
  },
  {
   "cell_type": "code",
   "execution_count": 22,
   "id": "1497921a",
   "metadata": {},
   "outputs": [],
   "source": [
    "class BERTClassifier(nn.Module):\n",
    "    def __init__(self,\n",
    "                 bert,\n",
    "                 hidden_size = 768,\n",
    "                 num_classes=8,\n",
    "                 dr_rate=None,\n",
    "                 params=None):\n",
    "        super(BERTClassifier, self).__init__()\n",
    "        self.bert = bert\n",
    "        self.dr_rate = dr_rate\n",
    "                 \n",
    "        self.classifier = nn.Linear(hidden_size , num_classes)\n",
    "        if dr_rate:\n",
    "            self.dropout = nn.Dropout(p=dr_rate)\n",
    "    \n",
    "    def gen_attention_mask(self, token_ids, valid_length):\n",
    "        attention_mask = torch.zeros_like(token_ids)\n",
    "        for i, v in enumerate(valid_length):\n",
    "            attention_mask[i][:v] = 1\n",
    "        return attention_mask.float()\n",
    "\n",
    "    def forward(self, token_ids, valid_length, segment_ids):\n",
    "        attention_mask = self.gen_attention_mask(token_ids, valid_length)\n",
    "        \n",
    "        _, pooler = self.bert(input_ids = token_ids, token_type_ids = segment_ids.long(), attention_mask = attention_mask.float().to(token_ids.device), return_dict=False)\n",
    "\n",
    "        if self.dr_rate:\n",
    "            out = self.dropout(pooler)\n",
    "        return self.classifier(out)"
   ]
  },
  {
   "cell_type": "code",
   "execution_count": 23,
   "id": "d044471c",
   "metadata": {},
   "outputs": [],
   "source": [
    "my_bertmodel_crawl = BERTClassifier(bertmodel_crawl,  dr_rate=0.5).to(device)"
   ]
  },
  {
   "cell_type": "code",
   "execution_count": 24,
   "id": "313d6c92",
   "metadata": {},
   "outputs": [],
   "source": [
    "no_decay = ['bias', 'LayerNorm.weight']\n",
    "optimizer_grouped_parameters = [\n",
    "    {'params': [p for n, p in my_bertmodel_crawl.named_parameters() if not any(nd in n for nd in no_decay)], 'weight_decay': 0.01},\n",
    "    {'params': [p for n, p in my_bertmodel_crawl.named_parameters() if any(nd in n for nd in no_decay)], 'weight_decay': 0.0}\n",
    "]"
   ]
  },
  {
   "cell_type": "code",
   "execution_count": 25,
   "id": "8bc90025",
   "metadata": {},
   "outputs": [],
   "source": [
    "optimizer = AdamW(optimizer_grouped_parameters, lr=learning_rate)\n",
    "loss_fn = nn.CrossEntropyLoss()"
   ]
  },
  {
   "cell_type": "code",
   "execution_count": 26,
   "id": "7ff45bb4",
   "metadata": {},
   "outputs": [],
   "source": [
    "t_total = len(train_dataloader_crawl) * num_epochs\n",
    "warmup_step = int(t_total * warmup_ratio)"
   ]
  },
  {
   "cell_type": "code",
   "execution_count": 27,
   "id": "a609f82e",
   "metadata": {},
   "outputs": [],
   "source": [
    "scheduler = get_cosine_schedule_with_warmup(optimizer, num_warmup_steps=warmup_step, num_training_steps=t_total)"
   ]
  },
  {
   "cell_type": "code",
   "execution_count": 28,
   "id": "46b20664",
   "metadata": {},
   "outputs": [],
   "source": [
    "def calc_accuracy(X,Y):\n",
    "    max_vals, max_indices = torch.max(X, 1)\n",
    "    train_acc = (max_indices == Y).sum().data.cpu().numpy()/max_indices.size()[0]\n",
    "    return train_acc"
   ]
  },
  {
   "cell_type": "code",
   "execution_count": 29,
   "id": "d400c293",
   "metadata": {},
   "outputs": [],
   "source": [
    "import gc\n",
    "gc.collect()\n",
    "torch.cuda.empty_cache()"
   ]
  },
  {
   "cell_type": "code",
   "execution_count": 30,
   "id": "3efe4e19",
   "metadata": {},
   "outputs": [
    {
     "name": "stderr",
     "output_type": "stream",
     "text": [
      "/home/minhyuk/venv/lib/python3.7/site-packages/ipykernel_launcher.py:5: TqdmDeprecationWarning: This function will be removed in tqdm==5.0.0\n",
      "Please use `tqdm.notebook.tqdm` instead of `tqdm.tqdm_notebook`\n",
      "  \"\"\"\n"
     ]
    },
    {
     "data": {
      "application/vnd.jupyter.widget-view+json": {
       "model_id": "167f4204f35c4294a840ec6c60028bc1",
       "version_major": 2,
       "version_minor": 0
      },
      "text/plain": [
       "  0%|          | 0/85 [00:00<?, ?it/s]"
      ]
     },
     "metadata": {},
     "output_type": "display_data"
    },
    {
     "name": "stdout",
     "output_type": "stream",
     "text": [
      "epoch 1 train acc 0.2852941176470588\n"
     ]
    },
    {
     "name": "stderr",
     "output_type": "stream",
     "text": [
      "/home/minhyuk/venv/lib/python3.7/site-packages/ipykernel_launcher.py:22: TqdmDeprecationWarning: This function will be removed in tqdm==5.0.0\n",
      "Please use `tqdm.notebook.tqdm` instead of `tqdm.tqdm_notebook`\n"
     ]
    },
    {
     "data": {
      "application/vnd.jupyter.widget-view+json": {
       "model_id": "8e21f50a78c94d0fb8ca0aa131feb4fa",
       "version_major": 2,
       "version_minor": 0
      },
      "text/plain": [
       "  0%|          | 0/15 [00:00<?, ?it/s]"
      ]
     },
     "metadata": {},
     "output_type": "display_data"
    },
    {
     "name": "stdout",
     "output_type": "stream",
     "text": [
      "epoch 1 test acc 0.7541666666666667\n"
     ]
    },
    {
     "data": {
      "application/vnd.jupyter.widget-view+json": {
       "model_id": "385c4ed382154c6eacd78642c27b6dcb",
       "version_major": 2,
       "version_minor": 0
      },
      "text/plain": [
       "  0%|          | 0/85 [00:00<?, ?it/s]"
      ]
     },
     "metadata": {},
     "output_type": "display_data"
    },
    {
     "name": "stdout",
     "output_type": "stream",
     "text": [
      "epoch 2 train acc 0.8102941176470588\n"
     ]
    },
    {
     "data": {
      "application/vnd.jupyter.widget-view+json": {
       "model_id": "6a87c602a34e427190d8fa8376ca0add",
       "version_major": 2,
       "version_minor": 0
      },
      "text/plain": [
       "  0%|          | 0/15 [00:00<?, ?it/s]"
      ]
     },
     "metadata": {},
     "output_type": "display_data"
    },
    {
     "name": "stdout",
     "output_type": "stream",
     "text": [
      "epoch 2 test acc 0.8583333333333333\n"
     ]
    },
    {
     "data": {
      "application/vnd.jupyter.widget-view+json": {
       "model_id": "925b4c3a099b4d51bf0aff6eeb32dba4",
       "version_major": 2,
       "version_minor": 0
      },
      "text/plain": [
       "  0%|          | 0/85 [00:00<?, ?it/s]"
      ]
     },
     "metadata": {},
     "output_type": "display_data"
    },
    {
     "name": "stdout",
     "output_type": "stream",
     "text": [
      "epoch 3 train acc 0.8985294117647059\n"
     ]
    },
    {
     "data": {
      "application/vnd.jupyter.widget-view+json": {
       "model_id": "4afd7dd9b9d245ec92f4cdd200901501",
       "version_major": 2,
       "version_minor": 0
      },
      "text/plain": [
       "  0%|          | 0/15 [00:00<?, ?it/s]"
      ]
     },
     "metadata": {},
     "output_type": "display_data"
    },
    {
     "name": "stdout",
     "output_type": "stream",
     "text": [
      "epoch 3 test acc 0.8208333333333333\n"
     ]
    },
    {
     "data": {
      "application/vnd.jupyter.widget-view+json": {
       "model_id": "87dc5152e2f943819d8d5580bb6c956e",
       "version_major": 2,
       "version_minor": 0
      },
      "text/plain": [
       "  0%|          | 0/85 [00:00<?, ?it/s]"
      ]
     },
     "metadata": {},
     "output_type": "display_data"
    },
    {
     "name": "stdout",
     "output_type": "stream",
     "text": [
      "epoch 4 train acc 0.9345588235294118\n"
     ]
    },
    {
     "data": {
      "application/vnd.jupyter.widget-view+json": {
       "model_id": "80be32ed43cc41cdaaab07c0ba35de1e",
       "version_major": 2,
       "version_minor": 0
      },
      "text/plain": [
       "  0%|          | 0/15 [00:00<?, ?it/s]"
      ]
     },
     "metadata": {},
     "output_type": "display_data"
    },
    {
     "name": "stdout",
     "output_type": "stream",
     "text": [
      "epoch 4 test acc 0.7916666666666666\n"
     ]
    },
    {
     "data": {
      "application/vnd.jupyter.widget-view+json": {
       "model_id": "d4e8f4c951204ec28f8bf53da30da9eb",
       "version_major": 2,
       "version_minor": 0
      },
      "text/plain": [
       "  0%|          | 0/85 [00:00<?, ?it/s]"
      ]
     },
     "metadata": {},
     "output_type": "display_data"
    },
    {
     "name": "stdout",
     "output_type": "stream",
     "text": [
      "epoch 5 train acc 0.9632352941176471\n"
     ]
    },
    {
     "data": {
      "application/vnd.jupyter.widget-view+json": {
       "model_id": "6069bc1019ac47e599192c524a2790c6",
       "version_major": 2,
       "version_minor": 0
      },
      "text/plain": [
       "  0%|          | 0/15 [00:00<?, ?it/s]"
      ]
     },
     "metadata": {},
     "output_type": "display_data"
    },
    {
     "name": "stdout",
     "output_type": "stream",
     "text": [
      "epoch 5 test acc 0.8708333333333333\n"
     ]
    },
    {
     "data": {
      "application/vnd.jupyter.widget-view+json": {
       "model_id": "a65ca0c0acad4aa2a62c4a2957b724c3",
       "version_major": 2,
       "version_minor": 0
      },
      "text/plain": [
       "  0%|          | 0/85 [00:00<?, ?it/s]"
      ]
     },
     "metadata": {},
     "output_type": "display_data"
    },
    {
     "name": "stdout",
     "output_type": "stream",
     "text": [
      "epoch 6 train acc 0.9794117647058823\n"
     ]
    },
    {
     "data": {
      "application/vnd.jupyter.widget-view+json": {
       "model_id": "91f104cb976f4555899de00af6b54c31",
       "version_major": 2,
       "version_minor": 0
      },
      "text/plain": [
       "  0%|          | 0/15 [00:00<?, ?it/s]"
      ]
     },
     "metadata": {},
     "output_type": "display_data"
    },
    {
     "name": "stdout",
     "output_type": "stream",
     "text": [
      "epoch 6 test acc 0.8708333333333333\n"
     ]
    },
    {
     "data": {
      "application/vnd.jupyter.widget-view+json": {
       "model_id": "62a28ed9282f4f6b80c11178a8ac4b0a",
       "version_major": 2,
       "version_minor": 0
      },
      "text/plain": [
       "  0%|          | 0/85 [00:00<?, ?it/s]"
      ]
     },
     "metadata": {},
     "output_type": "display_data"
    },
    {
     "name": "stdout",
     "output_type": "stream",
     "text": [
      "epoch 7 train acc 0.9911764705882353\n"
     ]
    },
    {
     "data": {
      "application/vnd.jupyter.widget-view+json": {
       "model_id": "3fdfec95bda64348bb2051213c5d677c",
       "version_major": 2,
       "version_minor": 0
      },
      "text/plain": [
       "  0%|          | 0/15 [00:00<?, ?it/s]"
      ]
     },
     "metadata": {},
     "output_type": "display_data"
    },
    {
     "name": "stdout",
     "output_type": "stream",
     "text": [
      "epoch 7 test acc 0.8916666666666667\n"
     ]
    },
    {
     "data": {
      "application/vnd.jupyter.widget-view+json": {
       "model_id": "33472d8abcfb49afaf47dc8972b75f25",
       "version_major": 2,
       "version_minor": 0
      },
      "text/plain": [
       "  0%|          | 0/85 [00:00<?, ?it/s]"
      ]
     },
     "metadata": {},
     "output_type": "display_data"
    },
    {
     "name": "stdout",
     "output_type": "stream",
     "text": [
      "epoch 8 train acc 0.9933823529411765\n"
     ]
    },
    {
     "data": {
      "application/vnd.jupyter.widget-view+json": {
       "model_id": "7002ed0e21564f798a9f3f44e72c0054",
       "version_major": 2,
       "version_minor": 0
      },
      "text/plain": [
       "  0%|          | 0/15 [00:00<?, ?it/s]"
      ]
     },
     "metadata": {},
     "output_type": "display_data"
    },
    {
     "name": "stdout",
     "output_type": "stream",
     "text": [
      "epoch 8 test acc 0.8875\n"
     ]
    },
    {
     "data": {
      "application/vnd.jupyter.widget-view+json": {
       "model_id": "24220c74442047eaad1e610f550b9ebb",
       "version_major": 2,
       "version_minor": 0
      },
      "text/plain": [
       "  0%|          | 0/85 [00:00<?, ?it/s]"
      ]
     },
     "metadata": {},
     "output_type": "display_data"
    },
    {
     "name": "stdout",
     "output_type": "stream",
     "text": [
      "epoch 9 train acc 0.9963235294117647\n"
     ]
    },
    {
     "data": {
      "application/vnd.jupyter.widget-view+json": {
       "model_id": "7114d264e993498f9216be7ff0250572",
       "version_major": 2,
       "version_minor": 0
      },
      "text/plain": [
       "  0%|          | 0/15 [00:00<?, ?it/s]"
      ]
     },
     "metadata": {},
     "output_type": "display_data"
    },
    {
     "name": "stdout",
     "output_type": "stream",
     "text": [
      "epoch 9 test acc 0.8958333333333334\n"
     ]
    },
    {
     "data": {
      "application/vnd.jupyter.widget-view+json": {
       "model_id": "f86bcd0b6cc048d69aa079b86293f73a",
       "version_major": 2,
       "version_minor": 0
      },
      "text/plain": [
       "  0%|          | 0/85 [00:00<?, ?it/s]"
      ]
     },
     "metadata": {},
     "output_type": "display_data"
    },
    {
     "name": "stdout",
     "output_type": "stream",
     "text": [
      "epoch 10 train acc 0.9963235294117647\n"
     ]
    },
    {
     "data": {
      "application/vnd.jupyter.widget-view+json": {
       "model_id": "7c35a97047e34b269f507a114b6b771b",
       "version_major": 2,
       "version_minor": 0
      },
      "text/plain": [
       "  0%|          | 0/15 [00:00<?, ?it/s]"
      ]
     },
     "metadata": {},
     "output_type": "display_data"
    },
    {
     "name": "stdout",
     "output_type": "stream",
     "text": [
      "epoch 10 test acc 0.8958333333333334\n"
     ]
    }
   ],
   "source": [
    "for e in range(num_epochs):\n",
    "    train_acc = 0.0\n",
    "    test_acc = 0.0\n",
    "    my_bertmodel_crawl.train()\n",
    "    for batch_id, (token_ids, valid_length, segment_ids, label) in enumerate(tqdm_notebook(train_dataloader_crawl)):\n",
    "        optimizer.zero_grad()\n",
    "        token_ids = token_ids.long().to(device)\n",
    "        segment_ids = segment_ids.long().to(device)\n",
    "        valid_length= valid_length\n",
    "        label = label.long().to(device)\n",
    "        out = my_bertmodel_crawl(token_ids, valid_length, segment_ids)\n",
    "        loss = loss_fn(out, label)\n",
    "        loss.backward()\n",
    "        torch.nn.utils.clip_grad_norm_(my_bertmodel_crawl.parameters(), max_grad_norm)\n",
    "        optimizer.step()\n",
    "        scheduler.step()  # Update learning rate schedule\n",
    "        train_acc += calc_accuracy(out, label)\n",
    "        # if batch_id % log_interval == 0:\n",
    "        #     print(\"epoch {} batch id {} loss {} train acc {}\".format(e+1, batch_id+1, loss.data.cpu().numpy(), train_acc / (batch_id+1)))\n",
    "    print(\"epoch {} train acc {}\".format(e+1, train_acc / (batch_id+1)))\n",
    "    my_bertmodel_crawl.eval()\n",
    "    for batch_id, (token_ids, valid_length, segment_ids, label) in enumerate(tqdm_notebook(test_dataloader_crawl)):\n",
    "        token_ids = token_ids.long().to(device)\n",
    "        segment_ids = segment_ids.long().to(device)\n",
    "        valid_length= valid_length\n",
    "        label = label.long().to(device)\n",
    "        out = my_bertmodel_crawl(token_ids, valid_length, segment_ids)\n",
    "        test_acc += calc_accuracy(out, label)\n",
    "    print(\"epoch {} test acc {}\".format(e+1, test_acc / (batch_id+1)))"
   ]
  },
  {
   "cell_type": "code",
   "execution_count": 31,
   "id": "871c29b4",
   "metadata": {},
   "outputs": [],
   "source": [
    "def softmax(vals, idx):\n",
    "    valscpu = vals.cpu().detach().squeeze(0)\n",
    "    a = 0\n",
    "    for i in valscpu:\n",
    "        a += np.exp(i)\n",
    "    return ((np.exp(valscpu[idx]))/a).item() * 100"
   ]
  },
  {
   "cell_type": "code",
   "execution_count": 32,
   "id": "4a4b3ff3",
   "metadata": {},
   "outputs": [],
   "source": [
    "def loadStockData(symbol, startDate, endDate):\n",
    "    df_stock = fdr.DataReader(symbol, startDate.isoformat(), endDate.isoformat())\n",
    "    df_stock = df_stock[['Close']]\n",
    "    df_stock['Fluctuation'] = df_stock['Close'].div(df_stock['Close'].shift(1)).apply(lambda x : (x - 1) * 100)\n",
    "    return df_stock"
   ]
  },
  {
   "cell_type": "code",
   "execution_count": 33,
   "id": "23b589e5",
   "metadata": {},
   "outputs": [],
   "source": [
    "def get_ticker(company_name):\n",
    "    return str(df_kospi.loc[df_kospi['Name'] == company_name]['Symbol'].values[0])"
   ]
  },
  {
   "cell_type": "code",
   "execution_count": 34,
   "id": "e1fef1ee",
   "metadata": {},
   "outputs": [],
   "source": [
    "def aggregateTitles(companyName, url):\n",
    "    resp = requests.get(url)\n",
    "    titles = []\n",
    "    cate = [\"정치\",\"경제\",\"사회\", \"생활/문화\",\"세계\",\"기술/IT\", \"연예\", \"스포츠\"]\n",
    "\n",
    "    for item in bs(resp.text, 'xml').find_all('item'):\n",
    "        title = item.title.string\n",
    "        source = item.source.string # 언론사\n",
    "        if(companyName in title):\n",
    "            newtitle = str(title.encode('utf-8'))\n",
    "            newtitle = re.sub(companyName,\"\",title)\n",
    "            tmp = [newtitle]\n",
    "            transform = nlp.data.BERTSentenceTransform(tok_crawl, max_len, pad=True, pair=False)\n",
    "            tokenized = transform(tmp)\n",
    "            \n",
    "            my_bertmodel_crawl.eval()\n",
    "            result = my_bertmodel_crawl(torch.tensor([tokenized[0]]).to(device), [tokenized[1]], torch.tensor(tokenized[2]).to(device))\n",
    "            idx = result.argmax().cpu().item()\n",
    "            if(idx==1 or idx==5):\n",
    "                titles.append(title[:title.find(source) - 3])\n",
    "\n",
    "    return ' '.join(titles)"
   ]
  },
  {
   "cell_type": "code",
   "execution_count": 35,
   "id": "e60d8e2d",
   "metadata": {},
   "outputs": [],
   "source": [
    "df_kospi = fdr.StockListing('KOSPI')\n",
    "mycompanyNum = get_ticker(companyName)\n",
    "df_stock = loadStockData(mycompanyNum, predictDate - datetime.timedelta(days=10), predictDate-datetime.timedelta(days=1))\n",
    "dateList = df_stock.index.map(lambda x: datetime.datetime.strftime(x, '%Y-%m-%d')).values\n",
    "country = ('ko', 'KR')"
   ]
  },
  {
   "cell_type": "code",
   "execution_count": 36,
   "id": "a57e8fc3",
   "metadata": {},
   "outputs": [
    {
     "name": "stderr",
     "output_type": "stream",
     "text": [
      "/home/minhyuk/venv/lib/python3.7/site-packages/ipykernel_launcher.py:17: UserWarning: Creating a tensor from a list of numpy.ndarrays is extremely slow. Please consider converting the list to a single numpy.ndarray with numpy.array() before converting to a tensor. (Triggered internally at  ../torch/csrc/utils/tensor_new.cpp:201.)\n"
     ]
    }
   ],
   "source": [
    "idx = 1\n",
    "while idx < len(dateList):\n",
    "    url = f'https://news.google.com/rss/search?q={companyName}+after:{dateList[idx - 1]}+before:{dateList[idx]}& \\\n",
    "            hl={country[0]}&gl={country[1]}&ceid={country[1]}:{country[0]}'\n",
    "    aggTitle = aggregateTitles(companyName, url)\n",
    "    idx += 1"
   ]
  },
  {
   "cell_type": "code",
   "execution_count": 37,
   "id": "d56c0ada",
   "metadata": {
    "scrolled": true
   },
   "outputs": [
    {
     "data": {
      "text/plain": [
       "'셀트리온 40만, SK바이오 33만 ... 제약·바이오株 움직이는 개미들 셀트리온, 지배구조 개편·파이프라인 추가…제2의 도약 밑그림 셀트리온 ‘렉키로나’ 한국·유럽 이어 호주서도 허가…주가 반등은 언제쯤? 셀트리온, 류머티즘 관절염약 \\'악템라\\' 바이오시밀러 개발 착수 에코프로비엠 시총 11.7조…1위 셀트리온헬스케어 바짝 추격 셀트리온, 3.19% 오르며 체결강도 강세 지속(199%) [7일 제약바이오 소식] 유한양행·LG화학·일동제약·셀트리온 셀트리온 코로나19 치료제 \\'렉키로나\\' 호주 조건부 허가 셀트리온제약, 3.00% 오르며 체결강도 강세 지속(181%) [공매도 TOP 10 종목] 코스닥, 현대바이오 공매도 1위, 셀트리온헬스케어-텔콘RF제약-씨아이에스 등 순위 올라 [한국증시 인기주식] 삼성전자 CEO프리미엄 입나, 셀트리온 내년 영업익 1조 전망, 카카오 내년 실적 전망치 상향 SK하이닉스·현대중·셀트리온...연말 대기업 채용문 ‘활짝’ [금일 의료·제약 주요기사]한미약품 \"폐암 신약 포지오티닙 미국 FDA 시판허가 신청\"...셀트리온, \\'렉키로나\\' 호주 조건부허가 획득 外 코스닥, 기관과 개인 매수에 상승 마감…천보, 에이치엘비, 알테오젠 상승 VS 위메이드, 펄어비스, 셀트리온헬스케어 하락'"
      ]
     },
     "execution_count": 37,
     "metadata": {},
     "output_type": "execute_result"
    }
   ],
   "source": [
    "aggTitle"
   ]
  },
  {
   "cell_type": "code",
   "execution_count": 40,
   "id": "ec6fdd41",
   "metadata": {},
   "outputs": [],
   "source": [
    "def testModel(model, seq):\n",
    "    cate = [\"대폭 하락\",\"소폭 하락\",\"소폭 상승\", \"대폭 상승\"]\n",
    "    tmp = [seq]\n",
    "    encoded_list = [tokenizer_price.encode(t,add_special_tokens=True) for t in tmp]\n",
    "    padded_list =  [e + [0] * (512-len(e)) for e in encoded_list]\n",
    "    sample = torch.tensor(padded_list)\n",
    "\n",
    "    labels = torch.tensor([1]).unsqueeze(0)\n",
    "    sample = sample.to(device)\n",
    "    labels = labels.to(device)\n",
    "    outputs = model(sample, labels=labels)\n",
    "    _, logits = outputs\n",
    "\n",
    "    pred = torch.argmax(F.softmax(logits), dim=1)\n",
    "\n",
    "    print(\"기사로 본 주가는:\", cate[pred], \", 신뢰도 {:.2f}%\".format(softmax(logits,pred)))"
   ]
  },
  {
   "cell_type": "code",
   "execution_count": 41,
   "id": "f1d902d0",
   "metadata": {},
   "outputs": [
    {
     "name": "stdout",
     "output_type": "stream",
     "text": [
      "기사로 본 주가는: 대폭 상승 , 신뢰도 27.20%\n"
     ]
    },
    {
     "name": "stderr",
     "output_type": "stream",
     "text": [
      "/home/minhyuk/venv/lib/python3.7/site-packages/ipykernel_launcher.py:14: UserWarning: Implicit dimension choice for softmax has been deprecated. Change the call to include dim=X as an argument.\n",
      "  \n"
     ]
    }
   ],
   "source": [
    "testModel(bertmodel_price, aggTitle)"
   ]
  },
  {
   "cell_type": "code",
   "execution_count": 42,
   "id": "793d83fa",
   "metadata": {},
   "outputs": [
    {
     "data": {
      "text/html": [
       "<div>\n",
       "<style scoped>\n",
       "    .dataframe tbody tr th:only-of-type {\n",
       "        vertical-align: middle;\n",
       "    }\n",
       "\n",
       "    .dataframe tbody tr th {\n",
       "        vertical-align: top;\n",
       "    }\n",
       "\n",
       "    .dataframe thead th {\n",
       "        text-align: right;\n",
       "    }\n",
       "</style>\n",
       "<table border=\"1\" class=\"dataframe\">\n",
       "  <thead>\n",
       "    <tr style=\"text-align: right;\">\n",
       "      <th></th>\n",
       "      <th>Open</th>\n",
       "      <th>High</th>\n",
       "      <th>Low</th>\n",
       "      <th>Close</th>\n",
       "      <th>Volume</th>\n",
       "      <th>Change</th>\n",
       "    </tr>\n",
       "    <tr>\n",
       "      <th>Date</th>\n",
       "      <th></th>\n",
       "      <th></th>\n",
       "      <th></th>\n",
       "      <th></th>\n",
       "      <th></th>\n",
       "      <th></th>\n",
       "    </tr>\n",
       "  </thead>\n",
       "  <tbody>\n",
       "    <tr>\n",
       "      <th>2005-07-19</th>\n",
       "      <td>5598</td>\n",
       "      <td>6433</td>\n",
       "      <td>5438</td>\n",
       "      <td>6439</td>\n",
       "      <td>499088</td>\n",
       "      <td>NaN</td>\n",
       "    </tr>\n",
       "    <tr>\n",
       "      <th>2005-07-20</th>\n",
       "      <td>6424</td>\n",
       "      <td>6424</td>\n",
       "      <td>5470</td>\n",
       "      <td>5475</td>\n",
       "      <td>422688</td>\n",
       "      <td>-0.149713</td>\n",
       "    </tr>\n",
       "    <tr>\n",
       "      <th>2005-07-21</th>\n",
       "      <td>5391</td>\n",
       "      <td>5499</td>\n",
       "      <td>4785</td>\n",
       "      <td>4798</td>\n",
       "      <td>182685</td>\n",
       "      <td>-0.123653</td>\n",
       "    </tr>\n",
       "    <tr>\n",
       "      <th>2005-07-22</th>\n",
       "      <td>4884</td>\n",
       "      <td>4884</td>\n",
       "      <td>4617</td>\n",
       "      <td>4664</td>\n",
       "      <td>69921</td>\n",
       "      <td>-0.027928</td>\n",
       "    </tr>\n",
       "    <tr>\n",
       "      <th>2005-07-25</th>\n",
       "      <td>4587</td>\n",
       "      <td>4967</td>\n",
       "      <td>4587</td>\n",
       "      <td>4723</td>\n",
       "      <td>61036</td>\n",
       "      <td>0.012650</td>\n",
       "    </tr>\n",
       "    <tr>\n",
       "      <th>...</th>\n",
       "      <td>...</td>\n",
       "      <td>...</td>\n",
       "      <td>...</td>\n",
       "      <td>...</td>\n",
       "      <td>...</td>\n",
       "      <td>...</td>\n",
       "    </tr>\n",
       "    <tr>\n",
       "      <th>2021-12-02</th>\n",
       "      <td>210000</td>\n",
       "      <td>214000</td>\n",
       "      <td>206500</td>\n",
       "      <td>213000</td>\n",
       "      <td>522300</td>\n",
       "      <td>0.007092</td>\n",
       "    </tr>\n",
       "    <tr>\n",
       "      <th>2021-12-03</th>\n",
       "      <td>211000</td>\n",
       "      <td>212500</td>\n",
       "      <td>206500</td>\n",
       "      <td>210500</td>\n",
       "      <td>633417</td>\n",
       "      <td>-0.011737</td>\n",
       "    </tr>\n",
       "    <tr>\n",
       "      <th>2021-12-06</th>\n",
       "      <td>208000</td>\n",
       "      <td>210500</td>\n",
       "      <td>205000</td>\n",
       "      <td>206500</td>\n",
       "      <td>560276</td>\n",
       "      <td>-0.019002</td>\n",
       "    </tr>\n",
       "    <tr>\n",
       "      <th>2021-12-07</th>\n",
       "      <td>206500</td>\n",
       "      <td>206500</td>\n",
       "      <td>201000</td>\n",
       "      <td>203500</td>\n",
       "      <td>691681</td>\n",
       "      <td>-0.014528</td>\n",
       "    </tr>\n",
       "    <tr>\n",
       "      <th>2021-12-08</th>\n",
       "      <td>204500</td>\n",
       "      <td>210000</td>\n",
       "      <td>204500</td>\n",
       "      <td>207500</td>\n",
       "      <td>622591</td>\n",
       "      <td>0.019656</td>\n",
       "    </tr>\n",
       "  </tbody>\n",
       "</table>\n",
       "<p>4055 rows × 6 columns</p>\n",
       "</div>"
      ],
      "text/plain": [
       "              Open    High     Low   Close  Volume    Change\n",
       "Date                                                        \n",
       "2005-07-19    5598    6433    5438    6439  499088       NaN\n",
       "2005-07-20    6424    6424    5470    5475  422688 -0.149713\n",
       "2005-07-21    5391    5499    4785    4798  182685 -0.123653\n",
       "2005-07-22    4884    4884    4617    4664   69921 -0.027928\n",
       "2005-07-25    4587    4967    4587    4723   61036  0.012650\n",
       "...            ...     ...     ...     ...     ...       ...\n",
       "2021-12-02  210000  214000  206500  213000  522300  0.007092\n",
       "2021-12-03  211000  212500  206500  210500  633417 -0.011737\n",
       "2021-12-06  208000  210500  205000  206500  560276 -0.019002\n",
       "2021-12-07  206500  206500  201000  203500  691681 -0.014528\n",
       "2021-12-08  204500  210000  204500  207500  622591  0.019656\n",
       "\n",
       "[4055 rows x 6 columns]"
      ]
     },
     "execution_count": 42,
     "metadata": {},
     "output_type": "execute_result"
    }
   ],
   "source": [
    "mycompany = fdr.DataReader(mycompanyNum)\n",
    "mycompany"
   ]
  },
  {
   "cell_type": "code",
   "execution_count": 43,
   "id": "184b8ad3",
   "metadata": {},
   "outputs": [
    {
     "name": "stderr",
     "output_type": "stream",
     "text": [
      "/home/minhyuk/venv/lib/python3.7/site-packages/ipykernel_launcher.py:3: SettingWithCopyWarning: \n",
      "A value is trying to be set on a copy of a slice from a DataFrame.\n",
      "Try using .loc[row_indexer,col_indexer] = value instead\n",
      "\n",
      "See the caveats in the documentation: https://pandas.pydata.org/pandas-docs/stable/user_guide/indexing.html#returning-a-view-versus-a-copy\n",
      "  This is separate from the ipykernel package so we can avoid doing imports until\n"
     ]
    },
    {
     "data": {
      "text/html": [
       "<div>\n",
       "<style scoped>\n",
       "    .dataframe tbody tr th:only-of-type {\n",
       "        vertical-align: middle;\n",
       "    }\n",
       "\n",
       "    .dataframe tbody tr th {\n",
       "        vertical-align: top;\n",
       "    }\n",
       "\n",
       "    .dataframe thead th {\n",
       "        text-align: right;\n",
       "    }\n",
       "</style>\n",
       "<table border=\"1\" class=\"dataframe\">\n",
       "  <thead>\n",
       "    <tr style=\"text-align: right;\">\n",
       "      <th></th>\n",
       "      <th>Close</th>\n",
       "    </tr>\n",
       "    <tr>\n",
       "      <th>Date</th>\n",
       "      <th></th>\n",
       "    </tr>\n",
       "  </thead>\n",
       "  <tbody>\n",
       "    <tr>\n",
       "      <th>2005-07-19</th>\n",
       "      <td>-0.976959</td>\n",
       "    </tr>\n",
       "    <tr>\n",
       "      <th>2005-07-20</th>\n",
       "      <td>-0.981848</td>\n",
       "    </tr>\n",
       "    <tr>\n",
       "      <th>2005-07-21</th>\n",
       "      <td>-0.985282</td>\n",
       "    </tr>\n",
       "    <tr>\n",
       "      <th>2005-07-22</th>\n",
       "      <td>-0.985961</td>\n",
       "    </tr>\n",
       "    <tr>\n",
       "      <th>2005-07-25</th>\n",
       "      <td>-0.985662</td>\n",
       "    </tr>\n",
       "    <tr>\n",
       "      <th>...</th>\n",
       "      <td>...</td>\n",
       "    </tr>\n",
       "    <tr>\n",
       "      <th>2021-12-02</th>\n",
       "      <td>0.070659</td>\n",
       "    </tr>\n",
       "    <tr>\n",
       "      <th>2021-12-03</th>\n",
       "      <td>0.057980</td>\n",
       "    </tr>\n",
       "    <tr>\n",
       "      <th>2021-12-06</th>\n",
       "      <td>0.037693</td>\n",
       "    </tr>\n",
       "    <tr>\n",
       "      <th>2021-12-07</th>\n",
       "      <td>0.022478</td>\n",
       "    </tr>\n",
       "    <tr>\n",
       "      <th>2021-12-08</th>\n",
       "      <td>0.042765</td>\n",
       "    </tr>\n",
       "  </tbody>\n",
       "</table>\n",
       "<p>4055 rows × 1 columns</p>\n",
       "</div>"
      ],
      "text/plain": [
       "               Close\n",
       "Date                \n",
       "2005-07-19 -0.976959\n",
       "2005-07-20 -0.981848\n",
       "2005-07-21 -0.985282\n",
       "2005-07-22 -0.985961\n",
       "2005-07-25 -0.985662\n",
       "...              ...\n",
       "2021-12-02  0.070659\n",
       "2021-12-03  0.057980\n",
       "2021-12-06  0.037693\n",
       "2021-12-07  0.022478\n",
       "2021-12-08  0.042765\n",
       "\n",
       "[4055 rows x 1 columns]"
      ]
     },
     "execution_count": 43,
     "metadata": {},
     "output_type": "execute_result"
    }
   ],
   "source": [
    "price = mycompany[['Close']]\n",
    "scaler = MinMaxScaler(feature_range=(-1, 1))\n",
    "price['Close'] = scaler.fit_transform(price['Close'].values.reshape(-1,1))\n",
    "price"
   ]
  },
  {
   "cell_type": "code",
   "execution_count": 44,
   "id": "0e1eab1c",
   "metadata": {},
   "outputs": [
    {
     "name": "stdout",
     "output_type": "stream",
     "text": [
      "x_train.shape =  (3228, 19, 1)\n",
      "y_train.shape =  (3228, 1)\n",
      "x_test.shape =  (807, 19, 1)\n",
      "y_test.shape =  (807, 1)\n"
     ]
    }
   ],
   "source": [
    "def split_data(stock, lookback):\n",
    "    data_raw = stock.to_numpy() # convert to numpy array\n",
    "    data = []\n",
    "    \n",
    "    # create all possible sequences of length seq_len\n",
    "    for index in range(len(data_raw) - lookback): \n",
    "        data.append(data_raw[index: index + lookback])\n",
    "    \n",
    "    data = np.array(data);\n",
    "    test_set_size = int(np.round(0.2*data.shape[0]));\n",
    "    train_set_size = data.shape[0] - (test_set_size);\n",
    "    \n",
    "    x_train = data[:train_set_size,:-1,:]\n",
    "    y_train = data[:train_set_size,-1,:]\n",
    "    \n",
    "    x_test = data[train_set_size:,:-1]\n",
    "    y_test = data[train_set_size:,-1,:]\n",
    "    \n",
    "    return [x_train, y_train, x_test, y_test]\n",
    "\n",
    "lookback = 20 # choose sequence length\n",
    "x_train, y_train, x_test, y_test = split_data(price, lookback)\n",
    "print('x_train.shape = ',x_train.shape)\n",
    "print('y_train.shape = ',y_train.shape)\n",
    "print('x_test.shape = ',x_test.shape)\n",
    "print('y_test.shape = ',y_test.shape)"
   ]
  },
  {
   "cell_type": "code",
   "execution_count": 45,
   "id": "360c74a1",
   "metadata": {},
   "outputs": [],
   "source": [
    "x_train = torch.from_numpy(x_train).type(torch.Tensor)\n",
    "x_test = torch.from_numpy(x_test).type(torch.Tensor)\n",
    "y_train_lstm = torch.from_numpy(y_train).type(torch.Tensor)\n",
    "y_test_lstm = torch.from_numpy(y_test).type(torch.Tensor)"
   ]
  },
  {
   "cell_type": "code",
   "execution_count": 46,
   "id": "e2212539",
   "metadata": {},
   "outputs": [],
   "source": [
    "input_dim = 1\n",
    "hidden_dim = 32\n",
    "num_layers = 2\n",
    "output_dim = 1\n",
    "num_epochs = 100"
   ]
  },
  {
   "cell_type": "code",
   "execution_count": 47,
   "id": "1cabab4f",
   "metadata": {},
   "outputs": [],
   "source": [
    "class LSTM(nn.Module):\n",
    "    def __init__(self, input_dim, hidden_dim, num_layers, output_dim):\n",
    "        super(LSTM, self).__init__()\n",
    "        self.hidden_dim = hidden_dim\n",
    "        self.num_layers = num_layers\n",
    "        \n",
    "        self.lstm = nn.LSTM(input_dim, hidden_dim, num_layers, batch_first=True)\n",
    "        self.fc = nn.Linear(hidden_dim, output_dim)\n",
    "    def forward(self, x):\n",
    "        h0 = torch.zeros(self.num_layers, x.size(0), self.hidden_dim).requires_grad_()\n",
    "        c0 = torch.zeros(self.num_layers, x.size(0), self.hidden_dim).requires_grad_()\n",
    "        out, (hn, cn) = self.lstm(x, (h0.detach(), c0.detach()))\n",
    "        out = self.fc(out[:, -1, :]) \n",
    "        return out"
   ]
  },
  {
   "cell_type": "code",
   "execution_count": 48,
   "id": "7b99224e",
   "metadata": {},
   "outputs": [],
   "source": [
    "model = LSTM(input_dim=input_dim, hidden_dim=hidden_dim, output_dim=output_dim, num_layers=num_layers)\n",
    "criterion = torch.nn.MSELoss(reduction='mean')\n",
    "optimizer = torch.optim.Adam(model.parameters(), lr=0.01)"
   ]
  },
  {
   "cell_type": "code",
   "execution_count": 49,
   "id": "9679499e",
   "metadata": {},
   "outputs": [
    {
     "name": "stdout",
     "output_type": "stream",
     "text": [
      "Epoch  0 MSE:  0.5367945432662964\n",
      "Epoch  1 MSE:  0.3447377681732178\n",
      "Epoch  2 MSE:  0.17068733274936676\n",
      "Epoch  3 MSE:  0.08807312697172165\n",
      "Epoch  4 MSE:  0.1460975855588913\n",
      "Epoch  5 MSE:  0.0775093361735344\n",
      "Epoch  6 MSE:  0.08181560039520264\n",
      "Epoch  7 MSE:  0.09765838086605072\n",
      "Epoch  8 MSE:  0.09971487522125244\n",
      "Epoch  9 MSE:  0.08960913866758347\n",
      "Epoch  10 MSE:  0.07493787258863449\n",
      "Epoch  11 MSE:  0.06433280557394028\n",
      "Epoch  12 MSE:  0.06379064172506332\n",
      "Epoch  13 MSE:  0.06988836079835892\n",
      "Epoch  14 MSE:  0.07024939358234406\n",
      "Epoch  15 MSE:  0.06067483127117157\n",
      "Epoch  16 MSE:  0.04937398433685303\n",
      "Epoch  17 MSE:  0.04291161894798279\n",
      "Epoch  18 MSE:  0.040364619344472885\n",
      "Epoch  19 MSE:  0.03682396188378334\n",
      "Epoch  20 MSE:  0.02808198891580105\n",
      "Epoch  21 MSE:  0.014881791546940804\n",
      "Epoch  22 MSE:  0.005814187694340944\n",
      "Epoch  23 MSE:  0.0080427136272192\n",
      "Epoch  24 MSE:  0.010550533421337605\n",
      "Epoch  25 MSE:  0.02085641212761402\n",
      "Epoch  26 MSE:  0.009735011495649815\n",
      "Epoch  27 MSE:  0.006548397708684206\n",
      "Epoch  28 MSE:  0.005325822159647942\n",
      "Epoch  29 MSE:  0.005632542539387941\n",
      "Epoch  30 MSE:  0.007179873995482922\n",
      "Epoch  31 MSE:  0.008317328058183193\n",
      "Epoch  32 MSE:  0.008201699703931808\n",
      "Epoch  33 MSE:  0.007298995275050402\n",
      "Epoch  34 MSE:  0.006658187601715326\n",
      "Epoch  35 MSE:  0.00683048740029335\n",
      "Epoch  36 MSE:  0.007275218144059181\n",
      "Epoch  37 MSE:  0.007011551409959793\n",
      "Epoch  38 MSE:  0.005923304241150618\n",
      "Epoch  39 MSE:  0.004883312154561281\n",
      "Epoch  40 MSE:  0.004518592264503241\n",
      "Epoch  41 MSE:  0.004460697062313557\n",
      "Epoch  42 MSE:  0.003970112185925245\n",
      "Epoch  43 MSE:  0.002972985152155161\n",
      "Epoch  44 MSE:  0.0022071388084441423\n",
      "Epoch  45 MSE:  0.002149157924577594\n",
      "Epoch  46 MSE:  0.0021521146409213543\n",
      "Epoch  47 MSE:  0.0016489085974171758\n",
      "Epoch  48 MSE:  0.0013691701460629702\n",
      "Epoch  49 MSE:  0.0016769515350461006\n",
      "Epoch  50 MSE:  0.0016765343025326729\n",
      "Epoch  51 MSE:  0.001291542430408299\n",
      "Epoch  52 MSE:  0.0014101339038461447\n",
      "Epoch  53 MSE:  0.001611366868019104\n",
      "Epoch  54 MSE:  0.0013243637513369322\n",
      "Epoch  55 MSE:  0.0013159228255972266\n",
      "Epoch  56 MSE:  0.0014752194983884692\n",
      "Epoch  57 MSE:  0.0012481302255764604\n",
      "Epoch  58 MSE:  0.0010966415284201503\n",
      "Epoch  59 MSE:  0.0011595838004723191\n",
      "Epoch  60 MSE:  0.0009797504171729088\n",
      "Epoch  61 MSE:  0.0008080209954641759\n",
      "Epoch  62 MSE:  0.0008716542506590486\n",
      "Epoch  63 MSE:  0.0008621581364423037\n",
      "Epoch  64 MSE:  0.0007916330941952765\n",
      "Epoch  65 MSE:  0.0008547346806153655\n",
      "Epoch  66 MSE:  0.0008772105211392045\n",
      "Epoch  67 MSE:  0.0007825276115909219\n",
      "Epoch  68 MSE:  0.0007734159589745104\n",
      "Epoch  69 MSE:  0.0008229617960751057\n",
      "Epoch  70 MSE:  0.00079975591506809\n",
      "Epoch  71 MSE:  0.0007840210455469787\n",
      "Epoch  72 MSE:  0.0008126175380311906\n",
      "Epoch  73 MSE:  0.0007776265847496688\n",
      "Epoch  74 MSE:  0.000720649550203234\n",
      "Epoch  75 MSE:  0.0007270678761415184\n",
      "Epoch  76 MSE:  0.0007250549970194697\n",
      "Epoch  77 MSE:  0.0006976487347856164\n",
      "Epoch  78 MSE:  0.0007064603269100189\n",
      "Epoch  79 MSE:  0.0007031529094092548\n",
      "Epoch  80 MSE:  0.0006701095844618976\n",
      "Epoch  81 MSE:  0.0006733614136464894\n",
      "Epoch  82 MSE:  0.0006819273694418371\n",
      "Epoch  83 MSE:  0.0006709052831865847\n",
      "Epoch  84 MSE:  0.0006807369063608348\n",
      "Epoch  85 MSE:  0.0006830652127973735\n",
      "Epoch  86 MSE:  0.0006660214276053011\n",
      "Epoch  87 MSE:  0.0006677089841105044\n",
      "Epoch  88 MSE:  0.0006664066459052265\n",
      "Epoch  89 MSE:  0.000657202152069658\n",
      "Epoch  90 MSE:  0.0006616705213673413\n",
      "Epoch  91 MSE:  0.0006568086100742221\n",
      "Epoch  92 MSE:  0.0006458680145442486\n",
      "Epoch  93 MSE:  0.0006460290169343352\n",
      "Epoch  94 MSE:  0.0006414374802261591\n",
      "Epoch  95 MSE:  0.0006377519457601011\n",
      "Epoch  96 MSE:  0.0006410952191799879\n",
      "Epoch  97 MSE:  0.000637174816802144\n",
      "Epoch  98 MSE:  0.0006335246725939214\n",
      "Epoch  99 MSE:  0.000634075840935111\n",
      "Training time: 11.012609481811523\n"
     ]
    }
   ],
   "source": [
    "hist = np.zeros(num_epochs)\n",
    "start_time = time.time()\n",
    "lstm = []\n",
    "for t in range(num_epochs):\n",
    "    y_train_pred = model(x_train)\n",
    "    loss = criterion(y_train_pred, y_train_lstm)\n",
    "    print(\"Epoch \", t, \"MSE: \", loss.item())\n",
    "    hist[t] = loss.item()\n",
    "    optimizer.zero_grad()\n",
    "    loss.backward()\n",
    "    optimizer.step()\n",
    "    \n",
    "training_time = time.time()-start_time\n",
    "print(\"Training time: {}\".format(training_time))"
   ]
  },
  {
   "cell_type": "code",
   "execution_count": 50,
   "id": "847efdef",
   "metadata": {},
   "outputs": [],
   "source": [
    "predict = pd.DataFrame(scaler.inverse_transform(y_train_pred.detach().numpy()))\n",
    "original = pd.DataFrame(scaler.inverse_transform(y_train_lstm.detach().numpy()))"
   ]
  },
  {
   "cell_type": "code",
   "execution_count": 51,
   "id": "a7c3ca28",
   "metadata": {},
   "outputs": [
    {
     "data": {
      "image/png": "[encoded data removed]",
      "text/plain": [
       "<Figure size 1152x432 with 2 Axes>"
      ]
     },
     "metadata": {},
     "output_type": "display_data"
    }
   ],
   "source": [
    "sns.set_style(\"darkgrid\")    \n",
    "\n",
    "fig = plt.figure()\n",
    "fig.subplots_adjust(hspace=0.2, wspace=0.2)\n",
    "\n",
    "plt.subplot(1, 2, 1)\n",
    "ax = sns.lineplot(x = original.index, y = original[0], label=\"Data\", color='royalblue')\n",
    "ax = sns.lineplot(x = predict.index, y = predict[0], label=\"Training Prediction (LSTM)\", color='tomato')\n",
    "ax.set_title('Stock price', size = 14, fontweight='bold')\n",
    "ax.set_xlabel(\"Days\", size = 14)\n",
    "ax.set_ylabel(\"Cost (Won)\", size = 14)\n",
    "ax.set_xticklabels('', size=10)\n",
    "\n",
    "\n",
    "plt.subplot(1, 2, 2)\n",
    "ax = sns.lineplot(data=hist, color='royalblue')\n",
    "ax.set_xlabel(\"Epoch\", size = 14)\n",
    "ax.set_ylabel(\"Loss\", size = 14)\n",
    "ax.set_title(\"Training Loss\", size = 14, fontweight='bold')\n",
    "fig.set_figheight(6)\n",
    "fig.set_figwidth(16)"
   ]
  },
  {
   "cell_type": "code",
   "execution_count": 52,
   "id": "b62575ba",
   "metadata": {},
   "outputs": [
    {
     "name": "stdout",
     "output_type": "stream",
     "text": [
      "Train Score: 4964.96 RMSE\n",
      "Test Score: 13215.76 RMSE\n"
     ]
    }
   ],
   "source": [
    "# make predictions\n",
    "y_test_pred = model(x_test)\n",
    "\n",
    "# invert predictions\n",
    "y_train_pred = scaler.inverse_transform(y_train_pred.detach().numpy())\n",
    "y_train = scaler.inverse_transform(y_train_lstm.detach().numpy())\n",
    "y_test_pred = scaler.inverse_transform(y_test_pred.detach().numpy())\n",
    "y_test = scaler.inverse_transform(y_test_lstm.detach().numpy())\n",
    "\n",
    "# calculate root mean squared error\n",
    "trainScore = math.sqrt(mean_squared_error(y_train[:,0], y_train_pred[:,0]))\n",
    "print('Train Score: %.2f RMSE' % (trainScore))\n",
    "testScore = math.sqrt(mean_squared_error(y_test[:,0], y_test_pred[:,0]))\n",
    "print('Test Score: %.2f RMSE' % (testScore))\n",
    "lstm.append(trainScore)\n",
    "lstm.append(testScore)\n",
    "lstm.append(training_time)"
   ]
  },
  {
   "cell_type": "code",
   "execution_count": 53,
   "id": "88f8dacf",
   "metadata": {
    "scrolled": true
   },
   "outputs": [
    {
     "data": {
      "text/plain": [
       "Text(0, 0.5, 'Cost (Won)')"
      ]
     },
     "execution_count": 53,
     "metadata": {},
     "output_type": "execute_result"
    },
    {
     "data": {
      "image/png": "[encoded data removed]",
      "text/plain": [
       "<Figure size 864x648 with 1 Axes>"
      ]
     },
     "metadata": {},
     "output_type": "display_data"
    }
   ],
   "source": [
    "sns.set_style(\"darkgrid\")    \n",
    "\n",
    "plt.figure(figsize=(12, 9))\n",
    "predict_test = pd.DataFrame(y_test_pred)\n",
    "original_test = pd.DataFrame(y_test)\n",
    "ax = sns.lineplot(x = original_test.index, y = original_test[0], label=\"Test Data\", color='royalblue')\n",
    "ax = sns.lineplot(x = predict_test.index, y = predict_test[0], label=\"Test Prediction (LSTM)\", color='tomato')\n",
    "ax.set_title('Stock price', size = 14, fontweight='bold')\n",
    "ax.set_xlabel(\"Days\", size = 14)\n",
    "ax.set_ylabel(\"Cost (Won)\", size = 14)"
   ]
  },
  {
   "cell_type": "code",
   "execution_count": 54,
   "id": "966fe9d0",
   "metadata": {},
   "outputs": [],
   "source": [
    "def classifyFluctuation(fluctuation):\n",
    "    if fluctuation < -2.5:\n",
    "        return 0\n",
    "    elif fluctuation < 0:\n",
    "        return 1\n",
    "    elif fluctuation < 2.5:\n",
    "        return 2\n",
    "    else:\n",
    "        return 3"
   ]
  },
  {
   "cell_type": "code",
   "execution_count": 55,
   "id": "5a27ed6d",
   "metadata": {},
   "outputs": [
    {
     "name": "stdout",
     "output_type": "stream",
     "text": [
      "차트로 본 주가는: 소폭 상승 , 예측가 208706.17원\n",
      "기사로 본 주가는: 대폭 상승 , 신뢰도 27.20%\n"
     ]
    },
    {
     "name": "stderr",
     "output_type": "stream",
     "text": [
      "/home/minhyuk/venv/lib/python3.7/site-packages/ipykernel_launcher.py:9: SettingWithCopyWarning: \n",
      "A value is trying to be set on a copy of a slice from a DataFrame.\n",
      "Try using .loc[row_indexer,col_indexer] = value instead\n",
      "\n",
      "See the caveats in the documentation: https://pandas.pydata.org/pandas-docs/stable/user_guide/indexing.html#returning-a-view-versus-a-copy\n",
      "  if __name__ == '__main__':\n",
      "/home/minhyuk/venv/lib/python3.7/site-packages/ipykernel_launcher.py:14: UserWarning: Implicit dimension choice for softmax has been deprecated. Change the call to include dim=X as an argument.\n",
      "  \n"
     ]
    }
   ],
   "source": [
    "#companyName = 'LG전자'\n",
    "#mycompanyNum = get_ticker(companyName)\n",
    "#predictDate = datetime.date(2021 , 12, 7)\n",
    "\n",
    "forpredict = fdr.DataReader(mycompanyNum, predictDate - datetime.timedelta(days=40), predictDate- datetime.timedelta(days=1))\n",
    "forpredict = forpredict[-19:]\n",
    "price_apply = forpredict[['Close']]\n",
    "scaler = MinMaxScaler(feature_range=(-1, 1))\n",
    "price_apply['Close'] = scaler.fit_transform(price_apply['Close'].values.reshape(-1,1))\n",
    "\n",
    "data_raw = price_apply.to_numpy()\n",
    "myset = torch.from_numpy(data_raw).type(torch.Tensor)\n",
    "myset = myset.unsqueeze(dim=0)\n",
    "myresult = model(myset)\n",
    "myresult_price = scaler.inverse_transform(myresult.detach().numpy())\n",
    "\n",
    "mytoday = myresult_price[0][0]\n",
    "myyesterday = fdr.DataReader(mycompanyNum,predictDate-datetime.timedelta(days=1))['Close'][0]\n",
    "myfluc = (mytoday-myyesterday)/(myyesterday)*100\n",
    "\n",
    "cate = [\"대폭 하락\",\"소폭 하락\",\"소폭 상승\", \"대폭 상승\"]\n",
    "print(\"차트로 본 주가는:\", cate[classifyFluctuation(myfluc)],\", 예측가 {:.2f}원\".format(mytoday))\n",
    "testModel(bertmodel_price, aggTitle)"
   ]
  }
 ],
 "metadata": {
  "kernelspec": {
   "display_name": "Python 3 (ipykernel)",
   "language": "python",
   "name": "python3"
  },
  "language_info": {
   "codemirror_mode": {
    "name": "ipython",
    "version": 3
   },
   "file_extension": ".py",
   "mimetype": "text/x-python",
   "name": "python",
   "nbconvert_exporter": "python",
   "pygments_lexer": "ipython3",
   "version": "3.7.12"
  }
 },
 "nbformat": 4,
 "nbformat_minor": 5
}
